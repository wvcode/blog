{
 "cells": [
  {
   "cell_type": "raw",
   "metadata": {
    "vscode": {
     "languageId": "raw"
    }
   },
   "source": [
    "---\n",
    "title: \"[VDP] Aula 13 - Visualizando Wordclouds\"\n",
    "author: \"Walter R. Paixão-Côrtes\"\n",
    "date: \"2023-02-15\"\n",
    "categories: [Visualização, Python, Pandas, Wordcloud]\n",
    "image: /library/concepts/programming_practice.jpg\n",
    "toc: true\n",
    "description: Extraindo significado de variáveis de texto\n",
    "draft: true\n",
    "\n",
    "---"
   ]
  },
  {
   "attachments": {},
   "cell_type": "markdown",
   "metadata": {},
   "source": [
    "## Introdução"
   ]
  },
  {
   "attachments": {},
   "cell_type": "markdown",
   "metadata": {},
   "source": [
    "Olá Cientista de Dados! \n",
    "\n",
    "Nesta aula, vamos explorar uma técnica para analisar variáveis qualitativas."
   ]
  },
  {
   "attachments": {},
   "cell_type": "markdown",
   "metadata": {},
   "source": [
    "## Problema"
   ]
  },
  {
   "attachments": {},
   "cell_type": "markdown",
   "metadata": {},
   "source": [
    "Foi solicitado que você faça uma análise comparativa dos pokemons baseados em seu poder de ataque. Naturalmente, pensamos que um simples gráfico de barras ou colunas pode resolver essa situação, mas com o grande número de pokemons que temos (˜1000) o gráfico ficaria muito extenso. Então, como mostrar essa comparação?\n",
    "\n",
    "Entra aí a word cloud, ou nuvem de palavras. A nuvem de palavras vai mostrar palavras com tamanho variável, geralmente de acordo com a frequência da ocorrência da palavra no corpo de texto. Então, vamos considerar que o nosso corpo de texto é a lista de nomes de pokemon, e o poder ataque indica a frequência de cada um. Se formatado corretamente, podemos utilizar e garantimos que todos os pokemons aparecerão em uma tela.\n",
    "\n",
    "Mas o seaborn faz isso? Não, teremos que introduzir mais uma biblioteca, desta vez chamada wordcloud. No código abaixo, acompanhe o passo a passo para gerar a word cloud."
   ]
  },
  {
   "attachments": {},
   "cell_type": "markdown",
   "metadata": {},
   "source": [
    "## Passo a Passo"
   ]
  },
  {
   "attachments": {},
   "cell_type": "markdown",
   "metadata": {},
   "source": [
    "Vamos compor nossa solução, pedaço por pedaço. Como sempre, o primeiro passo é carregar nossas bibliotecas. Como a biblioteca wordcloud é nova, antes precisamos instala-la. Isso é feito com o seguinte comando:\n",
    "\n",
    "```shell\n",
    "$ pip install wordcloud\n",
    "```"
   ]
  },
  {
   "cell_type": "code",
   "execution_count": null,
   "metadata": {},
   "outputs": [],
   "source": [
    "import matplotlib.pyplot as plt\n",
    "import pandas as pd\n",
    "import seaborn as sns\n",
    "# Biblioteca wordcloud - No google colab ela já está disponível. \n",
    "# Se for usar em seu computador, instale antes com o seguinte comando:\n",
    "# pip install wordcloud\n",
    "from wordcloud import STOPWORDS, ImageColorGenerator, WordCloud"
   ]
  },
  {
   "attachments": {},
   "cell_type": "markdown",
   "metadata": {},
   "source": [
    "Agora, vamos a configuração."
   ]
  },
  {
   "cell_type": "code",
   "execution_count": 2,
   "metadata": {},
   "outputs": [],
   "source": [
    "# Definindo a nossa paleta de cores - vamos utilizar nossas próprias cores\n",
    "cores = [\"#0c4f6a\", \"#177498\", \"#0a8faa\", \"#bfdce5\", \"#82bd4a\", \"#b8d67a\",\n",
    "         \"#b2b3b6\", \"#58585a\", \"#edb634\", \"#d97933\", \"#f1bdb1\", \"#eca091\",\n",
    "         \"#e26c54\", \"#b0391e\"]\n",
    "\n",
    "# Tamanho da Imagem\n",
    "# Este tamanho é em polegadas\n",
    "# O primeiro valor é Largura e o segundo, Altura\n",
    "plt.rcParams[\"figure.figsize\"]=(12,12)\n",
    "\n",
    "# Resolução da Imagem\n",
    "# 300 dpi é o padrão mínimo para impressão\n",
    "# Aqui vamos usar um pouco menos\n",
    "plt.rcParams[\"figure.dpi\"] = 300\n",
    "plt.rcParams[\"savefig.dpi\"] = 300\n",
    "plt.rcParams[\"savefig.format\"] = \"svg\"\n",
    "\n",
    "# Removendo Bordas em torno do gráfico\n",
    "plt.rcParams[\"axes.spines.right\"] = False\n",
    "plt.rcParams[\"axes.spines.top\"] = False\n",
    "plt.rcParams[\"axes.spines.bottom\"] = False\n",
    "plt.rcParams[\"axes.spines.left\"] = False\n",
    "\n",
    "# Carregando a paleta de cores\n",
    "sns.set_palette(sns.color_palette(cores))"
   ]
  },
  {
   "attachments": {},
   "cell_type": "markdown",
   "metadata": {},
   "source": [
    "A próxima etapa é carregar os dados."
   ]
  },
  {
   "cell_type": "code",
   "execution_count": null,
   "metadata": {},
   "outputs": [],
   "source": [
    "# carregando os dados da internet\n",
    "df = pd.read_csv('https://github.com/labeduc/datasets/blob/main/pokemons/all.csv?raw=true')\n",
    "\n",
    "df.sample(5)"
   ]
  },
  {
   "attachments": {},
   "cell_type": "markdown",
   "metadata": {},
   "source": [
    "E o último passo antes de plotar o gráfico é transformar os dados. A transformação que iremos fazer é a seguinte: para cada pokemon, temos o poder de ataque. Esta biblioteca wordcloud funciona de dois modos: podemos gerar a imagem a partir de um texto, e ele fará a quebra, removerá stopwords, e calculará a frequencia, ou passamos para ele um dicionário de frequências. Vamos optar por este último, por fazer mais sentido com os dados que temos. "
   ]
  },
  {
   "cell_type": "code",
   "execution_count": 4,
   "metadata": {},
   "outputs": [],
   "source": [
    "lista = {}\n",
    "for idx, row in df.iterrows():\n",
    "  lista[row['Name']] = row['Att']\n"
   ]
  },
  {
   "attachments": {},
   "cell_type": "markdown",
   "metadata": {},
   "source": [
    "E finalmente, chamamos a biblioteca e fazemos a plotagem com o auxilio da matplotlib."
   ]
  },
  {
   "cell_type": "code",
   "execution_count": null,
   "metadata": {},
   "outputs": [],
   "source": [
    "wordcloud = WordCloud(max_font_size=50, max_words=df.size, background_color=\"white\").generate_from_frequencies(lista)\n",
    "plt.figure()\n",
    "plt.imshow(wordcloud)\n",
    "plt.axis(\"off\")\n",
    "plt.show()"
   ]
  },
  {
   "attachments": {},
   "cell_type": "markdown",
   "metadata": {},
   "source": [
    "Que gráfico interessante, não? Mostra muito mais pokemons do que um gráfico de barras mostraria, e deixa bem claro quais pokemons são mais poderosos, pelo menos no que diz respeito ao ataque.\n",
    "\n",
    "Antes de encerrar, mais um truque da biblioteca wordcloud: fazer a plotagem do gráfico seguindo o formato de uma imagem."
   ]
  },
  {
   "cell_type": "code",
   "execution_count": null,
   "metadata": {},
   "outputs": [],
   "source": [
    "import numpy as np\n",
    "from PIL import Image\n",
    "\n",
    "mask = np.array(Image.open(\"squirtle.jpg\"))\n",
    "wordcloud = WordCloud(max_font_size=50, max_words=df.size, background_color=\"white\", mask=mask).generate_from_frequencies(lista)\n",
    "plt.figure()\n",
    "plt.imshow(wordcloud)\n",
    "plt.axis(\"off\")\n",
    "plt.show()"
   ]
  },
  {
   "attachments": {},
   "cell_type": "markdown",
   "metadata": {},
   "source": [
    "Agora sim, uma wordcloud de respeito!"
   ]
  },
  {
   "attachments": {},
   "cell_type": "markdown",
   "metadata": {},
   "source": [
    "## Conclusão"
   ]
  },
  {
   "attachments": {},
   "cell_type": "markdown",
   "metadata": {},
   "source": [
    "Nesta aula aprendemos a plotar mais um tipo de gráfico, utilizando uma nova biblioteca. Se quiser mais detalhes sobre a biblioteca wordcloud, clique [aqui](https://amueller.github.io/word_cloud/index.html).\n",
    "\n",
    "Esta também é nossa última aula falando de gráficos e bibliotecas que podemos utilizar. Nas próximas aulas, iremos explorar novamente a biblioteca pandas e também aprofundar nosso conhecimento na biblioteca plotly.\n"
   ]
  },
  {
   "attachments": {},
   "cell_type": "markdown",
   "metadata": {},
   "source": [
    "### Navegação\n",
    "\n",
    "| [< Anterior](/posts/data-112/index.html) \t| \\| | [Próximo >](/posts/data-114/index.html) \t|\n",
    "|---------- |---|--------:\t|"
   ]
  }
 ],
 "metadata": {
  "kernelspec": {
   "display_name": "venv",
   "language": "python",
   "name": "python3"
  },
  "language_info": {
   "codemirror_mode": {
    "name": "ipython",
    "version": 3
   },
   "file_extension": ".py",
   "mimetype": "text/x-python",
   "name": "python",
   "nbconvert_exporter": "python",
   "pygments_lexer": "ipython3",
   "version": "3.12.3"
  },
  "orig_nbformat": 4
 },
 "nbformat": 4,
 "nbformat_minor": 2
}
