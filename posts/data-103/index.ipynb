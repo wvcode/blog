{
 "cells": [
  {
   "cell_type": "raw",
   "metadata": {},
   "source": [
    "---\n",
    "title: \"[VDP] Aula 03 - Formatos de Dados\"\n",
    "author: \"Walter R. Paixão-Côrtes\"\n",
    "date: \"2023-02-05\"\n",
    "categories: [Visualização, Python, Pandas, Seaborn, Notebooks]\n",
    "image: df_long_x_wide_form.png\n",
    "toc: true\n",
    "description: Como o dado precisa ser estruturado para que possamos visualizar de maneira correta?\n",
    "---"
   ]
  },
  {
   "attachments": {},
   "cell_type": "markdown",
   "metadata": {},
   "source": [
    "Nesta aula, iremos aprender um pouco mais sobre os formatos que utilizamos para armazenar os dados que nossas visualizações precisam consumir."
   ]
  },
  {
   "attachments": {},
   "cell_type": "markdown",
   "metadata": {},
   "source": [
    "### Fontes de dados e seus formatos"
   ]
  },
  {
   "attachments": {},
   "cell_type": "markdown",
   "metadata": {},
   "source": [
    "Para realizarmos nossas tarefas como Cientistas de Dados, é necessário que acessemos aquilo que nos é mais caro, o nosso combustível: os dados.\n",
    "\n",
    "Estes dados vem das mais diversas fontes: websites, dispositivos IoT, bancos de dados, documentos, ... Estas diferentes fontes significam que os dados possuem diferentes formatos, e uma de nossas tarefas é transformar este dado em um formato com o qual seja possível trabalhar e gerar os resultados esperados.\n",
    "\n",
    "Dentro da área de Ciência da Computação, o formato mais utilizado para servir como base para o processamento de informação é o formato tabular. "
   ]
  },
  {
   "attachments": {},
   "cell_type": "markdown",
   "metadata": {},
   "source": [
    "#### Formato Tabular"
   ]
  },
  {
   "attachments": {},
   "cell_type": "markdown",
   "metadata": {},
   "source": [
    "O formato tabular é utilizado para descrever uma estrutura de dados organizada em linhas e colunas, formando uma tabela. É um formato muito utilizado em bancos de dados relacionais e em arquivos CSV (Comma-Separated Values), onde cada linha representa um registro ou observação e cada coluna representa uma variável ou campo. Esse formato é muito útil para representar dados estruturados de forma clara e organizada, permitindo a fácil manipulação e análise dos dados.\n",
    "\n",
    "Abaixo, temos um exemplo prático de como podemos utilizar Python para carregar um arquivo CSV em nosso código."
   ]
  },
  {
   "cell_type": "code",
   "execution_count": 3,
   "metadata": {},
   "outputs": [
    {
     "name": "stdout",
     "output_type": "stream",
     "text": [
      "['Nome', 'Idade', 'Cidade']\n",
      "['Maria', '25', 'SÃ£o Paulo']\n",
      "['JoÃ£o', '30', 'Rio de Janeiro']\n",
      "['Ana', '20', 'Belo Horizonte']\n",
      "['Andre', '23', 'Porto Alegre']\n"
     ]
    }
   ],
   "source": [
    "import csv\n",
    "\n",
    "# Abre o arquivo CSV em modo leitura\n",
    "with open('exemplo.csv', 'r') as arquivo_csv:\n",
    "    # Cria um objeto para ler o arquivo CSV\n",
    "    leitor_csv = csv.reader(arquivo_csv, delimiter=',')\n",
    "\n",
    "    # Percorre as linhas do arquivo CSV\n",
    "    for linha in leitor_csv:\n",
    "        print(linha)"
   ]
  },
  {
   "attachments": {},
   "cell_type": "markdown",
   "metadata": {},
   "source": [
    "Neste exemplo, utilizamos a função open para abrir o arquivo CSV em modo leitura e, em seguida, criamos um objeto csv.reader para ler o arquivo CSV. Utilizamos o parâmetro delimiter para indicar o caractere separador utilizado no arquivo CSV (no caso, a vírgula). Em seguida, utilizamos um loop for para percorrer as linhas do arquivo CSV e imprimir cada uma delas na tela.\n",
    "\n",
    "Note que, neste exemplo, o resultado é uma lista de listas, onde cada lista interna representa uma linha do arquivo CSV. Para manipular os dados, é necessário fazer a conversão manualmente para o formato desejado.\n",
    "\n",
    "E, apesar deste formato ser adequado ao processamento dos dados para visualização, ainda precisamos fazer alguns ajustes até chegar ao formato ideal."
   ]
  },
  {
   "attachments": {},
   "cell_type": "markdown",
   "metadata": {},
   "source": [
    "### Otimizando o Formato Tabular"
   ]
  },
  {
   "attachments": {},
   "cell_type": "markdown",
   "metadata": {},
   "source": [
    "O formato tabular padrão também pode ser referenciado pelo termo 'Formato Largo' (wide form em inglês), por sua característica de organização em linhas e colunas, com a linha sendo uma observação e as colunas sendo as variáveis da observação. Isto pode ser percebido pelo formato que nossos código percorrem os arquivos ou selecionam a informação de um banco de dados: sempre pensando em extrair linhas que depois são usadas em algum tipo de processamento. Isso gera o que chamamos de overhead no processamento, porque por vezes precisamos apenas fazer o processamento de uma coluna de dados, mas somos obrigados a acessar todas as colunas para depois selecionar a coluna que queremos.\n",
    "\n",
    "Para resolver essa questão, foi criado um caso especial de formato tabular, o chamado 'Formato Longo' (Long format em inglês), onde a orientação da organização dos dados é colunas e linhas, ou seja, podemos acessar uma coluna individualmente, com todas as suas linhas."
   ]
  },
  {
   "attachments": {},
   "cell_type": "markdown",
   "metadata": {},
   "source": [
    "![Formato Longo X Formato Largo](df_long_x_wide_form.png)"
   ]
  },
  {
   "attachments": {},
   "cell_type": "markdown",
   "metadata": {},
   "source": [
    "Em Python e em muitas outras linguagens de programação que são utilizadas, este tipo especial de formato tabular tem estruturas de dados especiais, que são chamadas de DataFrames e Series."
   ]
  },
  {
   "attachments": {},
   "cell_type": "markdown",
   "metadata": {},
   "source": [
    "### DataFrames e Series"
   ]
  },
  {
   "attachments": {},
   "cell_type": "markdown",
   "metadata": {},
   "source": [
    "O DataFrame e a Series são dois dos principais conceitos utilizados para trabalhar com dados em Python. Ambos estão presentes na biblioteca Pandas, que é uma das principais ferramentas para análise de dados. \n",
    "\n",
    "O DataFrame é um objeto bidimensional que armazena dados em forma de tabela, com linhas e colunas. Cada coluna possui um nome e cada linha possui um índice. É possível acessar os elementos do DataFrame usando o nome da coluna ou o índice da linha. Por exemplo, se tivermos um DataFrame chamado “df”, podemos acessar o elemento na linha 2 e coluna 3 usando df[2][3]. \n",
    "\n",
    "Exemplo de código: "
   ]
  },
  {
   "cell_type": "code",
   "execution_count": 5,
   "metadata": {},
   "outputs": [
    {
     "name": "stdout",
     "output_type": "stream",
     "text": [
      "9\n"
     ]
    }
   ],
   "source": [
    "import pandas as pd \n",
    "df = pd.DataFrame([[1, 2, 3], [4, 5, 6], [7, 8, 9]]) \n",
    "print(df[2][2])"
   ]
  },
  {
   "attachments": {},
   "cell_type": "markdown",
   "metadata": {},
   "source": [
    "A Series é um objeto unidimensional que armazena dados em forma de vetor. Cada elemento possui um índice associado a ele. É possível acessar os elementos da Series usando seu índice. Por exemplo, se tivermos uma Series chamada “s”, podemos acessar o elemento no índice 2 usando s[2]. \n",
    "Exemplo de código: "
   ]
  },
  {
   "cell_type": "code",
   "execution_count": 6,
   "metadata": {},
   "outputs": [
    {
     "name": "stdout",
     "output_type": "stream",
     "text": [
      "3\n"
     ]
    }
   ],
   "source": [
    "import pandas as pd \n",
    "s = pd.Series([1, 2, 3]) \n",
    "print(s[2])"
   ]
  },
  {
   "cell_type": "markdown",
   "metadata": {},
   "source": [
    "\n",
    "\n",
    " Além do Pandas existem outras bibliotecas que utilizam esses conceitos para trabalhar com dados como NumPy (Numerical Python), SciPy (Scientific Python) e Scikit-learn (Machine Learning)."
   ]
  }
 ],
 "metadata": {
  "kernelspec": {
   "display_name": "Python 3",
   "language": "python",
   "name": "python3"
  },
  "language_info": {
   "codemirror_mode": {
    "name": "ipython",
    "version": 3
   },
   "file_extension": ".py",
   "mimetype": "text/x-python",
   "name": "python",
   "nbconvert_exporter": "python",
   "pygments_lexer": "ipython3",
   "version": "3.9.6"
  },
  "orig_nbformat": 4,
  "vscode": {
   "interpreter": {
    "hash": "17336511cfc22a5efe85086c85928a6ae78a60927f6cd52b73de8a45ee5e21f9"
   }
  }
 },
 "nbformat": 4,
 "nbformat_minor": 2
}
