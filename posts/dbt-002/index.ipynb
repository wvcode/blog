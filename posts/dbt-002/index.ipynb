{
 "cells": [
  {
   "cell_type": "raw",
   "metadata": {
    "vscode": {
     "languageId": "raw"
    }
   },
   "source": [
    "---\n",
    "series: \"Aprendendo: dbt\"\n",
    "title: \"Parte 2: Arquitetura de Repositório de Dados\"\n",
    "author: \"Walter R. Paixão-Côrtes\"\n",
    "date: \"2024-11-11\"\n",
    "categories: [PostgreSQL, dbt, portfolio, databases]\n",
    "image: /library/concepts/programming_practice.jpg\n",
    "toc: true\n",
    "description: Uma breve explicação sobre a Arquitetura Medalhão.\n",
    "draft: true\n",
    "\n",
    "---"
   ]
  }
 ],
 "metadata": {
  "language_info": {
   "name": "python"
  }
 },
 "nbformat": 4,
 "nbformat_minor": 2
}
