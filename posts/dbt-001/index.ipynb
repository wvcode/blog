{
 "cells": [
  {
   "cell_type": "raw",
   "metadata": {
    "vscode": {
     "languageId": "raw"
    }
   },
   "source": [
    "---\n",
    "series: \"Aprendendo: dbt\"\n",
    "title: \"Parte 1: Introdução ao dbt\"\n",
    "author: \"Walter R. Paixão-Côrtes\"\n",
    "date: \"2024-11-11\"\n",
    "categories: [PostgreSQL, dbt, portfolio, databases]\n",
    "image: /library/concepts/programming_practice.jpg\n",
    "toc: true\n",
    "description: Organize, transforme e disponibilize os seus dados com dbt, PostgreSQL e PostgREST.\n",
    "draft: false\n",
    "\n",
    "---"
   ]
  },
  {
   "cell_type": "markdown",
   "metadata": {},
   "source": [
    "# Introdução"
   ]
  },
  {
   "cell_type": "markdown",
   "metadata": {},
   "source": [
    "Considerando um cenário corporativo, a maior parte dos dados que um analista de dados tem para trabalhar já estão nos data warehouses, lake houses e afins, para que o mesmo esteja respeitando as políticas de data management e compliance. Mas o cenário se modifica quando vamos para empresas menores, que tem uma politica mais liberal de data management: é comum que os dados nos lakes precisem ser enriquecidos pelo próprio analista com arquivos de texto, planilhas, APIs ou até mesmo de páginas web enquanto tentam criar as visualizações.\n",
    "\n",
    "A partir do momento em que os dados estão disponíveis, o próximo passo é trabalha-los para que os mesmos atendam às necessidades do projeto. Nesta fase, a biblioteca `Pandas` é uma das mais utilizadas para manipulação de dados em Python. `Pandas` é uma biblioteca de código aberto que fornece estruturas de dados de alto desempenho e fáceis de usar, além de ferramentas de análise de dados. Se considerarmos um analista que não tem background em programação, `Pandas` é uma excelente opção para manipulação de dados.\n",
    "\n",
    "Para aqueles analistas com background em programação, apesar do poder que `Pandas` disponibiliza, sabemos que a maior parte das transformações de dados poderiam ser feitas de maneira mais tradicional e eficiente com o uso de `SQL`, que é a linguagem nativa dos bancos de dados relacionais e especializada para trabalhar com dados tabulares.\n",
    "\n",
    "Mas, devido a algumas limitações, usar `SQL` nesta tarefa acaba não sendo tão popular. Entre os problemas mais comuns estão:\n",
    "\n",
    "- Os ambientes de desenvolvimento em SQL não tem integração nativa com ferramentas de source control, como Git\n",
    "- Não é possível executar testes automatizados de maneira simples\n",
    "- Não é possível reutilizar código de maneira eficiente.\n",
    "\n",
    "Para resolver esses problemas e outros relacionados a modelagem e transformação de dados, é que a ferramenta `dbt` foi criada.\n",
    "\n",
    "Nesta série de artigos, vamos explorar o `dbt` e como ele pode ser utilizado para transformar dados de maneira eficiente e escalável. Para isso, vamos criar um projeto de exemplo: um repositório de dados para ser utilizado em visualizações de dados em geral. Este projeto pode ser um bom ponto de partida para quem está começando a trabalhar com `dbt` e quer adicionar alfo prático ao seu portfolio."
   ]
  },
  {
   "cell_type": "markdown",
   "metadata": {},
   "source": [
    "# dbt (data build tool)"
   ]
  },
  {
   "cell_type": "markdown",
   "metadata": {},
   "source": [
    "O [dbt](https://www.getdbt.com/product/what-is-dbt) é uma ferramenta de transformação de dados que permite que você escreva transformações de dados em `SQL`, e que você possa executar essas transformações de maneira programática, testar e documentar essas transformações.\n",
    "\n",
    "O dbt vêm em duas versões: `dbt Core` e `dbt Cloud`. A versão `dbt Core` é a versão open source, que você pode instalar e rodar em sua máquina. A versão `dbt Cloud` é a versão paga, que roda na nuvem e que oferece funcionalidades adicionais, como agendamento de execuções, monitoramento de execuções, alertas, etc.\n",
    "\n",
    "Este artigo irá focar na versão `dbt Core`."
   ]
  },
  {
   "cell_type": "markdown",
   "metadata": {},
   "source": [
    "## Instalação"
   ]
  },
  {
   "cell_type": "markdown",
   "metadata": {},
   "source": [
    "O dbt-core é uma ferramenta de linha de comando, e mais objetivamente, um pacote Python. Para instalar o dbt, você precisa ter o Python instalado em sua máquina. Para instalar o dbt, você pode usar o `pip`, o gerenciador de pacotes do Python. Para instalar o dbt, execute o seguinte comando:\n",
    "\n",
    "```bash\n",
    "pip install dbt\n",
    "```\n",
    "Após a instalação, você pode verificar se o dbt foi instalado corretamente executando o seguinte comando:\n",
    "\n",
    "```bash\n",
    "dbt --version\n",
    "```\n",
    "A saída do comando acima deve ser algo como:\n",
    "\n",
    "```bash\n",
    "dbt version: 0.21.0\n",
    "```\n",
    "A próxima etapa é baixar o driver de conexão com o banco de dados que você irá utilizar. O dbt suporta diversos bancos de dados, como `PostgreSQL`, `Redshift`, `BigQuery`, `Snowflake`, `SQL Server`, `MySQL`, `SQLite`, entre outros. O driver de conexão com o banco de dados que vamos utilizar aqui é do `PostgreSQL`, e você pode executar o seguinte comando para instala-lo:\n",
    "\n",
    "```bash\n",
    "pip install dbt-postgres\n",
    "```"
   ]
  },
  {
   "cell_type": "markdown",
   "metadata": {},
   "source": [
    "## Configuração"
   ]
  },
  {
   "cell_type": "markdown",
   "metadata": {},
   "source": [
    "Agora que você já instalou o dbt e o driver de conexão com o banco de dados, o próximo passo é configurar o dbt para que ele possa se conectar ao seu banco de dados. Para isso, você precisa criar um arquivo chamado `profiles.yml`. Este arquivo pode estar localizado em dois locais:\n",
    "\n",
    "- na pasta `~/.dbt/` no linux ou mac\n",
    "- na pasta do projeto. --> usaremos essa opção, para mantermos todos os arquivos em um único local. \n",
    "\n",
    "O arquivo `profiles.yml` é um arquivo de configuração que contém as informações de conexão com o banco de dados. Abaixo está um exemplo de um arquivo `profiles.yml`:\n",
    "\n",
    "```yaml\n",
    "default:\n",
    "  outputs:\n",
    "    dev:\n",
    "      type: postgres\n",
    "      host: localhost\n",
    "      user: myuser\n",
    "      pass: mypass\n",
    "      port: 5432\n",
    "      dbname: mydb\n",
    "      schema: my_schema\n",
    "      threads: 4\n",
    "      keepalives_idle: 0\n",
    "  target: dev\n",
    "```\n",
    "\n",
    "Neste exemplo, temos um perfil chamado `dev` que se conecta a um banco de dados `PostgreSQL` local. Você pode adicionar quantos perfis quiser, e cada perfil pode se conectar a um banco de dados diferente.\n",
    "\n",
    "Outro fator importante é a questão de segurança. Você não deve armazenar informações sensíveis, como senhas, diretamente no arquivo `profiles.yml`. Para isso, você pode utilizar variáveis de ambiente. Por exemplo, você pode substituir o valor da chave `pass` por uma variável de ambiente chamada `DBT_PASS`:\n",
    "\n",
    "```yaml\n",
    "default:\n",
    "  outputs:\n",
    "    dev:\n",
    "      type: postgres\n",
    "      host: localhost\n",
    "      user: myuser\n",
    "      pass: \"{{ env_var('DBT_PASS') }}\"\n",
    "      port: 5432\n",
    "      dbname: mydb\n",
    "      schema: my_schema\n",
    "      threads: 4\n",
    "      keepalives_idle: 0\n",
    "  target: dev\n",
    "```\n",
    "\n",
    "Dessa forma, você pode definir a variável de ambiente `DBT_PASS` no seu terminal antes de executar o dbt:\n",
    "\n",
    "```bash\n",
    "export DBT_PASS=mypass\n",
    "```\n",
    "No Windows, você pode definir variáveis de ambiente da seguinte maneira:\n",
    "\n",
    "```bash\n",
    "set DBT_PASS=mypass\n",
    "```\n",
    "Outra maneira de definir variáveis de ambiente é criar um arquivo `.env` na raiz do seu projeto e adicionar as variáveis de ambiente nele. O dbt irá ler automaticamente as variáveis de ambiente definidas no arquivo `.env`.\n",
    "\n",
    "Exemplo de arquivo `.env`:\n",
    "  \n",
    "  ```bash \n",
    "  DBT_PASS=mypass\n",
    "  ```"
   ]
  },
  {
   "cell_type": "markdown",
   "metadata": {},
   "source": [
    "## Inicializando um projeto dbt"
   ]
  },
  {
   "cell_type": "markdown",
   "metadata": {},
   "source": [
    "Para inicializar um projeto dbt, você pode executar o seguinte comando:\n",
    "\n",
    "```bash\n",
    "dbt init my_project\n",
    "```\n",
    "Este comando irá criar uma estrutura de pastas e arquivos para o seu projeto dbt. A estrutura de pastas e arquivos criada é a seguinte:\n",
    "\n",
    "```text\n",
    "my_project/\n",
    "|-- analyses\n",
    "|-- macros\n",
    "|-- models\n",
    "|-- seeds\n",
    "|-- snapshots\n",
    "|-- tests\n",
    "|-- .env\n",
    "|-- .gitignore\n",
    "|-- dbt_project.yml\n",
    "|-- profiles.yml\n",
    "```\n",
    "Aqui está uma breve descrição de cada pasta e arquivo:\n",
    "\n",
    "- `analyses`: Pasta onde você pode escrever consultas SQL que serão executadas pelo dbt. As consultas nesta pasta são consultas ad-hoc, ou seja, consultas que você executa manualmente.\n",
    "- `macros`: Pasta onde você pode escrever macros, que são consultas SQL reutilizáveis.\n",
    "- `models`: Pasta onde você escreve as transformações de dados. Cada arquivo nesta pasta é um modelo dbt.\n",
    "- `seeds`: Pasta onde você pode colocar arquivos estáticos com dados de origem - por exemplo - lista de municipios, status, ...\n",
    "- `snapshots`: Pasta onde você pode escrever consultas SQL que criam snapshots de tabelas.\n",
    "- `tests`: Pasta onde você pode escrever testes para os modelos dbt.\n",
    "- `.env`: Arquivo onde você pode definir variáveis de ambiente.\n",
    "- `.gitignore`: Arquivo que contém os arquivos e pastas que você deseja ignorar no Git.\n",
    "- `dbt_project.yml`: Arquivo de configuração do projeto dbt.\n",
    "- `profiles.yml`: Arquivo de configuração de conexão com o banco de dados."
   ]
  },
  {
   "cell_type": "markdown",
   "metadata": {},
   "source": [
    "## dbt_project.yml"
   ]
  },
  {
   "cell_type": "markdown",
   "metadata": {},
   "source": [
    "O arquivo `dbt_project.yml` é o arquivo de configuração do projeto dbt. Este arquivo contém informações sobre o projeto, como o nome do projeto, a versão do projeto, o diretório onde os modelos dbt estão localizados, etc. Aqui está um exemplo de um arquivo `dbt_project.yml`:\n",
    "\n",
    "```yaml\n",
    "name: 'pipeline'\n",
    "version: '1.0.0'\n",
    "\n",
    "# This setting configures which \"profile\" dbt uses for this project.\n",
    "profile: 'pipeline'\n",
    "\n",
    "model-paths: [\"models\"]\n",
    "analysis-paths: [\"analyses\"]\n",
    "test-paths: [\"tests\"]\n",
    "seed-paths: [\"seeds\"]\n",
    "macro-paths: [\"macros\"]\n",
    "snapshot-paths: [\"snapshots\"]\n",
    "\n",
    "clean-targets:         # directories to be removed by `dbt clean`\n",
    "  - \"target\"\n",
    "  - \"dbt_packages\"\n",
    "\n",
    "models:\n",
    "  pipeline:\n",
    "    # Config indicated by + and applies to all files under models/example/\n",
    "    bronze:\n",
    "      schema: bronze\n",
    "      +materialized: table\n",
    "    silver:\n",
    "      schema: silver\n",
    "      +materialized: table\n",
    "    gold:\n",
    "      schema: gold\n",
    "      +materialized: table\n",
    "      +post-hook: \"{{ grant_and_notify(this) }}\"\n",
    "    src:\n",
    "      schema: src\n",
    "      +materialized: table\n",
    "seeds:\n",
    "  src:\n",
    "  +schema: src\n",
    "  +materialized: seed\n",
    "```\n",
    "\n",
    "Neste exemplo, temos um projeto chamado `pipeline` com três modelos: `bronze`, `silver` e `gold`. Cada modelo tem um esquema associado e um tipo de materialização. O tipo de materialização pode ser `table`, `view` ou `incremental`. O tipo de materialização `table` é o tipo de materialização padrão, e é usado para criar tabelas a partir de consultas SQL. O tipo de materialização `view` é usado para criar visualizações a partir de consultas SQL. O tipo de materialização `incremental` é usado para criar tabelas incrementais a partir de consultas SQL.\n",
    "\n",
    "Este arquivo tem mais itens que são bem interessantes de aprender, e ao longo desta série de artigos, vamos voltar e abordar cada um deles.\n"
   ]
  },
  {
   "cell_type": "markdown",
   "metadata": {},
   "source": [
    "## Escrita de modelos dbt"
   ]
  },
  {
   "cell_type": "markdown",
   "metadata": {},
   "source": [
    "Vamos ao ponto principal do dbt: a escrita de modelos dbt. Um modelo dbt é um arquivo `.sql` que contém uma consulta SQL que transforma os dados. Aqui está um exemplo de um modelo dbt:\n",
    "\n",
    "```sql\n",
    "-- bronze/my_model.sql\n",
    "with my_cte as (\n",
    "    select\n",
    "        column1,\n",
    "        column2\n",
    "    from\n",
    "        my_table\n",
    ")\n",
    "select\n",
    "    column1,\n",
    "    column2\n",
    "from\n",
    "    my_cte\n",
    "```\n",
    "\n",
    "Este modelo dbt é um modelo `table`, que cria uma tabela chamada `my_model` no esquema `bronze`. O modelo dbt contém uma consulta SQL que seleciona as colunas `column1` e `column2` da tabela `my_table` e as insere na tabela `my_model`.\n",
    "\n"
   ]
  },
  {
   "cell_type": "markdown",
   "metadata": {},
   "source": [
    "## Executando o dbt"
   ]
  },
  {
   "cell_type": "markdown",
   "metadata": {},
   "source": [
    "Agore que você já tem um projeto dbt configurado e um modelo dbt escrito, você pode executar o dbt para criar as tabelas no banco de dados. Para executar o dbt, você pode usar o seguinte comando:\n",
    "\n",
    "```bash\n",
    "dbt run\n",
    "```\n",
    "Este comando irá executar todos os modelos dbt no diretório `models` e criar as tabelas no banco de dados. Se você quiser executar um modelo dbt específico, você pode usar o seguinte comando:\n",
    "\n",
    "```bash\n",
    "dbt run --models my_model\n",
    "```\n",
    "Este comando irá executar apenas o modelo `my_model`.\n"
   ]
  },
  {
   "cell_type": "markdown",
   "metadata": {},
   "source": [
    "## Conclusão"
   ]
  },
  {
   "cell_type": "markdown",
   "metadata": {},
   "source": [
    "Neste artigo, você aprendeu o que é o dbt, como instalar o dbt, como configurar o dbt, como inicializar um projeto dbt, como escrever modelos dbt e como executar o dbt. Nos próximos artigos, vamos falar em maiores detalhes sobre as funcionalidades e começar efetivamente a criar o nosso repositório de dados."
   ]
  }
 ],
 "metadata": {
  "language_info": {
   "name": "python"
  }
 },
 "nbformat": 4,
 "nbformat_minor": 2
}
