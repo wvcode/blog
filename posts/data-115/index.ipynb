{
 "cells": [
  {
   "cell_type": "raw",
   "metadata": {},
   "source": [
    "---\n",
    "title: \"[VDP] Aula 15 - Gráficos Interativos\"\n",
    "author: \"Walter R. Paixão-Côrtes\"\n",
    "date: \"2023-02-15\"\n",
    "categories: [Visualização, Python, Pandas, Seaborn, Notebooks]\n",
    "image: /library/concepts/programming_practice.jpg\n",
    "toc: true\n",
    "description: Precisa de Interatividade? Plotly é a solução!\n",
    "---"
   ]
  },
  {
   "attachments": {},
   "cell_type": "markdown",
   "metadata": {},
   "source": [
    "## Introdução"
   ]
  },
  {
   "attachments": {},
   "cell_type": "markdown",
   "metadata": {},
   "source": [
    "Olá, cientista de dados! Esta é nossa última aula, e para encerrar vamos conhecer uma biblioteca que nos permitirá criar gráficos esteticamente refinados e interativos.\n",
    "\n",
    "A biblioteca se chama Plotly, e vamos aprender a criar todos os gráficos que criamos com seaborn agora utilizando Plotly!"
   ]
  },
  {
   "attachments": {},
   "cell_type": "markdown",
   "metadata": {},
   "source": [
    "## Preparando o ambiente \n"
   ]
  },
  {
   "attachments": {},
   "cell_type": "markdown",
   "metadata": {},
   "source": [
    "Aqui, como sempre, vamos carregar as bibliotecas que iremos utilizar no nosso notebook."
   ]
  },
  {
   "cell_type": "code",
   "execution_count": 8,
   "metadata": {},
   "outputs": [],
   "source": [
    "import pandas as pd\n",
    "import plotly.express as px\n",
    "import duckdb\n",
    "\n",
    "%reload_ext sql"
   ]
  },
  {
   "attachments": {},
   "cell_type": "markdown",
   "metadata": {},
   "source": [
    "Vamos utilizar o duckdb em memória caso seja necessário fazer alguma transformação rápida."
   ]
  },
  {
   "cell_type": "code",
   "execution_count": 9,
   "metadata": {},
   "outputs": [],
   "source": [
    "%sql duckdb:///:memory:"
   ]
  },
  {
   "attachments": {},
   "cell_type": "markdown",
   "metadata": {},
   "source": [
    "## Carregando os dados\n"
   ]
  },
  {
   "cell_type": "code",
   "execution_count": 4,
   "metadata": {},
   "outputs": [
    {
     "data": {
      "text/html": [
       "<div>\n",
       "<style scoped>\n",
       "    .dataframe tbody tr th:only-of-type {\n",
       "        vertical-align: middle;\n",
       "    }\n",
       "\n",
       "    .dataframe tbody tr th {\n",
       "        vertical-align: top;\n",
       "    }\n",
       "\n",
       "    .dataframe thead th {\n",
       "        text-align: right;\n",
       "    }\n",
       "</style>\n",
       "<table border=\"1\" class=\"dataframe\">\n",
       "  <thead>\n",
       "    <tr style=\"text-align: right;\">\n",
       "      <th></th>\n",
       "      <th>Number</th>\n",
       "      <th>Name</th>\n",
       "      <th>Type 1</th>\n",
       "      <th>Type 2</th>\n",
       "      <th>Abilities</th>\n",
       "      <th>HP</th>\n",
       "      <th>Att</th>\n",
       "      <th>Def</th>\n",
       "      <th>Spa</th>\n",
       "      <th>Spd</th>\n",
       "      <th>...</th>\n",
       "      <th>Against Bug</th>\n",
       "      <th>Against Rock</th>\n",
       "      <th>Against Ghost</th>\n",
       "      <th>Against Dragon</th>\n",
       "      <th>Against Dark</th>\n",
       "      <th>Against Steel</th>\n",
       "      <th>Against Fairy</th>\n",
       "      <th>Height</th>\n",
       "      <th>Weight</th>\n",
       "      <th>BMI</th>\n",
       "    </tr>\n",
       "  </thead>\n",
       "  <tbody>\n",
       "    <tr>\n",
       "      <th>100</th>\n",
       "      <td>78</td>\n",
       "      <td>Rapidash</td>\n",
       "      <td>Fire</td>\n",
       "      <td>NaN</td>\n",
       "      <td>['Flame Body', 'Flash Fire', 'Run Away']</td>\n",
       "      <td>65</td>\n",
       "      <td>100</td>\n",
       "      <td>70</td>\n",
       "      <td>80</td>\n",
       "      <td>80</td>\n",
       "      <td>...</td>\n",
       "      <td>0.5</td>\n",
       "      <td>2.0</td>\n",
       "      <td>1.0</td>\n",
       "      <td>1.0</td>\n",
       "      <td>1.0</td>\n",
       "      <td>0.5</td>\n",
       "      <td>0.5</td>\n",
       "      <td>1.7</td>\n",
       "      <td>95.0</td>\n",
       "      <td>32.9</td>\n",
       "    </tr>\n",
       "    <tr>\n",
       "      <th>454</th>\n",
       "      <td>382</td>\n",
       "      <td>Kyogre</td>\n",
       "      <td>Water</td>\n",
       "      <td>NaN</td>\n",
       "      <td>['Drizzle']</td>\n",
       "      <td>100</td>\n",
       "      <td>100</td>\n",
       "      <td>90</td>\n",
       "      <td>150</td>\n",
       "      <td>140</td>\n",
       "      <td>...</td>\n",
       "      <td>1.0</td>\n",
       "      <td>1.0</td>\n",
       "      <td>1.0</td>\n",
       "      <td>1.0</td>\n",
       "      <td>1.0</td>\n",
       "      <td>0.5</td>\n",
       "      <td>1.0</td>\n",
       "      <td>4.5</td>\n",
       "      <td>352.0</td>\n",
       "      <td>17.4</td>\n",
       "    </tr>\n",
       "    <tr>\n",
       "      <th>208</th>\n",
       "      <td>165</td>\n",
       "      <td>Ledyba</td>\n",
       "      <td>Bug</td>\n",
       "      <td>Flying</td>\n",
       "      <td>['Early Bird', 'Rattled', 'Swarm']</td>\n",
       "      <td>40</td>\n",
       "      <td>20</td>\n",
       "      <td>30</td>\n",
       "      <td>40</td>\n",
       "      <td>80</td>\n",
       "      <td>...</td>\n",
       "      <td>0.5</td>\n",
       "      <td>4.0</td>\n",
       "      <td>1.0</td>\n",
       "      <td>1.0</td>\n",
       "      <td>1.0</td>\n",
       "      <td>1.0</td>\n",
       "      <td>1.0</td>\n",
       "      <td>1.0</td>\n",
       "      <td>10.8</td>\n",
       "      <td>10.8</td>\n",
       "    </tr>\n",
       "    <tr>\n",
       "      <th>141</th>\n",
       "      <td>109</td>\n",
       "      <td>Koffing</td>\n",
       "      <td>Poison</td>\n",
       "      <td>NaN</td>\n",
       "      <td>['Levitate', 'Neutralizing Gas', 'Stench']</td>\n",
       "      <td>40</td>\n",
       "      <td>65</td>\n",
       "      <td>95</td>\n",
       "      <td>60</td>\n",
       "      <td>45</td>\n",
       "      <td>...</td>\n",
       "      <td>0.5</td>\n",
       "      <td>1.0</td>\n",
       "      <td>1.0</td>\n",
       "      <td>1.0</td>\n",
       "      <td>1.0</td>\n",
       "      <td>1.0</td>\n",
       "      <td>0.5</td>\n",
       "      <td>0.6</td>\n",
       "      <td>1.0</td>\n",
       "      <td>2.8</td>\n",
       "    </tr>\n",
       "    <tr>\n",
       "      <th>18</th>\n",
       "      <td>15</td>\n",
       "      <td>Beedrill</td>\n",
       "      <td>Bug</td>\n",
       "      <td>Poison</td>\n",
       "      <td>['Sniper', 'Swarm']</td>\n",
       "      <td>65</td>\n",
       "      <td>90</td>\n",
       "      <td>40</td>\n",
       "      <td>45</td>\n",
       "      <td>80</td>\n",
       "      <td>...</td>\n",
       "      <td>0.5</td>\n",
       "      <td>2.0</td>\n",
       "      <td>1.0</td>\n",
       "      <td>1.0</td>\n",
       "      <td>1.0</td>\n",
       "      <td>1.0</td>\n",
       "      <td>0.5</td>\n",
       "      <td>1.0</td>\n",
       "      <td>29.5</td>\n",
       "      <td>29.5</td>\n",
       "    </tr>\n",
       "  </tbody>\n",
       "</table>\n",
       "<p>5 rows × 44 columns</p>\n",
       "</div>"
      ],
      "text/plain": [
       "     Number      Name  Type 1  Type 2  \\\n",
       "100      78  Rapidash    Fire     NaN   \n",
       "454     382    Kyogre   Water     NaN   \n",
       "208     165    Ledyba     Bug  Flying   \n",
       "141     109   Koffing  Poison     NaN   \n",
       "18       15  Beedrill     Bug  Poison   \n",
       "\n",
       "                                      Abilities   HP  Att  Def  Spa  Spd  ...  \\\n",
       "100    ['Flame Body', 'Flash Fire', 'Run Away']   65  100   70   80   80  ...   \n",
       "454                                 ['Drizzle']  100  100   90  150  140  ...   \n",
       "208          ['Early Bird', 'Rattled', 'Swarm']   40   20   30   40   80  ...   \n",
       "141  ['Levitate', 'Neutralizing Gas', 'Stench']   40   65   95   60   45  ...   \n",
       "18                          ['Sniper', 'Swarm']   65   90   40   45   80  ...   \n",
       "\n",
       "     Against Bug  Against Rock  Against Ghost  Against Dragon  Against Dark  \\\n",
       "100          0.5           2.0            1.0             1.0           1.0   \n",
       "454          1.0           1.0            1.0             1.0           1.0   \n",
       "208          0.5           4.0            1.0             1.0           1.0   \n",
       "141          0.5           1.0            1.0             1.0           1.0   \n",
       "18           0.5           2.0            1.0             1.0           1.0   \n",
       "\n",
       "    Against Steel  Against Fairy  Height  Weight   BMI  \n",
       "100           0.5            0.5     1.7    95.0  32.9  \n",
       "454           0.5            1.0     4.5   352.0  17.4  \n",
       "208           1.0            1.0     1.0    10.8  10.8  \n",
       "141           1.0            0.5     0.6     1.0   2.8  \n",
       "18            1.0            0.5     1.0    29.5  29.5  \n",
       "\n",
       "[5 rows x 44 columns]"
      ]
     },
     "execution_count": 4,
     "metadata": {},
     "output_type": "execute_result"
    }
   ],
   "source": [
    "pokemons = pd.read_csv('https://github.com/labeduc/datasets/blob/main/pokemons/all.csv?raw=true')\n",
    "\n",
    "pokemons.sample(5)"
   ]
  },
  {
   "attachments": {},
   "cell_type": "markdown",
   "metadata": {},
   "source": [
    "## Tipos de Gráficos"
   ]
  },
  {
   "attachments": {},
   "cell_type": "markdown",
   "metadata": {},
   "source": [
    "O Plotly tem diversos tipos de gráficos, exatamente como o Seaborn, e iremos ver aqui os tipos mais básicos, assim como vimos com o seaborn nas aulas anteriores. Também já iremos apresentar desde o início os gráficos com as boas práticas devidamente aplicadas, para gerar uma melhor experiência para o público. "
   ]
  },
  {
   "attachments": {},
   "cell_type": "markdown",
   "metadata": {},
   "source": [
    "### Barra/Colunas"
   ]
  },
  {
   "attachments": {},
   "cell_type": "markdown",
   "metadata": {},
   "source": [
    "E lá vamos nós, começando pelo gráfico mais popular de todos, o gráfico de barra/coluna. A princípio, precisamos apenas 2 comandos: o comando que gera o gráfico e armazena em um objeto do tipo `Figure`; e o comando que plota a figura gerada."
   ]
  },
  {
   "cell_type": "code",
   "execution_count": 7,
   "metadata": {},
   "outputs": [
    {
     "data": {
      "application/vnd.plotly.v1+json": {
       "config": {
        "plotlyServerURL": "https://plot.ly"
       },
       "data": [
        {
         "alignmentgroup": "True",
         "hovertemplate": "Generation=%{x}<br>Att=%{y}<extra></extra>",
         "legendgroup": "",
         "marker": {
          "color": "#636efa",
          "pattern": {
           "shape": ""
          }
         },
         "name": "",
         "offsetgroup": "",
         "orientation": "v",
         "showlegend": false,
         "textposition": "auto",
         "type": "bar",
         "x": [
          1,
          1,
          1,
          6,
          1,
          1,
          1,
          6,
          6,
          1,
          1,
          1,
          6,
          1,
          1,
          1,
          1,
          1,
          1,
          6,
          1,
          1,
          1,
          6,
          1,
          7,
          1,
          7,
          1,
          1,
          1,
          1,
          1,
          1,
          7,
          1,
          7,
          1,
          7,
          1,
          1,
          1,
          1,
          1,
          1,
          1,
          1,
          1,
          7,
          1,
          7,
          1,
          1,
          1,
          1,
          1,
          1,
          1,
          1,
          1,
          1,
          1,
          1,
          7,
          1,
          7,
          1,
          7,
          8,
          1,
          7,
          1,
          1,
          1,
          1,
          1,
          1,
          1,
          1,
          1,
          1,
          1,
          1,
          6,
          1,
          1,
          1,
          1,
          1,
          1,
          1,
          1,
          1,
          7,
          1,
          7,
          1,
          7,
          1,
          8,
          1,
          8,
          1,
          8,
          1,
          6,
          8,
          1,
          1,
          1,
          8,
          1,
          1,
          1,
          1,
          1,
          7,
          1,
          7,
          1,
          1,
          1,
          1,
          1,
          6,
          1,
          1,
          1,
          1,
          1,
          1,
          1,
          1,
          1,
          7,
          1,
          1,
          7,
          1,
          1,
          1,
          1,
          1,
          8,
          1,
          1,
          1,
          1,
          1,
          6,
          1,
          1,
          1,
          1,
          1,
          1,
          1,
          8,
          1,
          1,
          1,
          1,
          1,
          6,
          1,
          1,
          1,
          6,
          1,
          1,
          1,
          1,
          1,
          1,
          1,
          1,
          1,
          1,
          1,
          1,
          6,
          1,
          1,
          8,
          1,
          8,
          1,
          8,
          1,
          1,
          1,
          1,
          6,
          6,
          1,
          2,
          2,
          2,
          2,
          2,
          2,
          2,
          2,
          2,
          2,
          2,
          2,
          2,
          2,
          2,
          2,
          2,
          2,
          2,
          2,
          2,
          2,
          2,
          2,
          2,
          2,
          2,
          2,
          2,
          2,
          6,
          2,
          2,
          2,
          2,
          2,
          2,
          2,
          2,
          2,
          2,
          2,
          2,
          2,
          2,
          2,
          2,
          2,
          2,
          8,
          2,
          2,
          2,
          2,
          2,
          2,
          2,
          2,
          2,
          6,
          2,
          2,
          2,
          2,
          6,
          2,
          2,
          6,
          2,
          2,
          2,
          2,
          2,
          2,
          2,
          2,
          8,
          2,
          2,
          2,
          2,
          2,
          2,
          2,
          6,
          2,
          2,
          2,
          2,
          2,
          2,
          2,
          2,
          2,
          2,
          2,
          2,
          2,
          2,
          2,
          2,
          2,
          2,
          2,
          6,
          2,
          2,
          2,
          3,
          3,
          3,
          6,
          3,
          3,
          3,
          6,
          3,
          3,
          3,
          6,
          3,
          3,
          3,
          8,
          3,
          8,
          3,
          3,
          3,
          3,
          3,
          3,
          3,
          3,
          3,
          3,
          3,
          3,
          3,
          3,
          3,
          3,
          3,
          3,
          6,
          3,
          3,
          3,
          3,
          3,
          3,
          3,
          3,
          3,
          3,
          3,
          3,
          3,
          3,
          3,
          3,
          3,
          3,
          3,
          3,
          6,
          3,
          6,
          3,
          3,
          3,
          6,
          3,
          3,
          6,
          3,
          3,
          6,
          3,
          3,
          3,
          3,
          3,
          3,
          3,
          3,
          3,
          6,
          3,
          3,
          3,
          3,
          6,
          3,
          3,
          3,
          3,
          3,
          3,
          3,
          3,
          3,
          3,
          3,
          6,
          3,
          3,
          3,
          3,
          3,
          3,
          3,
          3,
          3,
          3,
          3,
          3,
          3,
          3,
          3,
          3,
          3,
          3,
          3,
          3,
          6,
          3,
          3,
          3,
          3,
          3,
          6,
          3,
          3,
          3,
          6,
          3,
          3,
          3,
          3,
          3,
          3,
          3,
          3,
          3,
          3,
          3,
          6,
          3,
          3,
          3,
          6,
          3,
          3,
          3,
          3,
          6,
          3,
          6,
          3,
          6,
          3,
          6,
          3,
          6,
          3,
          3,
          3,
          3,
          3,
          4,
          4,
          4,
          4,
          4,
          4,
          4,
          4,
          4,
          4,
          4,
          4,
          4,
          4,
          4,
          4,
          4,
          4,
          4,
          4,
          4,
          4,
          4,
          4,
          4,
          4,
          4,
          4,
          4,
          4,
          4,
          4,
          4,
          4,
          4,
          4,
          4,
          4,
          4,
          4,
          4,
          4,
          4,
          4,
          6,
          4,
          4,
          4,
          4,
          4,
          4,
          4,
          4,
          4,
          4,
          4,
          4,
          4,
          4,
          4,
          4,
          4,
          6,
          4,
          4,
          4,
          6,
          4,
          4,
          4,
          4,
          4,
          4,
          4,
          4,
          4,
          4,
          4,
          4,
          6,
          4,
          4,
          4,
          4,
          4,
          4,
          4,
          4,
          4,
          4,
          4,
          4,
          4,
          4,
          4,
          6,
          4,
          4,
          4,
          4,
          4,
          4,
          4,
          4,
          4,
          4,
          4,
          4,
          4,
          4,
          4,
          4,
          4,
          4,
          4,
          4,
          4,
          4,
          4,
          4,
          4,
          5,
          5,
          5,
          5,
          5,
          5,
          5,
          5,
          5,
          5,
          5,
          5,
          5,
          5,
          5,
          5,
          5,
          5,
          5,
          5,
          5,
          5,
          5,
          5,
          5,
          5,
          5,
          5,
          5,
          5,
          5,
          5,
          5,
          5,
          5,
          5,
          5,
          5,
          6,
          5,
          5,
          5,
          5,
          5,
          5,
          5,
          5,
          5,
          5,
          5,
          5,
          5,
          5,
          5,
          5,
          5,
          5,
          5,
          5,
          5,
          5,
          5,
          8,
          5,
          5,
          8,
          8,
          5,
          5,
          5,
          5,
          5,
          5,
          5,
          8,
          5,
          5,
          5,
          5,
          5,
          5,
          5,
          5,
          5,
          5,
          5,
          5,
          5,
          5,
          5,
          5,
          5,
          5,
          5,
          5,
          5,
          5,
          5,
          5,
          5,
          5,
          5,
          5,
          5,
          5,
          5,
          5,
          5,
          5,
          5,
          5,
          5,
          5,
          5,
          5,
          5,
          5,
          5,
          5,
          5,
          5,
          5,
          5,
          5,
          5,
          5,
          5,
          5,
          5,
          5,
          5,
          8,
          5,
          5,
          5,
          5,
          5,
          5,
          5,
          5,
          5,
          5,
          5,
          5,
          5,
          5,
          5,
          5,
          5,
          5,
          5,
          5,
          5,
          5,
          5,
          5,
          5,
          5,
          5,
          5,
          5,
          5,
          5,
          5,
          5,
          5,
          5,
          5,
          5,
          6,
          6,
          6,
          6,
          6,
          6,
          6,
          6,
          6,
          6,
          6,
          6,
          6,
          6,
          6,
          6,
          6,
          6,
          6,
          6,
          6,
          6,
          6,
          6,
          6,
          6,
          6,
          6,
          6,
          6,
          6,
          6,
          6,
          6,
          6,
          6,
          6,
          6,
          6,
          6,
          6,
          6,
          6,
          6,
          6,
          6,
          6,
          6,
          6,
          6,
          6,
          6,
          6,
          6,
          6,
          6,
          6,
          6,
          6,
          6,
          6,
          6,
          6,
          6,
          6,
          6,
          6,
          6,
          6,
          6,
          6,
          6,
          6,
          6,
          6,
          6,
          6,
          6,
          6,
          6,
          6,
          6,
          6,
          6,
          7,
          7,
          7,
          7,
          7,
          7,
          7,
          7,
          7,
          7,
          7,
          7,
          7,
          7,
          7,
          7,
          7,
          7,
          7,
          7,
          7,
          7,
          7,
          7,
          7,
          7,
          7,
          7,
          7,
          7,
          7,
          7,
          7,
          7,
          7,
          7,
          7,
          7,
          7,
          7,
          7,
          7,
          7,
          7,
          7,
          7,
          7,
          7,
          7,
          7,
          7,
          7,
          7,
          7,
          7,
          7,
          7,
          7,
          7,
          7,
          7,
          7,
          7,
          7,
          7,
          7,
          7,
          7,
          7,
          7,
          7,
          7,
          7,
          7,
          7,
          7,
          7,
          7,
          7,
          7,
          7,
          7,
          7,
          7,
          7,
          7,
          7,
          7,
          7,
          7,
          7,
          7,
          7,
          7,
          7,
          7,
          7,
          7,
          8,
          8,
          8,
          8,
          8,
          8,
          8,
          8,
          8,
          8,
          8,
          8,
          8,
          8,
          8,
          8,
          8,
          8,
          8,
          8,
          8,
          8,
          8,
          8,
          8,
          8,
          8,
          8,
          8,
          8,
          8,
          8,
          8,
          8,
          8,
          8,
          8,
          8,
          8,
          8,
          8,
          8,
          8,
          8,
          8,
          8,
          8,
          8,
          8,
          8,
          8,
          8,
          8,
          8,
          8,
          8,
          8,
          8,
          8,
          8,
          8,
          8,
          8,
          8,
          8,
          8,
          8,
          8,
          8,
          8,
          8,
          8,
          8,
          8,
          8,
          8,
          8,
          8,
          8,
          8,
          8,
          8,
          8,
          8,
          8,
          8,
          8,
          8,
          8,
          8,
          8,
          8,
          8,
          8,
          8
         ],
         "xaxis": "x",
         "y": [
          49,
          62,
          82,
          100,
          52,
          64,
          84,
          104,
          130,
          48,
          63,
          83,
          103,
          30,
          20,
          45,
          35,
          25,
          90,
          150,
          45,
          60,
          80,
          80,
          56,
          56,
          81,
          71,
          60,
          90,
          60,
          95,
          55,
          90,
          85,
          75,
          75,
          100,
          100,
          47,
          62,
          92,
          57,
          72,
          102,
          45,
          70,
          41,
          41,
          76,
          67,
          45,
          70,
          45,
          80,
          50,
          65,
          80,
          70,
          95,
          55,
          65,
          55,
          55,
          100,
          100,
          45,
          35,
          65,
          70,
          60,
          52,
          82,
          80,
          105,
          70,
          110,
          50,
          65,
          95,
          20,
          35,
          50,
          50,
          80,
          100,
          130,
          75,
          90,
          105,
          40,
          70,
          80,
          80,
          95,
          95,
          120,
          120,
          85,
          85,
          100,
          100,
          65,
          65,
          75,
          75,
          100,
          35,
          60,
          90,
          95,
          85,
          110,
          45,
          70,
          80,
          80,
          105,
          105,
          65,
          95,
          35,
          50,
          65,
          65,
          45,
          48,
          73,
          105,
          130,
          30,
          50,
          40,
          95,
          105,
          50,
          80,
          80,
          120,
          105,
          55,
          65,
          90,
          90,
          85,
          130,
          5,
          55,
          95,
          125,
          40,
          65,
          67,
          92,
          45,
          75,
          45,
          65,
          110,
          50,
          83,
          95,
          125,
          155,
          100,
          10,
          125,
          155,
          85,
          48,
          55,
          65,
          65,
          130,
          60,
          40,
          60,
          80,
          115,
          105,
          135,
          110,
          85,
          85,
          90,
          125,
          100,
          85,
          64,
          84,
          134,
          110,
          150,
          190,
          100,
          49,
          62,
          82,
          52,
          64,
          84,
          65,
          80,
          105,
          46,
          76,
          30,
          50,
          20,
          35,
          60,
          90,
          90,
          38,
          58,
          40,
          25,
          30,
          20,
          40,
          50,
          75,
          40,
          55,
          75,
          95,
          80,
          20,
          50,
          100,
          75,
          35,
          45,
          55,
          70,
          30,
          75,
          65,
          45,
          85,
          65,
          65,
          85,
          75,
          65,
          60,
          72,
          33,
          80,
          65,
          90,
          70,
          75,
          85,
          125,
          80,
          120,
          95,
          130,
          150,
          10,
          125,
          185,
          95,
          80,
          130,
          40,
          50,
          50,
          100,
          55,
          55,
          65,
          105,
          55,
          40,
          80,
          60,
          90,
          90,
          95,
          60,
          120,
          80,
          95,
          20,
          35,
          95,
          30,
          63,
          75,
          80,
          10,
          85,
          115,
          75,
          64,
          84,
          134,
          164,
          90,
          130,
          100,
          45,
          65,
          85,
          110,
          60,
          85,
          120,
          160,
          70,
          85,
          110,
          150,
          55,
          90,
          30,
          30,
          70,
          70,
          45,
          35,
          70,
          35,
          50,
          30,
          50,
          70,
          40,
          70,
          100,
          55,
          85,
          30,
          50,
          25,
          35,
          65,
          85,
          30,
          60,
          40,
          130,
          60,
          80,
          160,
          45,
          90,
          90,
          51,
          71,
          91,
          60,
          120,
          20,
          45,
          45,
          65,
          75,
          85,
          85,
          105,
          70,
          90,
          110,
          140,
          40,
          60,
          100,
          45,
          75,
          75,
          50,
          40,
          73,
          47,
          60,
          43,
          73,
          90,
          120,
          140,
          70,
          90,
          60,
          100,
          120,
          85,
          25,
          45,
          60,
          100,
          70,
          100,
          85,
          115,
          40,
          70,
          110,
          115,
          100,
          55,
          95,
          48,
          78,
          80,
          120,
          40,
          70,
          41,
          81,
          95,
          125,
          15,
          60,
          70,
          90,
          75,
          115,
          165,
          40,
          70,
          68,
          50,
          130,
          150,
          23,
          50,
          80,
          120,
          40,
          60,
          80,
          64,
          104,
          84,
          90,
          30,
          75,
          95,
          135,
          145,
          55,
          75,
          135,
          145,
          100,
          50,
          75,
          80,
          100,
          90,
          130,
          100,
          150,
          150,
          180,
          150,
          180,
          100,
          150,
          70,
          180,
          95,
          68,
          89,
          109,
          58,
          78,
          104,
          51,
          66,
          86,
          55,
          75,
          120,
          45,
          85,
          25,
          85,
          65,
          85,
          120,
          30,
          70,
          125,
          165,
          42,
          52,
          29,
          59,
          79,
          69,
          94,
          30,
          80,
          45,
          65,
          105,
          35,
          60,
          48,
          83,
          100,
          50,
          80,
          66,
          76,
          136,
          60,
          125,
          55,
          82,
          30,
          63,
          93,
          24,
          89,
          80,
          25,
          5,
          65,
          92,
          70,
          90,
          130,
          170,
          85,
          70,
          110,
          145,
          72,
          112,
          50,
          90,
          61,
          106,
          100,
          49,
          69,
          20,
          62,
          92,
          132,
          120,
          70,
          85,
          140,
          100,
          123,
          95,
          50,
          76,
          110,
          60,
          95,
          130,
          80,
          125,
          165,
          55,
          100,
          80,
          50,
          65,
          65,
          65,
          65,
          65,
          75,
          105,
          125,
          120,
          120,
          90,
          160,
          100,
          120,
          70,
          80,
          100,
          90,
          100,
          103,
          120,
          100,
          45,
          60,
          75,
          63,
          93,
          123,
          55,
          75,
          100,
          55,
          85,
          60,
          80,
          110,
          50,
          88,
          53,
          98,
          53,
          98,
          53,
          98,
          25,
          55,
          55,
          77,
          115,
          60,
          100,
          75,
          105,
          135,
          45,
          57,
          85,
          135,
          60,
          60,
          80,
          105,
          140,
          50,
          65,
          95,
          100,
          125,
          53,
          63,
          103,
          45,
          55,
          100,
          27,
          67,
          35,
          60,
          92,
          72,
          82,
          117,
          90,
          90,
          140,
          30,
          140,
          160,
          86,
          65,
          105,
          75,
          90,
          58,
          30,
          55,
          50,
          78,
          108,
          112,
          140,
          50,
          95,
          65,
          105,
          50,
          95,
          30,
          45,
          55,
          30,
          40,
          65,
          44,
          87,
          50,
          65,
          95,
          60,
          100,
          75,
          75,
          135,
          55,
          85,
          40,
          60,
          75,
          47,
          77,
          50,
          94,
          55,
          80,
          100,
          55,
          85,
          115,
          55,
          75,
          30,
          40,
          55,
          87,
          117,
          147,
          70,
          130,
          50,
          40,
          70,
          66,
          81,
          85,
          125,
          120,
          74,
          124,
          85,
          125,
          110,
          83,
          123,
          55,
          65,
          97,
          109,
          65,
          85,
          105,
          85,
          60,
          90,
          129,
          90,
          115,
          100,
          115,
          105,
          120,
          150,
          125,
          145,
          130,
          120,
          170,
          72,
          77,
          128,
          120,
          61,
          78,
          107,
          45,
          59,
          69,
          56,
          63,
          95,
          145,
          36,
          56,
          50,
          73,
          81,
          35,
          22,
          52,
          50,
          68,
          38,
          45,
          65,
          65,
          100,
          82,
          124,
          80,
          48,
          48,
          80,
          110,
          70,
          140,
          52,
          72,
          48,
          80,
          54,
          92,
          52,
          105,
          60,
          75,
          53,
          73,
          38,
          55,
          89,
          121,
          59,
          77,
          65,
          92,
          58,
          50,
          50,
          75,
          100,
          80,
          70,
          110,
          66,
          66,
          66,
          66,
          85,
          90,
          95,
          100,
          69,
          117,
          30,
          70,
          131,
          131,
          100,
          100,
          100,
          160,
          100,
          110,
          160,
          110,
          55,
          75,
          107,
          65,
          85,
          115,
          54,
          69,
          74,
          75,
          85,
          120,
          70,
          110,
          62,
          82,
          70,
          82,
          132,
          70,
          70,
          70,
          70,
          45,
          55,
          65,
          115,
          115,
          117,
          20,
          140,
          53,
          63,
          100,
          125,
          40,
          70,
          55,
          105,
          35,
          45,
          44,
          64,
          75,
          125,
          30,
          40,
          120,
          52,
          60,
          120,
          35,
          125,
          55,
          75,
          60,
          95,
          95,
          60,
          100,
          115,
          78,
          98,
          90,
          105,
          60,
          131,
          55,
          75,
          110,
          115,
          85,
          130,
          75,
          29,
          29,
          137,
          113,
          53,
          139,
          137,
          89,
          101,
          181,
          101,
          107,
          157,
          113,
          167,
          95,
          125,
          73,
          73,
          131,
          127,
          112,
          65,
          143,
          65,
          85,
          125,
          71,
          86,
          116,
          40,
          60,
          85,
          55,
          95,
          47,
          67,
          87,
          20,
          35,
          45,
          28,
          58,
          40,
          50,
          40,
          80,
          64,
          115,
          45,
          90,
          40,
          60,
          80,
          40,
          110,
          85,
          57,
          107,
          85,
          63,
          123,
          38,
          98,
          65,
          115,
          68,
          118,
          45,
          65,
          30,
          40,
          90,
          45,
          60,
          120,
          90,
          110,
          95,
          135,
          85,
          95,
          40,
          60,
          100,
          101,
          25,
          65,
          125,
          80,
          80,
          65,
          95,
          80,
          130,
          100,
          100,
          90,
          90,
          95,
          60,
          80,
          120,
          130,
          170,
          130,
          130,
          85,
          90,
          130,
          130,
          120,
          100,
          100,
          145,
          65,
          80,
          165,
          85
         ],
         "yaxis": "y"
        }
       ],
       "layout": {
        "barmode": "relative",
        "legend": {
         "tracegroupgap": 0
        },
        "margin": {
         "t": 60
        },
        "template": {
         "data": {
          "bar": [
           {
            "error_x": {
             "color": "#2a3f5f"
            },
            "error_y": {
             "color": "#2a3f5f"
            },
            "marker": {
             "line": {
              "color": "#E5ECF6",
              "width": 0.5
             },
             "pattern": {
              "fillmode": "overlay",
              "size": 10,
              "solidity": 0.2
             }
            },
            "type": "bar"
           }
          ],
          "barpolar": [
           {
            "marker": {
             "line": {
              "color": "#E5ECF6",
              "width": 0.5
             },
             "pattern": {
              "fillmode": "overlay",
              "size": 10,
              "solidity": 0.2
             }
            },
            "type": "barpolar"
           }
          ],
          "carpet": [
           {
            "aaxis": {
             "endlinecolor": "#2a3f5f",
             "gridcolor": "white",
             "linecolor": "white",
             "minorgridcolor": "white",
             "startlinecolor": "#2a3f5f"
            },
            "baxis": {
             "endlinecolor": "#2a3f5f",
             "gridcolor": "white",
             "linecolor": "white",
             "minorgridcolor": "white",
             "startlinecolor": "#2a3f5f"
            },
            "type": "carpet"
           }
          ],
          "choropleth": [
           {
            "colorbar": {
             "outlinewidth": 0,
             "ticks": ""
            },
            "type": "choropleth"
           }
          ],
          "contour": [
           {
            "colorbar": {
             "outlinewidth": 0,
             "ticks": ""
            },
            "colorscale": [
             [
              0,
              "#0d0887"
             ],
             [
              0.1111111111111111,
              "#46039f"
             ],
             [
              0.2222222222222222,
              "#7201a8"
             ],
             [
              0.3333333333333333,
              "#9c179e"
             ],
             [
              0.4444444444444444,
              "#bd3786"
             ],
             [
              0.5555555555555556,
              "#d8576b"
             ],
             [
              0.6666666666666666,
              "#ed7953"
             ],
             [
              0.7777777777777778,
              "#fb9f3a"
             ],
             [
              0.8888888888888888,
              "#fdca26"
             ],
             [
              1,
              "#f0f921"
             ]
            ],
            "type": "contour"
           }
          ],
          "contourcarpet": [
           {
            "colorbar": {
             "outlinewidth": 0,
             "ticks": ""
            },
            "type": "contourcarpet"
           }
          ],
          "heatmap": [
           {
            "colorbar": {
             "outlinewidth": 0,
             "ticks": ""
            },
            "colorscale": [
             [
              0,
              "#0d0887"
             ],
             [
              0.1111111111111111,
              "#46039f"
             ],
             [
              0.2222222222222222,
              "#7201a8"
             ],
             [
              0.3333333333333333,
              "#9c179e"
             ],
             [
              0.4444444444444444,
              "#bd3786"
             ],
             [
              0.5555555555555556,
              "#d8576b"
             ],
             [
              0.6666666666666666,
              "#ed7953"
             ],
             [
              0.7777777777777778,
              "#fb9f3a"
             ],
             [
              0.8888888888888888,
              "#fdca26"
             ],
             [
              1,
              "#f0f921"
             ]
            ],
            "type": "heatmap"
           }
          ],
          "heatmapgl": [
           {
            "colorbar": {
             "outlinewidth": 0,
             "ticks": ""
            },
            "colorscale": [
             [
              0,
              "#0d0887"
             ],
             [
              0.1111111111111111,
              "#46039f"
             ],
             [
              0.2222222222222222,
              "#7201a8"
             ],
             [
              0.3333333333333333,
              "#9c179e"
             ],
             [
              0.4444444444444444,
              "#bd3786"
             ],
             [
              0.5555555555555556,
              "#d8576b"
             ],
             [
              0.6666666666666666,
              "#ed7953"
             ],
             [
              0.7777777777777778,
              "#fb9f3a"
             ],
             [
              0.8888888888888888,
              "#fdca26"
             ],
             [
              1,
              "#f0f921"
             ]
            ],
            "type": "heatmapgl"
           }
          ],
          "histogram": [
           {
            "marker": {
             "pattern": {
              "fillmode": "overlay",
              "size": 10,
              "solidity": 0.2
             }
            },
            "type": "histogram"
           }
          ],
          "histogram2d": [
           {
            "colorbar": {
             "outlinewidth": 0,
             "ticks": ""
            },
            "colorscale": [
             [
              0,
              "#0d0887"
             ],
             [
              0.1111111111111111,
              "#46039f"
             ],
             [
              0.2222222222222222,
              "#7201a8"
             ],
             [
              0.3333333333333333,
              "#9c179e"
             ],
             [
              0.4444444444444444,
              "#bd3786"
             ],
             [
              0.5555555555555556,
              "#d8576b"
             ],
             [
              0.6666666666666666,
              "#ed7953"
             ],
             [
              0.7777777777777778,
              "#fb9f3a"
             ],
             [
              0.8888888888888888,
              "#fdca26"
             ],
             [
              1,
              "#f0f921"
             ]
            ],
            "type": "histogram2d"
           }
          ],
          "histogram2dcontour": [
           {
            "colorbar": {
             "outlinewidth": 0,
             "ticks": ""
            },
            "colorscale": [
             [
              0,
              "#0d0887"
             ],
             [
              0.1111111111111111,
              "#46039f"
             ],
             [
              0.2222222222222222,
              "#7201a8"
             ],
             [
              0.3333333333333333,
              "#9c179e"
             ],
             [
              0.4444444444444444,
              "#bd3786"
             ],
             [
              0.5555555555555556,
              "#d8576b"
             ],
             [
              0.6666666666666666,
              "#ed7953"
             ],
             [
              0.7777777777777778,
              "#fb9f3a"
             ],
             [
              0.8888888888888888,
              "#fdca26"
             ],
             [
              1,
              "#f0f921"
             ]
            ],
            "type": "histogram2dcontour"
           }
          ],
          "mesh3d": [
           {
            "colorbar": {
             "outlinewidth": 0,
             "ticks": ""
            },
            "type": "mesh3d"
           }
          ],
          "parcoords": [
           {
            "line": {
             "colorbar": {
              "outlinewidth": 0,
              "ticks": ""
             }
            },
            "type": "parcoords"
           }
          ],
          "pie": [
           {
            "automargin": true,
            "type": "pie"
           }
          ],
          "scatter": [
           {
            "fillpattern": {
             "fillmode": "overlay",
             "size": 10,
             "solidity": 0.2
            },
            "type": "scatter"
           }
          ],
          "scatter3d": [
           {
            "line": {
             "colorbar": {
              "outlinewidth": 0,
              "ticks": ""
             }
            },
            "marker": {
             "colorbar": {
              "outlinewidth": 0,
              "ticks": ""
             }
            },
            "type": "scatter3d"
           }
          ],
          "scattercarpet": [
           {
            "marker": {
             "colorbar": {
              "outlinewidth": 0,
              "ticks": ""
             }
            },
            "type": "scattercarpet"
           }
          ],
          "scattergeo": [
           {
            "marker": {
             "colorbar": {
              "outlinewidth": 0,
              "ticks": ""
             }
            },
            "type": "scattergeo"
           }
          ],
          "scattergl": [
           {
            "marker": {
             "colorbar": {
              "outlinewidth": 0,
              "ticks": ""
             }
            },
            "type": "scattergl"
           }
          ],
          "scattermapbox": [
           {
            "marker": {
             "colorbar": {
              "outlinewidth": 0,
              "ticks": ""
             }
            },
            "type": "scattermapbox"
           }
          ],
          "scatterpolar": [
           {
            "marker": {
             "colorbar": {
              "outlinewidth": 0,
              "ticks": ""
             }
            },
            "type": "scatterpolar"
           }
          ],
          "scatterpolargl": [
           {
            "marker": {
             "colorbar": {
              "outlinewidth": 0,
              "ticks": ""
             }
            },
            "type": "scatterpolargl"
           }
          ],
          "scatterternary": [
           {
            "marker": {
             "colorbar": {
              "outlinewidth": 0,
              "ticks": ""
             }
            },
            "type": "scatterternary"
           }
          ],
          "surface": [
           {
            "colorbar": {
             "outlinewidth": 0,
             "ticks": ""
            },
            "colorscale": [
             [
              0,
              "#0d0887"
             ],
             [
              0.1111111111111111,
              "#46039f"
             ],
             [
              0.2222222222222222,
              "#7201a8"
             ],
             [
              0.3333333333333333,
              "#9c179e"
             ],
             [
              0.4444444444444444,
              "#bd3786"
             ],
             [
              0.5555555555555556,
              "#d8576b"
             ],
             [
              0.6666666666666666,
              "#ed7953"
             ],
             [
              0.7777777777777778,
              "#fb9f3a"
             ],
             [
              0.8888888888888888,
              "#fdca26"
             ],
             [
              1,
              "#f0f921"
             ]
            ],
            "type": "surface"
           }
          ],
          "table": [
           {
            "cells": {
             "fill": {
              "color": "#EBF0F8"
             },
             "line": {
              "color": "white"
             }
            },
            "header": {
             "fill": {
              "color": "#C8D4E3"
             },
             "line": {
              "color": "white"
             }
            },
            "type": "table"
           }
          ]
         },
         "layout": {
          "annotationdefaults": {
           "arrowcolor": "#2a3f5f",
           "arrowhead": 0,
           "arrowwidth": 1
          },
          "autotypenumbers": "strict",
          "coloraxis": {
           "colorbar": {
            "outlinewidth": 0,
            "ticks": ""
           }
          },
          "colorscale": {
           "diverging": [
            [
             0,
             "#8e0152"
            ],
            [
             0.1,
             "#c51b7d"
            ],
            [
             0.2,
             "#de77ae"
            ],
            [
             0.3,
             "#f1b6da"
            ],
            [
             0.4,
             "#fde0ef"
            ],
            [
             0.5,
             "#f7f7f7"
            ],
            [
             0.6,
             "#e6f5d0"
            ],
            [
             0.7,
             "#b8e186"
            ],
            [
             0.8,
             "#7fbc41"
            ],
            [
             0.9,
             "#4d9221"
            ],
            [
             1,
             "#276419"
            ]
           ],
           "sequential": [
            [
             0,
             "#0d0887"
            ],
            [
             0.1111111111111111,
             "#46039f"
            ],
            [
             0.2222222222222222,
             "#7201a8"
            ],
            [
             0.3333333333333333,
             "#9c179e"
            ],
            [
             0.4444444444444444,
             "#bd3786"
            ],
            [
             0.5555555555555556,
             "#d8576b"
            ],
            [
             0.6666666666666666,
             "#ed7953"
            ],
            [
             0.7777777777777778,
             "#fb9f3a"
            ],
            [
             0.8888888888888888,
             "#fdca26"
            ],
            [
             1,
             "#f0f921"
            ]
           ],
           "sequentialminus": [
            [
             0,
             "#0d0887"
            ],
            [
             0.1111111111111111,
             "#46039f"
            ],
            [
             0.2222222222222222,
             "#7201a8"
            ],
            [
             0.3333333333333333,
             "#9c179e"
            ],
            [
             0.4444444444444444,
             "#bd3786"
            ],
            [
             0.5555555555555556,
             "#d8576b"
            ],
            [
             0.6666666666666666,
             "#ed7953"
            ],
            [
             0.7777777777777778,
             "#fb9f3a"
            ],
            [
             0.8888888888888888,
             "#fdca26"
            ],
            [
             1,
             "#f0f921"
            ]
           ]
          },
          "colorway": [
           "#636efa",
           "#EF553B",
           "#00cc96",
           "#ab63fa",
           "#FFA15A",
           "#19d3f3",
           "#FF6692",
           "#B6E880",
           "#FF97FF",
           "#FECB52"
          ],
          "font": {
           "color": "#2a3f5f"
          },
          "geo": {
           "bgcolor": "white",
           "lakecolor": "white",
           "landcolor": "#E5ECF6",
           "showlakes": true,
           "showland": true,
           "subunitcolor": "white"
          },
          "hoverlabel": {
           "align": "left"
          },
          "hovermode": "closest",
          "mapbox": {
           "style": "light"
          },
          "paper_bgcolor": "white",
          "plot_bgcolor": "#E5ECF6",
          "polar": {
           "angularaxis": {
            "gridcolor": "white",
            "linecolor": "white",
            "ticks": ""
           },
           "bgcolor": "#E5ECF6",
           "radialaxis": {
            "gridcolor": "white",
            "linecolor": "white",
            "ticks": ""
           }
          },
          "scene": {
           "xaxis": {
            "backgroundcolor": "#E5ECF6",
            "gridcolor": "white",
            "gridwidth": 2,
            "linecolor": "white",
            "showbackground": true,
            "ticks": "",
            "zerolinecolor": "white"
           },
           "yaxis": {
            "backgroundcolor": "#E5ECF6",
            "gridcolor": "white",
            "gridwidth": 2,
            "linecolor": "white",
            "showbackground": true,
            "ticks": "",
            "zerolinecolor": "white"
           },
           "zaxis": {
            "backgroundcolor": "#E5ECF6",
            "gridcolor": "white",
            "gridwidth": 2,
            "linecolor": "white",
            "showbackground": true,
            "ticks": "",
            "zerolinecolor": "white"
           }
          },
          "shapedefaults": {
           "line": {
            "color": "#2a3f5f"
           }
          },
          "ternary": {
           "aaxis": {
            "gridcolor": "white",
            "linecolor": "white",
            "ticks": ""
           },
           "baxis": {
            "gridcolor": "white",
            "linecolor": "white",
            "ticks": ""
           },
           "bgcolor": "#E5ECF6",
           "caxis": {
            "gridcolor": "white",
            "linecolor": "white",
            "ticks": ""
           }
          },
          "title": {
           "x": 0.05
          },
          "xaxis": {
           "automargin": true,
           "gridcolor": "white",
           "linecolor": "white",
           "ticks": "",
           "title": {
            "standoff": 15
           },
           "zerolinecolor": "white",
           "zerolinewidth": 2
          },
          "yaxis": {
           "automargin": true,
           "gridcolor": "white",
           "linecolor": "white",
           "ticks": "",
           "title": {
            "standoff": 15
           },
           "zerolinecolor": "white",
           "zerolinewidth": 2
          }
         }
        },
        "xaxis": {
         "anchor": "y",
         "domain": [
          0,
          1
         ],
         "title": {
          "text": "Generation"
         }
        },
        "yaxis": {
         "anchor": "x",
         "domain": [
          0,
          1
         ],
         "title": {
          "text": "Att"
         }
        }
       }
      }
     },
     "metadata": {},
     "output_type": "display_data"
    }
   ],
   "source": [
    "# gera a figura chamando a função bar()\n",
    "# o primeiro parâmetro é o DataFrame e os seguintes \n",
    "# são as colunas do DataFrame que serão os eixos X e Y.\n",
    "fig = px.bar(pokemons, x='Generation', y='Att')\n",
    "\n",
    "# função para plotar a imagem\n",
    "fig.show()"
   ]
  },
  {
   "attachments": {},
   "cell_type": "markdown",
   "metadata": {},
   "source": [
    "Está aí nosso gráfico, mas ele parece estar com um problema: essa aparência riscada. Por que isso aconteceu? Se passarmos o mouse por cima de uma das barras, veremos que na verdade, ela registra cada um dos valores de ataque dos pokemons, ou seja, ele não está calculando a média dos valores, como seria esperado.\n",
    "\n",
    "E como resolvemos isso? De duas maneiras:\n",
    "1) fazemos a transformação dos dados, com um group by\n",
    "2) modificamos o tipo de gráfico.\n",
    "\n",
    "Nesta aula, vamos resolver com a solução 1 - transformar os dados."
   ]
  },
  {
   "cell_type": "code",
   "execution_count": 19,
   "metadata": {},
   "outputs": [
    {
     "name": "stdout",
     "output_type": "stream",
     "text": [
      "*  duckdb:///:memory:\n",
      "Done.\n"
     ]
    }
   ],
   "source": [
    "%sql pokemons_gb << select Generation, AVG(Att) as AvgAttack from pokemons group by Generation order by Generation"
   ]
  },
  {
   "cell_type": "code",
   "execution_count": 20,
   "metadata": {},
   "outputs": [
    {
     "data": {
      "application/vnd.plotly.v1+json": {
       "config": {
        "plotlyServerURL": "https://plot.ly"
       },
       "data": [
        {
         "alignmentgroup": "True",
         "hovertemplate": "Generation=%{x}<br>AvgAttack=%{y}<extra></extra>",
         "legendgroup": "",
         "marker": {
          "color": "#636efa",
          "pattern": {
           "shape": ""
          }
         },
         "name": "",
         "offsetgroup": "",
         "orientation": "v",
         "showlegend": false,
         "textposition": "auto",
         "type": "bar",
         "x": [
          1,
          2,
          3,
          4,
          5,
          6,
          7,
          8
         ],
         "xaxis": "x",
         "y": [
          72.91390728476821,
          68.26,
          74.02173913043478,
          79.99137931034483,
          82.4478527607362,
          95.8796992481203,
          86.11206896551724,
          83.41739130434783
         ],
         "yaxis": "y"
        }
       ],
       "layout": {
        "barmode": "relative",
        "legend": {
         "tracegroupgap": 0
        },
        "margin": {
         "t": 60
        },
        "template": {
         "data": {
          "bar": [
           {
            "error_x": {
             "color": "#2a3f5f"
            },
            "error_y": {
             "color": "#2a3f5f"
            },
            "marker": {
             "line": {
              "color": "#E5ECF6",
              "width": 0.5
             },
             "pattern": {
              "fillmode": "overlay",
              "size": 10,
              "solidity": 0.2
             }
            },
            "type": "bar"
           }
          ],
          "barpolar": [
           {
            "marker": {
             "line": {
              "color": "#E5ECF6",
              "width": 0.5
             },
             "pattern": {
              "fillmode": "overlay",
              "size": 10,
              "solidity": 0.2
             }
            },
            "type": "barpolar"
           }
          ],
          "carpet": [
           {
            "aaxis": {
             "endlinecolor": "#2a3f5f",
             "gridcolor": "white",
             "linecolor": "white",
             "minorgridcolor": "white",
             "startlinecolor": "#2a3f5f"
            },
            "baxis": {
             "endlinecolor": "#2a3f5f",
             "gridcolor": "white",
             "linecolor": "white",
             "minorgridcolor": "white",
             "startlinecolor": "#2a3f5f"
            },
            "type": "carpet"
           }
          ],
          "choropleth": [
           {
            "colorbar": {
             "outlinewidth": 0,
             "ticks": ""
            },
            "type": "choropleth"
           }
          ],
          "contour": [
           {
            "colorbar": {
             "outlinewidth": 0,
             "ticks": ""
            },
            "colorscale": [
             [
              0,
              "#0d0887"
             ],
             [
              0.1111111111111111,
              "#46039f"
             ],
             [
              0.2222222222222222,
              "#7201a8"
             ],
             [
              0.3333333333333333,
              "#9c179e"
             ],
             [
              0.4444444444444444,
              "#bd3786"
             ],
             [
              0.5555555555555556,
              "#d8576b"
             ],
             [
              0.6666666666666666,
              "#ed7953"
             ],
             [
              0.7777777777777778,
              "#fb9f3a"
             ],
             [
              0.8888888888888888,
              "#fdca26"
             ],
             [
              1,
              "#f0f921"
             ]
            ],
            "type": "contour"
           }
          ],
          "contourcarpet": [
           {
            "colorbar": {
             "outlinewidth": 0,
             "ticks": ""
            },
            "type": "contourcarpet"
           }
          ],
          "heatmap": [
           {
            "colorbar": {
             "outlinewidth": 0,
             "ticks": ""
            },
            "colorscale": [
             [
              0,
              "#0d0887"
             ],
             [
              0.1111111111111111,
              "#46039f"
             ],
             [
              0.2222222222222222,
              "#7201a8"
             ],
             [
              0.3333333333333333,
              "#9c179e"
             ],
             [
              0.4444444444444444,
              "#bd3786"
             ],
             [
              0.5555555555555556,
              "#d8576b"
             ],
             [
              0.6666666666666666,
              "#ed7953"
             ],
             [
              0.7777777777777778,
              "#fb9f3a"
             ],
             [
              0.8888888888888888,
              "#fdca26"
             ],
             [
              1,
              "#f0f921"
             ]
            ],
            "type": "heatmap"
           }
          ],
          "heatmapgl": [
           {
            "colorbar": {
             "outlinewidth": 0,
             "ticks": ""
            },
            "colorscale": [
             [
              0,
              "#0d0887"
             ],
             [
              0.1111111111111111,
              "#46039f"
             ],
             [
              0.2222222222222222,
              "#7201a8"
             ],
             [
              0.3333333333333333,
              "#9c179e"
             ],
             [
              0.4444444444444444,
              "#bd3786"
             ],
             [
              0.5555555555555556,
              "#d8576b"
             ],
             [
              0.6666666666666666,
              "#ed7953"
             ],
             [
              0.7777777777777778,
              "#fb9f3a"
             ],
             [
              0.8888888888888888,
              "#fdca26"
             ],
             [
              1,
              "#f0f921"
             ]
            ],
            "type": "heatmapgl"
           }
          ],
          "histogram": [
           {
            "marker": {
             "pattern": {
              "fillmode": "overlay",
              "size": 10,
              "solidity": 0.2
             }
            },
            "type": "histogram"
           }
          ],
          "histogram2d": [
           {
            "colorbar": {
             "outlinewidth": 0,
             "ticks": ""
            },
            "colorscale": [
             [
              0,
              "#0d0887"
             ],
             [
              0.1111111111111111,
              "#46039f"
             ],
             [
              0.2222222222222222,
              "#7201a8"
             ],
             [
              0.3333333333333333,
              "#9c179e"
             ],
             [
              0.4444444444444444,
              "#bd3786"
             ],
             [
              0.5555555555555556,
              "#d8576b"
             ],
             [
              0.6666666666666666,
              "#ed7953"
             ],
             [
              0.7777777777777778,
              "#fb9f3a"
             ],
             [
              0.8888888888888888,
              "#fdca26"
             ],
             [
              1,
              "#f0f921"
             ]
            ],
            "type": "histogram2d"
           }
          ],
          "histogram2dcontour": [
           {
            "colorbar": {
             "outlinewidth": 0,
             "ticks": ""
            },
            "colorscale": [
             [
              0,
              "#0d0887"
             ],
             [
              0.1111111111111111,
              "#46039f"
             ],
             [
              0.2222222222222222,
              "#7201a8"
             ],
             [
              0.3333333333333333,
              "#9c179e"
             ],
             [
              0.4444444444444444,
              "#bd3786"
             ],
             [
              0.5555555555555556,
              "#d8576b"
             ],
             [
              0.6666666666666666,
              "#ed7953"
             ],
             [
              0.7777777777777778,
              "#fb9f3a"
             ],
             [
              0.8888888888888888,
              "#fdca26"
             ],
             [
              1,
              "#f0f921"
             ]
            ],
            "type": "histogram2dcontour"
           }
          ],
          "mesh3d": [
           {
            "colorbar": {
             "outlinewidth": 0,
             "ticks": ""
            },
            "type": "mesh3d"
           }
          ],
          "parcoords": [
           {
            "line": {
             "colorbar": {
              "outlinewidth": 0,
              "ticks": ""
             }
            },
            "type": "parcoords"
           }
          ],
          "pie": [
           {
            "automargin": true,
            "type": "pie"
           }
          ],
          "scatter": [
           {
            "fillpattern": {
             "fillmode": "overlay",
             "size": 10,
             "solidity": 0.2
            },
            "type": "scatter"
           }
          ],
          "scatter3d": [
           {
            "line": {
             "colorbar": {
              "outlinewidth": 0,
              "ticks": ""
             }
            },
            "marker": {
             "colorbar": {
              "outlinewidth": 0,
              "ticks": ""
             }
            },
            "type": "scatter3d"
           }
          ],
          "scattercarpet": [
           {
            "marker": {
             "colorbar": {
              "outlinewidth": 0,
              "ticks": ""
             }
            },
            "type": "scattercarpet"
           }
          ],
          "scattergeo": [
           {
            "marker": {
             "colorbar": {
              "outlinewidth": 0,
              "ticks": ""
             }
            },
            "type": "scattergeo"
           }
          ],
          "scattergl": [
           {
            "marker": {
             "colorbar": {
              "outlinewidth": 0,
              "ticks": ""
             }
            },
            "type": "scattergl"
           }
          ],
          "scattermapbox": [
           {
            "marker": {
             "colorbar": {
              "outlinewidth": 0,
              "ticks": ""
             }
            },
            "type": "scattermapbox"
           }
          ],
          "scatterpolar": [
           {
            "marker": {
             "colorbar": {
              "outlinewidth": 0,
              "ticks": ""
             }
            },
            "type": "scatterpolar"
           }
          ],
          "scatterpolargl": [
           {
            "marker": {
             "colorbar": {
              "outlinewidth": 0,
              "ticks": ""
             }
            },
            "type": "scatterpolargl"
           }
          ],
          "scatterternary": [
           {
            "marker": {
             "colorbar": {
              "outlinewidth": 0,
              "ticks": ""
             }
            },
            "type": "scatterternary"
           }
          ],
          "surface": [
           {
            "colorbar": {
             "outlinewidth": 0,
             "ticks": ""
            },
            "colorscale": [
             [
              0,
              "#0d0887"
             ],
             [
              0.1111111111111111,
              "#46039f"
             ],
             [
              0.2222222222222222,
              "#7201a8"
             ],
             [
              0.3333333333333333,
              "#9c179e"
             ],
             [
              0.4444444444444444,
              "#bd3786"
             ],
             [
              0.5555555555555556,
              "#d8576b"
             ],
             [
              0.6666666666666666,
              "#ed7953"
             ],
             [
              0.7777777777777778,
              "#fb9f3a"
             ],
             [
              0.8888888888888888,
              "#fdca26"
             ],
             [
              1,
              "#f0f921"
             ]
            ],
            "type": "surface"
           }
          ],
          "table": [
           {
            "cells": {
             "fill": {
              "color": "#EBF0F8"
             },
             "line": {
              "color": "white"
             }
            },
            "header": {
             "fill": {
              "color": "#C8D4E3"
             },
             "line": {
              "color": "white"
             }
            },
            "type": "table"
           }
          ]
         },
         "layout": {
          "annotationdefaults": {
           "arrowcolor": "#2a3f5f",
           "arrowhead": 0,
           "arrowwidth": 1
          },
          "autotypenumbers": "strict",
          "coloraxis": {
           "colorbar": {
            "outlinewidth": 0,
            "ticks": ""
           }
          },
          "colorscale": {
           "diverging": [
            [
             0,
             "#8e0152"
            ],
            [
             0.1,
             "#c51b7d"
            ],
            [
             0.2,
             "#de77ae"
            ],
            [
             0.3,
             "#f1b6da"
            ],
            [
             0.4,
             "#fde0ef"
            ],
            [
             0.5,
             "#f7f7f7"
            ],
            [
             0.6,
             "#e6f5d0"
            ],
            [
             0.7,
             "#b8e186"
            ],
            [
             0.8,
             "#7fbc41"
            ],
            [
             0.9,
             "#4d9221"
            ],
            [
             1,
             "#276419"
            ]
           ],
           "sequential": [
            [
             0,
             "#0d0887"
            ],
            [
             0.1111111111111111,
             "#46039f"
            ],
            [
             0.2222222222222222,
             "#7201a8"
            ],
            [
             0.3333333333333333,
             "#9c179e"
            ],
            [
             0.4444444444444444,
             "#bd3786"
            ],
            [
             0.5555555555555556,
             "#d8576b"
            ],
            [
             0.6666666666666666,
             "#ed7953"
            ],
            [
             0.7777777777777778,
             "#fb9f3a"
            ],
            [
             0.8888888888888888,
             "#fdca26"
            ],
            [
             1,
             "#f0f921"
            ]
           ],
           "sequentialminus": [
            [
             0,
             "#0d0887"
            ],
            [
             0.1111111111111111,
             "#46039f"
            ],
            [
             0.2222222222222222,
             "#7201a8"
            ],
            [
             0.3333333333333333,
             "#9c179e"
            ],
            [
             0.4444444444444444,
             "#bd3786"
            ],
            [
             0.5555555555555556,
             "#d8576b"
            ],
            [
             0.6666666666666666,
             "#ed7953"
            ],
            [
             0.7777777777777778,
             "#fb9f3a"
            ],
            [
             0.8888888888888888,
             "#fdca26"
            ],
            [
             1,
             "#f0f921"
            ]
           ]
          },
          "colorway": [
           "#636efa",
           "#EF553B",
           "#00cc96",
           "#ab63fa",
           "#FFA15A",
           "#19d3f3",
           "#FF6692",
           "#B6E880",
           "#FF97FF",
           "#FECB52"
          ],
          "font": {
           "color": "#2a3f5f"
          },
          "geo": {
           "bgcolor": "white",
           "lakecolor": "white",
           "landcolor": "#E5ECF6",
           "showlakes": true,
           "showland": true,
           "subunitcolor": "white"
          },
          "hoverlabel": {
           "align": "left"
          },
          "hovermode": "closest",
          "mapbox": {
           "style": "light"
          },
          "paper_bgcolor": "white",
          "plot_bgcolor": "#E5ECF6",
          "polar": {
           "angularaxis": {
            "gridcolor": "white",
            "linecolor": "white",
            "ticks": ""
           },
           "bgcolor": "#E5ECF6",
           "radialaxis": {
            "gridcolor": "white",
            "linecolor": "white",
            "ticks": ""
           }
          },
          "scene": {
           "xaxis": {
            "backgroundcolor": "#E5ECF6",
            "gridcolor": "white",
            "gridwidth": 2,
            "linecolor": "white",
            "showbackground": true,
            "ticks": "",
            "zerolinecolor": "white"
           },
           "yaxis": {
            "backgroundcolor": "#E5ECF6",
            "gridcolor": "white",
            "gridwidth": 2,
            "linecolor": "white",
            "showbackground": true,
            "ticks": "",
            "zerolinecolor": "white"
           },
           "zaxis": {
            "backgroundcolor": "#E5ECF6",
            "gridcolor": "white",
            "gridwidth": 2,
            "linecolor": "white",
            "showbackground": true,
            "ticks": "",
            "zerolinecolor": "white"
           }
          },
          "shapedefaults": {
           "line": {
            "color": "#2a3f5f"
           }
          },
          "ternary": {
           "aaxis": {
            "gridcolor": "white",
            "linecolor": "white",
            "ticks": ""
           },
           "baxis": {
            "gridcolor": "white",
            "linecolor": "white",
            "ticks": ""
           },
           "bgcolor": "#E5ECF6",
           "caxis": {
            "gridcolor": "white",
            "linecolor": "white",
            "ticks": ""
           }
          },
          "title": {
           "x": 0.05
          },
          "xaxis": {
           "automargin": true,
           "gridcolor": "white",
           "linecolor": "white",
           "ticks": "",
           "title": {
            "standoff": 15
           },
           "zerolinecolor": "white",
           "zerolinewidth": 2
          },
          "yaxis": {
           "automargin": true,
           "gridcolor": "white",
           "linecolor": "white",
           "ticks": "",
           "title": {
            "standoff": 15
           },
           "zerolinecolor": "white",
           "zerolinewidth": 2
          }
         }
        },
        "xaxis": {
         "anchor": "y",
         "domain": [
          0,
          1
         ],
         "title": {
          "text": "Generation"
         }
        },
        "yaxis": {
         "anchor": "x",
         "domain": [
          0,
          1
         ],
         "title": {
          "text": "AvgAttack"
         }
        }
       }
      }
     },
     "metadata": {},
     "output_type": "display_data"
    }
   ],
   "source": [
    "# gera a figura chamando a função bar()\n",
    "# o primeiro parâmetro é o DataFrame e os seguintes \n",
    "# são as colunas do DataFrame que serão os eixos X e Y.\n",
    "fig = px.bar(pokemons_gb, x='Generation', y='AvgAttack')\n",
    "\n",
    "# função para plotar a imagem\n",
    "fig.show()"
   ]
  },
  {
   "attachments": {},
   "cell_type": "markdown",
   "metadata": {},
   "source": [
    "Está aí nosso gráfico, agora com cada barra representando a média do poder de ataque de cada geração. Para transformar em barras horizontais, basta trocar o eixo X com o Y, além de adicionar o parâmetro de orientação."
   ]
  },
  {
   "cell_type": "code",
   "execution_count": 21,
   "metadata": {},
   "outputs": [
    {
     "data": {
      "application/vnd.plotly.v1+json": {
       "config": {
        "plotlyServerURL": "https://plot.ly"
       },
       "data": [
        {
         "alignmentgroup": "True",
         "hovertemplate": "AvgAttack=%{x}<br>Generation=%{y}<extra></extra>",
         "legendgroup": "",
         "marker": {
          "color": "#636efa",
          "pattern": {
           "shape": ""
          }
         },
         "name": "",
         "offsetgroup": "",
         "orientation": "h",
         "showlegend": false,
         "textposition": "auto",
         "type": "bar",
         "x": [
          72.91390728476821,
          68.26,
          74.02173913043478,
          79.99137931034483,
          82.4478527607362,
          95.8796992481203,
          86.11206896551724,
          83.41739130434783
         ],
         "xaxis": "x",
         "y": [
          1,
          2,
          3,
          4,
          5,
          6,
          7,
          8
         ],
         "yaxis": "y"
        }
       ],
       "layout": {
        "barmode": "relative",
        "legend": {
         "tracegroupgap": 0
        },
        "margin": {
         "t": 60
        },
        "template": {
         "data": {
          "bar": [
           {
            "error_x": {
             "color": "#2a3f5f"
            },
            "error_y": {
             "color": "#2a3f5f"
            },
            "marker": {
             "line": {
              "color": "#E5ECF6",
              "width": 0.5
             },
             "pattern": {
              "fillmode": "overlay",
              "size": 10,
              "solidity": 0.2
             }
            },
            "type": "bar"
           }
          ],
          "barpolar": [
           {
            "marker": {
             "line": {
              "color": "#E5ECF6",
              "width": 0.5
             },
             "pattern": {
              "fillmode": "overlay",
              "size": 10,
              "solidity": 0.2
             }
            },
            "type": "barpolar"
           }
          ],
          "carpet": [
           {
            "aaxis": {
             "endlinecolor": "#2a3f5f",
             "gridcolor": "white",
             "linecolor": "white",
             "minorgridcolor": "white",
             "startlinecolor": "#2a3f5f"
            },
            "baxis": {
             "endlinecolor": "#2a3f5f",
             "gridcolor": "white",
             "linecolor": "white",
             "minorgridcolor": "white",
             "startlinecolor": "#2a3f5f"
            },
            "type": "carpet"
           }
          ],
          "choropleth": [
           {
            "colorbar": {
             "outlinewidth": 0,
             "ticks": ""
            },
            "type": "choropleth"
           }
          ],
          "contour": [
           {
            "colorbar": {
             "outlinewidth": 0,
             "ticks": ""
            },
            "colorscale": [
             [
              0,
              "#0d0887"
             ],
             [
              0.1111111111111111,
              "#46039f"
             ],
             [
              0.2222222222222222,
              "#7201a8"
             ],
             [
              0.3333333333333333,
              "#9c179e"
             ],
             [
              0.4444444444444444,
              "#bd3786"
             ],
             [
              0.5555555555555556,
              "#d8576b"
             ],
             [
              0.6666666666666666,
              "#ed7953"
             ],
             [
              0.7777777777777778,
              "#fb9f3a"
             ],
             [
              0.8888888888888888,
              "#fdca26"
             ],
             [
              1,
              "#f0f921"
             ]
            ],
            "type": "contour"
           }
          ],
          "contourcarpet": [
           {
            "colorbar": {
             "outlinewidth": 0,
             "ticks": ""
            },
            "type": "contourcarpet"
           }
          ],
          "heatmap": [
           {
            "colorbar": {
             "outlinewidth": 0,
             "ticks": ""
            },
            "colorscale": [
             [
              0,
              "#0d0887"
             ],
             [
              0.1111111111111111,
              "#46039f"
             ],
             [
              0.2222222222222222,
              "#7201a8"
             ],
             [
              0.3333333333333333,
              "#9c179e"
             ],
             [
              0.4444444444444444,
              "#bd3786"
             ],
             [
              0.5555555555555556,
              "#d8576b"
             ],
             [
              0.6666666666666666,
              "#ed7953"
             ],
             [
              0.7777777777777778,
              "#fb9f3a"
             ],
             [
              0.8888888888888888,
              "#fdca26"
             ],
             [
              1,
              "#f0f921"
             ]
            ],
            "type": "heatmap"
           }
          ],
          "heatmapgl": [
           {
            "colorbar": {
             "outlinewidth": 0,
             "ticks": ""
            },
            "colorscale": [
             [
              0,
              "#0d0887"
             ],
             [
              0.1111111111111111,
              "#46039f"
             ],
             [
              0.2222222222222222,
              "#7201a8"
             ],
             [
              0.3333333333333333,
              "#9c179e"
             ],
             [
              0.4444444444444444,
              "#bd3786"
             ],
             [
              0.5555555555555556,
              "#d8576b"
             ],
             [
              0.6666666666666666,
              "#ed7953"
             ],
             [
              0.7777777777777778,
              "#fb9f3a"
             ],
             [
              0.8888888888888888,
              "#fdca26"
             ],
             [
              1,
              "#f0f921"
             ]
            ],
            "type": "heatmapgl"
           }
          ],
          "histogram": [
           {
            "marker": {
             "pattern": {
              "fillmode": "overlay",
              "size": 10,
              "solidity": 0.2
             }
            },
            "type": "histogram"
           }
          ],
          "histogram2d": [
           {
            "colorbar": {
             "outlinewidth": 0,
             "ticks": ""
            },
            "colorscale": [
             [
              0,
              "#0d0887"
             ],
             [
              0.1111111111111111,
              "#46039f"
             ],
             [
              0.2222222222222222,
              "#7201a8"
             ],
             [
              0.3333333333333333,
              "#9c179e"
             ],
             [
              0.4444444444444444,
              "#bd3786"
             ],
             [
              0.5555555555555556,
              "#d8576b"
             ],
             [
              0.6666666666666666,
              "#ed7953"
             ],
             [
              0.7777777777777778,
              "#fb9f3a"
             ],
             [
              0.8888888888888888,
              "#fdca26"
             ],
             [
              1,
              "#f0f921"
             ]
            ],
            "type": "histogram2d"
           }
          ],
          "histogram2dcontour": [
           {
            "colorbar": {
             "outlinewidth": 0,
             "ticks": ""
            },
            "colorscale": [
             [
              0,
              "#0d0887"
             ],
             [
              0.1111111111111111,
              "#46039f"
             ],
             [
              0.2222222222222222,
              "#7201a8"
             ],
             [
              0.3333333333333333,
              "#9c179e"
             ],
             [
              0.4444444444444444,
              "#bd3786"
             ],
             [
              0.5555555555555556,
              "#d8576b"
             ],
             [
              0.6666666666666666,
              "#ed7953"
             ],
             [
              0.7777777777777778,
              "#fb9f3a"
             ],
             [
              0.8888888888888888,
              "#fdca26"
             ],
             [
              1,
              "#f0f921"
             ]
            ],
            "type": "histogram2dcontour"
           }
          ],
          "mesh3d": [
           {
            "colorbar": {
             "outlinewidth": 0,
             "ticks": ""
            },
            "type": "mesh3d"
           }
          ],
          "parcoords": [
           {
            "line": {
             "colorbar": {
              "outlinewidth": 0,
              "ticks": ""
             }
            },
            "type": "parcoords"
           }
          ],
          "pie": [
           {
            "automargin": true,
            "type": "pie"
           }
          ],
          "scatter": [
           {
            "fillpattern": {
             "fillmode": "overlay",
             "size": 10,
             "solidity": 0.2
            },
            "type": "scatter"
           }
          ],
          "scatter3d": [
           {
            "line": {
             "colorbar": {
              "outlinewidth": 0,
              "ticks": ""
             }
            },
            "marker": {
             "colorbar": {
              "outlinewidth": 0,
              "ticks": ""
             }
            },
            "type": "scatter3d"
           }
          ],
          "scattercarpet": [
           {
            "marker": {
             "colorbar": {
              "outlinewidth": 0,
              "ticks": ""
             }
            },
            "type": "scattercarpet"
           }
          ],
          "scattergeo": [
           {
            "marker": {
             "colorbar": {
              "outlinewidth": 0,
              "ticks": ""
             }
            },
            "type": "scattergeo"
           }
          ],
          "scattergl": [
           {
            "marker": {
             "colorbar": {
              "outlinewidth": 0,
              "ticks": ""
             }
            },
            "type": "scattergl"
           }
          ],
          "scattermapbox": [
           {
            "marker": {
             "colorbar": {
              "outlinewidth": 0,
              "ticks": ""
             }
            },
            "type": "scattermapbox"
           }
          ],
          "scatterpolar": [
           {
            "marker": {
             "colorbar": {
              "outlinewidth": 0,
              "ticks": ""
             }
            },
            "type": "scatterpolar"
           }
          ],
          "scatterpolargl": [
           {
            "marker": {
             "colorbar": {
              "outlinewidth": 0,
              "ticks": ""
             }
            },
            "type": "scatterpolargl"
           }
          ],
          "scatterternary": [
           {
            "marker": {
             "colorbar": {
              "outlinewidth": 0,
              "ticks": ""
             }
            },
            "type": "scatterternary"
           }
          ],
          "surface": [
           {
            "colorbar": {
             "outlinewidth": 0,
             "ticks": ""
            },
            "colorscale": [
             [
              0,
              "#0d0887"
             ],
             [
              0.1111111111111111,
              "#46039f"
             ],
             [
              0.2222222222222222,
              "#7201a8"
             ],
             [
              0.3333333333333333,
              "#9c179e"
             ],
             [
              0.4444444444444444,
              "#bd3786"
             ],
             [
              0.5555555555555556,
              "#d8576b"
             ],
             [
              0.6666666666666666,
              "#ed7953"
             ],
             [
              0.7777777777777778,
              "#fb9f3a"
             ],
             [
              0.8888888888888888,
              "#fdca26"
             ],
             [
              1,
              "#f0f921"
             ]
            ],
            "type": "surface"
           }
          ],
          "table": [
           {
            "cells": {
             "fill": {
              "color": "#EBF0F8"
             },
             "line": {
              "color": "white"
             }
            },
            "header": {
             "fill": {
              "color": "#C8D4E3"
             },
             "line": {
              "color": "white"
             }
            },
            "type": "table"
           }
          ]
         },
         "layout": {
          "annotationdefaults": {
           "arrowcolor": "#2a3f5f",
           "arrowhead": 0,
           "arrowwidth": 1
          },
          "autotypenumbers": "strict",
          "coloraxis": {
           "colorbar": {
            "outlinewidth": 0,
            "ticks": ""
           }
          },
          "colorscale": {
           "diverging": [
            [
             0,
             "#8e0152"
            ],
            [
             0.1,
             "#c51b7d"
            ],
            [
             0.2,
             "#de77ae"
            ],
            [
             0.3,
             "#f1b6da"
            ],
            [
             0.4,
             "#fde0ef"
            ],
            [
             0.5,
             "#f7f7f7"
            ],
            [
             0.6,
             "#e6f5d0"
            ],
            [
             0.7,
             "#b8e186"
            ],
            [
             0.8,
             "#7fbc41"
            ],
            [
             0.9,
             "#4d9221"
            ],
            [
             1,
             "#276419"
            ]
           ],
           "sequential": [
            [
             0,
             "#0d0887"
            ],
            [
             0.1111111111111111,
             "#46039f"
            ],
            [
             0.2222222222222222,
             "#7201a8"
            ],
            [
             0.3333333333333333,
             "#9c179e"
            ],
            [
             0.4444444444444444,
             "#bd3786"
            ],
            [
             0.5555555555555556,
             "#d8576b"
            ],
            [
             0.6666666666666666,
             "#ed7953"
            ],
            [
             0.7777777777777778,
             "#fb9f3a"
            ],
            [
             0.8888888888888888,
             "#fdca26"
            ],
            [
             1,
             "#f0f921"
            ]
           ],
           "sequentialminus": [
            [
             0,
             "#0d0887"
            ],
            [
             0.1111111111111111,
             "#46039f"
            ],
            [
             0.2222222222222222,
             "#7201a8"
            ],
            [
             0.3333333333333333,
             "#9c179e"
            ],
            [
             0.4444444444444444,
             "#bd3786"
            ],
            [
             0.5555555555555556,
             "#d8576b"
            ],
            [
             0.6666666666666666,
             "#ed7953"
            ],
            [
             0.7777777777777778,
             "#fb9f3a"
            ],
            [
             0.8888888888888888,
             "#fdca26"
            ],
            [
             1,
             "#f0f921"
            ]
           ]
          },
          "colorway": [
           "#636efa",
           "#EF553B",
           "#00cc96",
           "#ab63fa",
           "#FFA15A",
           "#19d3f3",
           "#FF6692",
           "#B6E880",
           "#FF97FF",
           "#FECB52"
          ],
          "font": {
           "color": "#2a3f5f"
          },
          "geo": {
           "bgcolor": "white",
           "lakecolor": "white",
           "landcolor": "#E5ECF6",
           "showlakes": true,
           "showland": true,
           "subunitcolor": "white"
          },
          "hoverlabel": {
           "align": "left"
          },
          "hovermode": "closest",
          "mapbox": {
           "style": "light"
          },
          "paper_bgcolor": "white",
          "plot_bgcolor": "#E5ECF6",
          "polar": {
           "angularaxis": {
            "gridcolor": "white",
            "linecolor": "white",
            "ticks": ""
           },
           "bgcolor": "#E5ECF6",
           "radialaxis": {
            "gridcolor": "white",
            "linecolor": "white",
            "ticks": ""
           }
          },
          "scene": {
           "xaxis": {
            "backgroundcolor": "#E5ECF6",
            "gridcolor": "white",
            "gridwidth": 2,
            "linecolor": "white",
            "showbackground": true,
            "ticks": "",
            "zerolinecolor": "white"
           },
           "yaxis": {
            "backgroundcolor": "#E5ECF6",
            "gridcolor": "white",
            "gridwidth": 2,
            "linecolor": "white",
            "showbackground": true,
            "ticks": "",
            "zerolinecolor": "white"
           },
           "zaxis": {
            "backgroundcolor": "#E5ECF6",
            "gridcolor": "white",
            "gridwidth": 2,
            "linecolor": "white",
            "showbackground": true,
            "ticks": "",
            "zerolinecolor": "white"
           }
          },
          "shapedefaults": {
           "line": {
            "color": "#2a3f5f"
           }
          },
          "ternary": {
           "aaxis": {
            "gridcolor": "white",
            "linecolor": "white",
            "ticks": ""
           },
           "baxis": {
            "gridcolor": "white",
            "linecolor": "white",
            "ticks": ""
           },
           "bgcolor": "#E5ECF6",
           "caxis": {
            "gridcolor": "white",
            "linecolor": "white",
            "ticks": ""
           }
          },
          "title": {
           "x": 0.05
          },
          "xaxis": {
           "automargin": true,
           "gridcolor": "white",
           "linecolor": "white",
           "ticks": "",
           "title": {
            "standoff": 15
           },
           "zerolinecolor": "white",
           "zerolinewidth": 2
          },
          "yaxis": {
           "automargin": true,
           "gridcolor": "white",
           "linecolor": "white",
           "ticks": "",
           "title": {
            "standoff": 15
           },
           "zerolinecolor": "white",
           "zerolinewidth": 2
          }
         }
        },
        "xaxis": {
         "anchor": "y",
         "domain": [
          0,
          1
         ],
         "title": {
          "text": "AvgAttack"
         }
        },
        "yaxis": {
         "anchor": "x",
         "domain": [
          0,
          1
         ],
         "title": {
          "text": "Generation"
         }
        }
       }
      }
     },
     "metadata": {},
     "output_type": "display_data"
    }
   ],
   "source": [
    "# gera a figura chamando a função bar()\n",
    "# o primeiro parâmetro é o DataFrame e os seguintes \n",
    "# são as colunas do DataFrame que serão os eixos X e Y.\n",
    "fig = px.bar(pokemons_gb, y='Generation', x='AvgAttack', orientation='h')\n",
    "\n",
    "# função para plotar a imagem\n",
    "fig.show()"
   ]
  },
  {
   "attachments": {},
   "cell_type": "markdown",
   "metadata": {},
   "source": [
    "Uma característica do Plotly que é interessante é que ele ocupa toda a largura disponível na tela para plotar o gráfico, e apenas o necessário do ponto de vista de altura. Isto significa que a aparência dos gráficos precisa ser tratada para gerar resultados mais refinados. No seaborn, tinha diversos parâmetros que precisavamos acertar na plotagem do gráfico. Na última seção, veremos o mesmo para o Plotly."
   ]
  },
  {
   "attachments": {},
   "cell_type": "markdown",
   "metadata": {},
   "source": [
    "### Linha/Área"
   ]
  },
  {
   "attachments": {},
   "cell_type": "markdown",
   "metadata": {},
   "source": [
    "E vamos ao gráfico de linha! Esse mesmo conjunto de dados nos permite plotar um gráfico neste estilo."
   ]
  },
  {
   "cell_type": "code",
   "execution_count": 22,
   "metadata": {},
   "outputs": [
    {
     "data": {
      "application/vnd.plotly.v1+json": {
       "config": {
        "plotlyServerURL": "https://plot.ly"
       },
       "data": [
        {
         "hovertemplate": "Generation=%{x}<br>AvgAttack=%{y}<extra></extra>",
         "legendgroup": "",
         "line": {
          "color": "#636efa",
          "dash": "solid"
         },
         "marker": {
          "symbol": "circle"
         },
         "mode": "lines",
         "name": "",
         "orientation": "v",
         "showlegend": false,
         "type": "scatter",
         "x": [
          1,
          2,
          3,
          4,
          5,
          6,
          7,
          8
         ],
         "xaxis": "x",
         "y": [
          72.91390728476821,
          68.26,
          74.02173913043478,
          79.99137931034483,
          82.4478527607362,
          95.8796992481203,
          86.11206896551724,
          83.41739130434783
         ],
         "yaxis": "y"
        }
       ],
       "layout": {
        "legend": {
         "tracegroupgap": 0
        },
        "margin": {
         "t": 60
        },
        "template": {
         "data": {
          "bar": [
           {
            "error_x": {
             "color": "#2a3f5f"
            },
            "error_y": {
             "color": "#2a3f5f"
            },
            "marker": {
             "line": {
              "color": "#E5ECF6",
              "width": 0.5
             },
             "pattern": {
              "fillmode": "overlay",
              "size": 10,
              "solidity": 0.2
             }
            },
            "type": "bar"
           }
          ],
          "barpolar": [
           {
            "marker": {
             "line": {
              "color": "#E5ECF6",
              "width": 0.5
             },
             "pattern": {
              "fillmode": "overlay",
              "size": 10,
              "solidity": 0.2
             }
            },
            "type": "barpolar"
           }
          ],
          "carpet": [
           {
            "aaxis": {
             "endlinecolor": "#2a3f5f",
             "gridcolor": "white",
             "linecolor": "white",
             "minorgridcolor": "white",
             "startlinecolor": "#2a3f5f"
            },
            "baxis": {
             "endlinecolor": "#2a3f5f",
             "gridcolor": "white",
             "linecolor": "white",
             "minorgridcolor": "white",
             "startlinecolor": "#2a3f5f"
            },
            "type": "carpet"
           }
          ],
          "choropleth": [
           {
            "colorbar": {
             "outlinewidth": 0,
             "ticks": ""
            },
            "type": "choropleth"
           }
          ],
          "contour": [
           {
            "colorbar": {
             "outlinewidth": 0,
             "ticks": ""
            },
            "colorscale": [
             [
              0,
              "#0d0887"
             ],
             [
              0.1111111111111111,
              "#46039f"
             ],
             [
              0.2222222222222222,
              "#7201a8"
             ],
             [
              0.3333333333333333,
              "#9c179e"
             ],
             [
              0.4444444444444444,
              "#bd3786"
             ],
             [
              0.5555555555555556,
              "#d8576b"
             ],
             [
              0.6666666666666666,
              "#ed7953"
             ],
             [
              0.7777777777777778,
              "#fb9f3a"
             ],
             [
              0.8888888888888888,
              "#fdca26"
             ],
             [
              1,
              "#f0f921"
             ]
            ],
            "type": "contour"
           }
          ],
          "contourcarpet": [
           {
            "colorbar": {
             "outlinewidth": 0,
             "ticks": ""
            },
            "type": "contourcarpet"
           }
          ],
          "heatmap": [
           {
            "colorbar": {
             "outlinewidth": 0,
             "ticks": ""
            },
            "colorscale": [
             [
              0,
              "#0d0887"
             ],
             [
              0.1111111111111111,
              "#46039f"
             ],
             [
              0.2222222222222222,
              "#7201a8"
             ],
             [
              0.3333333333333333,
              "#9c179e"
             ],
             [
              0.4444444444444444,
              "#bd3786"
             ],
             [
              0.5555555555555556,
              "#d8576b"
             ],
             [
              0.6666666666666666,
              "#ed7953"
             ],
             [
              0.7777777777777778,
              "#fb9f3a"
             ],
             [
              0.8888888888888888,
              "#fdca26"
             ],
             [
              1,
              "#f0f921"
             ]
            ],
            "type": "heatmap"
           }
          ],
          "heatmapgl": [
           {
            "colorbar": {
             "outlinewidth": 0,
             "ticks": ""
            },
            "colorscale": [
             [
              0,
              "#0d0887"
             ],
             [
              0.1111111111111111,
              "#46039f"
             ],
             [
              0.2222222222222222,
              "#7201a8"
             ],
             [
              0.3333333333333333,
              "#9c179e"
             ],
             [
              0.4444444444444444,
              "#bd3786"
             ],
             [
              0.5555555555555556,
              "#d8576b"
             ],
             [
              0.6666666666666666,
              "#ed7953"
             ],
             [
              0.7777777777777778,
              "#fb9f3a"
             ],
             [
              0.8888888888888888,
              "#fdca26"
             ],
             [
              1,
              "#f0f921"
             ]
            ],
            "type": "heatmapgl"
           }
          ],
          "histogram": [
           {
            "marker": {
             "pattern": {
              "fillmode": "overlay",
              "size": 10,
              "solidity": 0.2
             }
            },
            "type": "histogram"
           }
          ],
          "histogram2d": [
           {
            "colorbar": {
             "outlinewidth": 0,
             "ticks": ""
            },
            "colorscale": [
             [
              0,
              "#0d0887"
             ],
             [
              0.1111111111111111,
              "#46039f"
             ],
             [
              0.2222222222222222,
              "#7201a8"
             ],
             [
              0.3333333333333333,
              "#9c179e"
             ],
             [
              0.4444444444444444,
              "#bd3786"
             ],
             [
              0.5555555555555556,
              "#d8576b"
             ],
             [
              0.6666666666666666,
              "#ed7953"
             ],
             [
              0.7777777777777778,
              "#fb9f3a"
             ],
             [
              0.8888888888888888,
              "#fdca26"
             ],
             [
              1,
              "#f0f921"
             ]
            ],
            "type": "histogram2d"
           }
          ],
          "histogram2dcontour": [
           {
            "colorbar": {
             "outlinewidth": 0,
             "ticks": ""
            },
            "colorscale": [
             [
              0,
              "#0d0887"
             ],
             [
              0.1111111111111111,
              "#46039f"
             ],
             [
              0.2222222222222222,
              "#7201a8"
             ],
             [
              0.3333333333333333,
              "#9c179e"
             ],
             [
              0.4444444444444444,
              "#bd3786"
             ],
             [
              0.5555555555555556,
              "#d8576b"
             ],
             [
              0.6666666666666666,
              "#ed7953"
             ],
             [
              0.7777777777777778,
              "#fb9f3a"
             ],
             [
              0.8888888888888888,
              "#fdca26"
             ],
             [
              1,
              "#f0f921"
             ]
            ],
            "type": "histogram2dcontour"
           }
          ],
          "mesh3d": [
           {
            "colorbar": {
             "outlinewidth": 0,
             "ticks": ""
            },
            "type": "mesh3d"
           }
          ],
          "parcoords": [
           {
            "line": {
             "colorbar": {
              "outlinewidth": 0,
              "ticks": ""
             }
            },
            "type": "parcoords"
           }
          ],
          "pie": [
           {
            "automargin": true,
            "type": "pie"
           }
          ],
          "scatter": [
           {
            "fillpattern": {
             "fillmode": "overlay",
             "size": 10,
             "solidity": 0.2
            },
            "type": "scatter"
           }
          ],
          "scatter3d": [
           {
            "line": {
             "colorbar": {
              "outlinewidth": 0,
              "ticks": ""
             }
            },
            "marker": {
             "colorbar": {
              "outlinewidth": 0,
              "ticks": ""
             }
            },
            "type": "scatter3d"
           }
          ],
          "scattercarpet": [
           {
            "marker": {
             "colorbar": {
              "outlinewidth": 0,
              "ticks": ""
             }
            },
            "type": "scattercarpet"
           }
          ],
          "scattergeo": [
           {
            "marker": {
             "colorbar": {
              "outlinewidth": 0,
              "ticks": ""
             }
            },
            "type": "scattergeo"
           }
          ],
          "scattergl": [
           {
            "marker": {
             "colorbar": {
              "outlinewidth": 0,
              "ticks": ""
             }
            },
            "type": "scattergl"
           }
          ],
          "scattermapbox": [
           {
            "marker": {
             "colorbar": {
              "outlinewidth": 0,
              "ticks": ""
             }
            },
            "type": "scattermapbox"
           }
          ],
          "scatterpolar": [
           {
            "marker": {
             "colorbar": {
              "outlinewidth": 0,
              "ticks": ""
             }
            },
            "type": "scatterpolar"
           }
          ],
          "scatterpolargl": [
           {
            "marker": {
             "colorbar": {
              "outlinewidth": 0,
              "ticks": ""
             }
            },
            "type": "scatterpolargl"
           }
          ],
          "scatterternary": [
           {
            "marker": {
             "colorbar": {
              "outlinewidth": 0,
              "ticks": ""
             }
            },
            "type": "scatterternary"
           }
          ],
          "surface": [
           {
            "colorbar": {
             "outlinewidth": 0,
             "ticks": ""
            },
            "colorscale": [
             [
              0,
              "#0d0887"
             ],
             [
              0.1111111111111111,
              "#46039f"
             ],
             [
              0.2222222222222222,
              "#7201a8"
             ],
             [
              0.3333333333333333,
              "#9c179e"
             ],
             [
              0.4444444444444444,
              "#bd3786"
             ],
             [
              0.5555555555555556,
              "#d8576b"
             ],
             [
              0.6666666666666666,
              "#ed7953"
             ],
             [
              0.7777777777777778,
              "#fb9f3a"
             ],
             [
              0.8888888888888888,
              "#fdca26"
             ],
             [
              1,
              "#f0f921"
             ]
            ],
            "type": "surface"
           }
          ],
          "table": [
           {
            "cells": {
             "fill": {
              "color": "#EBF0F8"
             },
             "line": {
              "color": "white"
             }
            },
            "header": {
             "fill": {
              "color": "#C8D4E3"
             },
             "line": {
              "color": "white"
             }
            },
            "type": "table"
           }
          ]
         },
         "layout": {
          "annotationdefaults": {
           "arrowcolor": "#2a3f5f",
           "arrowhead": 0,
           "arrowwidth": 1
          },
          "autotypenumbers": "strict",
          "coloraxis": {
           "colorbar": {
            "outlinewidth": 0,
            "ticks": ""
           }
          },
          "colorscale": {
           "diverging": [
            [
             0,
             "#8e0152"
            ],
            [
             0.1,
             "#c51b7d"
            ],
            [
             0.2,
             "#de77ae"
            ],
            [
             0.3,
             "#f1b6da"
            ],
            [
             0.4,
             "#fde0ef"
            ],
            [
             0.5,
             "#f7f7f7"
            ],
            [
             0.6,
             "#e6f5d0"
            ],
            [
             0.7,
             "#b8e186"
            ],
            [
             0.8,
             "#7fbc41"
            ],
            [
             0.9,
             "#4d9221"
            ],
            [
             1,
             "#276419"
            ]
           ],
           "sequential": [
            [
             0,
             "#0d0887"
            ],
            [
             0.1111111111111111,
             "#46039f"
            ],
            [
             0.2222222222222222,
             "#7201a8"
            ],
            [
             0.3333333333333333,
             "#9c179e"
            ],
            [
             0.4444444444444444,
             "#bd3786"
            ],
            [
             0.5555555555555556,
             "#d8576b"
            ],
            [
             0.6666666666666666,
             "#ed7953"
            ],
            [
             0.7777777777777778,
             "#fb9f3a"
            ],
            [
             0.8888888888888888,
             "#fdca26"
            ],
            [
             1,
             "#f0f921"
            ]
           ],
           "sequentialminus": [
            [
             0,
             "#0d0887"
            ],
            [
             0.1111111111111111,
             "#46039f"
            ],
            [
             0.2222222222222222,
             "#7201a8"
            ],
            [
             0.3333333333333333,
             "#9c179e"
            ],
            [
             0.4444444444444444,
             "#bd3786"
            ],
            [
             0.5555555555555556,
             "#d8576b"
            ],
            [
             0.6666666666666666,
             "#ed7953"
            ],
            [
             0.7777777777777778,
             "#fb9f3a"
            ],
            [
             0.8888888888888888,
             "#fdca26"
            ],
            [
             1,
             "#f0f921"
            ]
           ]
          },
          "colorway": [
           "#636efa",
           "#EF553B",
           "#00cc96",
           "#ab63fa",
           "#FFA15A",
           "#19d3f3",
           "#FF6692",
           "#B6E880",
           "#FF97FF",
           "#FECB52"
          ],
          "font": {
           "color": "#2a3f5f"
          },
          "geo": {
           "bgcolor": "white",
           "lakecolor": "white",
           "landcolor": "#E5ECF6",
           "showlakes": true,
           "showland": true,
           "subunitcolor": "white"
          },
          "hoverlabel": {
           "align": "left"
          },
          "hovermode": "closest",
          "mapbox": {
           "style": "light"
          },
          "paper_bgcolor": "white",
          "plot_bgcolor": "#E5ECF6",
          "polar": {
           "angularaxis": {
            "gridcolor": "white",
            "linecolor": "white",
            "ticks": ""
           },
           "bgcolor": "#E5ECF6",
           "radialaxis": {
            "gridcolor": "white",
            "linecolor": "white",
            "ticks": ""
           }
          },
          "scene": {
           "xaxis": {
            "backgroundcolor": "#E5ECF6",
            "gridcolor": "white",
            "gridwidth": 2,
            "linecolor": "white",
            "showbackground": true,
            "ticks": "",
            "zerolinecolor": "white"
           },
           "yaxis": {
            "backgroundcolor": "#E5ECF6",
            "gridcolor": "white",
            "gridwidth": 2,
            "linecolor": "white",
            "showbackground": true,
            "ticks": "",
            "zerolinecolor": "white"
           },
           "zaxis": {
            "backgroundcolor": "#E5ECF6",
            "gridcolor": "white",
            "gridwidth": 2,
            "linecolor": "white",
            "showbackground": true,
            "ticks": "",
            "zerolinecolor": "white"
           }
          },
          "shapedefaults": {
           "line": {
            "color": "#2a3f5f"
           }
          },
          "ternary": {
           "aaxis": {
            "gridcolor": "white",
            "linecolor": "white",
            "ticks": ""
           },
           "baxis": {
            "gridcolor": "white",
            "linecolor": "white",
            "ticks": ""
           },
           "bgcolor": "#E5ECF6",
           "caxis": {
            "gridcolor": "white",
            "linecolor": "white",
            "ticks": ""
           }
          },
          "title": {
           "x": 0.05
          },
          "xaxis": {
           "automargin": true,
           "gridcolor": "white",
           "linecolor": "white",
           "ticks": "",
           "title": {
            "standoff": 15
           },
           "zerolinecolor": "white",
           "zerolinewidth": 2
          },
          "yaxis": {
           "automargin": true,
           "gridcolor": "white",
           "linecolor": "white",
           "ticks": "",
           "title": {
            "standoff": 15
           },
           "zerolinecolor": "white",
           "zerolinewidth": 2
          }
         }
        },
        "xaxis": {
         "anchor": "y",
         "domain": [
          0,
          1
         ],
         "title": {
          "text": "Generation"
         }
        },
        "yaxis": {
         "anchor": "x",
         "domain": [
          0,
          1
         ],
         "title": {
          "text": "AvgAttack"
         }
        }
       }
      }
     },
     "metadata": {},
     "output_type": "display_data"
    }
   ],
   "source": [
    "fig = px.line(pokemons_gb, x=\"Generation\", y=\"AvgAttack\")\n",
    "\n",
    "fig.show()"
   ]
  },
  {
   "attachments": {},
   "cell_type": "markdown",
   "metadata": {},
   "source": [
    "Para criar um gráfico de área, basta trocar a função."
   ]
  },
  {
   "cell_type": "code",
   "execution_count": 23,
   "metadata": {},
   "outputs": [
    {
     "data": {
      "application/vnd.plotly.v1+json": {
       "config": {
        "plotlyServerURL": "https://plot.ly"
       },
       "data": [
        {
         "fillpattern": {
          "shape": ""
         },
         "hovertemplate": "Generation=%{x}<br>AvgAttack=%{y}<extra></extra>",
         "legendgroup": "",
         "line": {
          "color": "#636efa"
         },
         "marker": {
          "symbol": "circle"
         },
         "mode": "lines",
         "name": "",
         "orientation": "v",
         "showlegend": false,
         "stackgroup": "1",
         "type": "scatter",
         "x": [
          1,
          2,
          3,
          4,
          5,
          6,
          7,
          8
         ],
         "xaxis": "x",
         "y": [
          72.91390728476821,
          68.26,
          74.02173913043478,
          79.99137931034483,
          82.4478527607362,
          95.8796992481203,
          86.11206896551724,
          83.41739130434783
         ],
         "yaxis": "y"
        }
       ],
       "layout": {
        "legend": {
         "tracegroupgap": 0
        },
        "margin": {
         "t": 60
        },
        "template": {
         "data": {
          "bar": [
           {
            "error_x": {
             "color": "#2a3f5f"
            },
            "error_y": {
             "color": "#2a3f5f"
            },
            "marker": {
             "line": {
              "color": "#E5ECF6",
              "width": 0.5
             },
             "pattern": {
              "fillmode": "overlay",
              "size": 10,
              "solidity": 0.2
             }
            },
            "type": "bar"
           }
          ],
          "barpolar": [
           {
            "marker": {
             "line": {
              "color": "#E5ECF6",
              "width": 0.5
             },
             "pattern": {
              "fillmode": "overlay",
              "size": 10,
              "solidity": 0.2
             }
            },
            "type": "barpolar"
           }
          ],
          "carpet": [
           {
            "aaxis": {
             "endlinecolor": "#2a3f5f",
             "gridcolor": "white",
             "linecolor": "white",
             "minorgridcolor": "white",
             "startlinecolor": "#2a3f5f"
            },
            "baxis": {
             "endlinecolor": "#2a3f5f",
             "gridcolor": "white",
             "linecolor": "white",
             "minorgridcolor": "white",
             "startlinecolor": "#2a3f5f"
            },
            "type": "carpet"
           }
          ],
          "choropleth": [
           {
            "colorbar": {
             "outlinewidth": 0,
             "ticks": ""
            },
            "type": "choropleth"
           }
          ],
          "contour": [
           {
            "colorbar": {
             "outlinewidth": 0,
             "ticks": ""
            },
            "colorscale": [
             [
              0,
              "#0d0887"
             ],
             [
              0.1111111111111111,
              "#46039f"
             ],
             [
              0.2222222222222222,
              "#7201a8"
             ],
             [
              0.3333333333333333,
              "#9c179e"
             ],
             [
              0.4444444444444444,
              "#bd3786"
             ],
             [
              0.5555555555555556,
              "#d8576b"
             ],
             [
              0.6666666666666666,
              "#ed7953"
             ],
             [
              0.7777777777777778,
              "#fb9f3a"
             ],
             [
              0.8888888888888888,
              "#fdca26"
             ],
             [
              1,
              "#f0f921"
             ]
            ],
            "type": "contour"
           }
          ],
          "contourcarpet": [
           {
            "colorbar": {
             "outlinewidth": 0,
             "ticks": ""
            },
            "type": "contourcarpet"
           }
          ],
          "heatmap": [
           {
            "colorbar": {
             "outlinewidth": 0,
             "ticks": ""
            },
            "colorscale": [
             [
              0,
              "#0d0887"
             ],
             [
              0.1111111111111111,
              "#46039f"
             ],
             [
              0.2222222222222222,
              "#7201a8"
             ],
             [
              0.3333333333333333,
              "#9c179e"
             ],
             [
              0.4444444444444444,
              "#bd3786"
             ],
             [
              0.5555555555555556,
              "#d8576b"
             ],
             [
              0.6666666666666666,
              "#ed7953"
             ],
             [
              0.7777777777777778,
              "#fb9f3a"
             ],
             [
              0.8888888888888888,
              "#fdca26"
             ],
             [
              1,
              "#f0f921"
             ]
            ],
            "type": "heatmap"
           }
          ],
          "heatmapgl": [
           {
            "colorbar": {
             "outlinewidth": 0,
             "ticks": ""
            },
            "colorscale": [
             [
              0,
              "#0d0887"
             ],
             [
              0.1111111111111111,
              "#46039f"
             ],
             [
              0.2222222222222222,
              "#7201a8"
             ],
             [
              0.3333333333333333,
              "#9c179e"
             ],
             [
              0.4444444444444444,
              "#bd3786"
             ],
             [
              0.5555555555555556,
              "#d8576b"
             ],
             [
              0.6666666666666666,
              "#ed7953"
             ],
             [
              0.7777777777777778,
              "#fb9f3a"
             ],
             [
              0.8888888888888888,
              "#fdca26"
             ],
             [
              1,
              "#f0f921"
             ]
            ],
            "type": "heatmapgl"
           }
          ],
          "histogram": [
           {
            "marker": {
             "pattern": {
              "fillmode": "overlay",
              "size": 10,
              "solidity": 0.2
             }
            },
            "type": "histogram"
           }
          ],
          "histogram2d": [
           {
            "colorbar": {
             "outlinewidth": 0,
             "ticks": ""
            },
            "colorscale": [
             [
              0,
              "#0d0887"
             ],
             [
              0.1111111111111111,
              "#46039f"
             ],
             [
              0.2222222222222222,
              "#7201a8"
             ],
             [
              0.3333333333333333,
              "#9c179e"
             ],
             [
              0.4444444444444444,
              "#bd3786"
             ],
             [
              0.5555555555555556,
              "#d8576b"
             ],
             [
              0.6666666666666666,
              "#ed7953"
             ],
             [
              0.7777777777777778,
              "#fb9f3a"
             ],
             [
              0.8888888888888888,
              "#fdca26"
             ],
             [
              1,
              "#f0f921"
             ]
            ],
            "type": "histogram2d"
           }
          ],
          "histogram2dcontour": [
           {
            "colorbar": {
             "outlinewidth": 0,
             "ticks": ""
            },
            "colorscale": [
             [
              0,
              "#0d0887"
             ],
             [
              0.1111111111111111,
              "#46039f"
             ],
             [
              0.2222222222222222,
              "#7201a8"
             ],
             [
              0.3333333333333333,
              "#9c179e"
             ],
             [
              0.4444444444444444,
              "#bd3786"
             ],
             [
              0.5555555555555556,
              "#d8576b"
             ],
             [
              0.6666666666666666,
              "#ed7953"
             ],
             [
              0.7777777777777778,
              "#fb9f3a"
             ],
             [
              0.8888888888888888,
              "#fdca26"
             ],
             [
              1,
              "#f0f921"
             ]
            ],
            "type": "histogram2dcontour"
           }
          ],
          "mesh3d": [
           {
            "colorbar": {
             "outlinewidth": 0,
             "ticks": ""
            },
            "type": "mesh3d"
           }
          ],
          "parcoords": [
           {
            "line": {
             "colorbar": {
              "outlinewidth": 0,
              "ticks": ""
             }
            },
            "type": "parcoords"
           }
          ],
          "pie": [
           {
            "automargin": true,
            "type": "pie"
           }
          ],
          "scatter": [
           {
            "fillpattern": {
             "fillmode": "overlay",
             "size": 10,
             "solidity": 0.2
            },
            "type": "scatter"
           }
          ],
          "scatter3d": [
           {
            "line": {
             "colorbar": {
              "outlinewidth": 0,
              "ticks": ""
             }
            },
            "marker": {
             "colorbar": {
              "outlinewidth": 0,
              "ticks": ""
             }
            },
            "type": "scatter3d"
           }
          ],
          "scattercarpet": [
           {
            "marker": {
             "colorbar": {
              "outlinewidth": 0,
              "ticks": ""
             }
            },
            "type": "scattercarpet"
           }
          ],
          "scattergeo": [
           {
            "marker": {
             "colorbar": {
              "outlinewidth": 0,
              "ticks": ""
             }
            },
            "type": "scattergeo"
           }
          ],
          "scattergl": [
           {
            "marker": {
             "colorbar": {
              "outlinewidth": 0,
              "ticks": ""
             }
            },
            "type": "scattergl"
           }
          ],
          "scattermapbox": [
           {
            "marker": {
             "colorbar": {
              "outlinewidth": 0,
              "ticks": ""
             }
            },
            "type": "scattermapbox"
           }
          ],
          "scatterpolar": [
           {
            "marker": {
             "colorbar": {
              "outlinewidth": 0,
              "ticks": ""
             }
            },
            "type": "scatterpolar"
           }
          ],
          "scatterpolargl": [
           {
            "marker": {
             "colorbar": {
              "outlinewidth": 0,
              "ticks": ""
             }
            },
            "type": "scatterpolargl"
           }
          ],
          "scatterternary": [
           {
            "marker": {
             "colorbar": {
              "outlinewidth": 0,
              "ticks": ""
             }
            },
            "type": "scatterternary"
           }
          ],
          "surface": [
           {
            "colorbar": {
             "outlinewidth": 0,
             "ticks": ""
            },
            "colorscale": [
             [
              0,
              "#0d0887"
             ],
             [
              0.1111111111111111,
              "#46039f"
             ],
             [
              0.2222222222222222,
              "#7201a8"
             ],
             [
              0.3333333333333333,
              "#9c179e"
             ],
             [
              0.4444444444444444,
              "#bd3786"
             ],
             [
              0.5555555555555556,
              "#d8576b"
             ],
             [
              0.6666666666666666,
              "#ed7953"
             ],
             [
              0.7777777777777778,
              "#fb9f3a"
             ],
             [
              0.8888888888888888,
              "#fdca26"
             ],
             [
              1,
              "#f0f921"
             ]
            ],
            "type": "surface"
           }
          ],
          "table": [
           {
            "cells": {
             "fill": {
              "color": "#EBF0F8"
             },
             "line": {
              "color": "white"
             }
            },
            "header": {
             "fill": {
              "color": "#C8D4E3"
             },
             "line": {
              "color": "white"
             }
            },
            "type": "table"
           }
          ]
         },
         "layout": {
          "annotationdefaults": {
           "arrowcolor": "#2a3f5f",
           "arrowhead": 0,
           "arrowwidth": 1
          },
          "autotypenumbers": "strict",
          "coloraxis": {
           "colorbar": {
            "outlinewidth": 0,
            "ticks": ""
           }
          },
          "colorscale": {
           "diverging": [
            [
             0,
             "#8e0152"
            ],
            [
             0.1,
             "#c51b7d"
            ],
            [
             0.2,
             "#de77ae"
            ],
            [
             0.3,
             "#f1b6da"
            ],
            [
             0.4,
             "#fde0ef"
            ],
            [
             0.5,
             "#f7f7f7"
            ],
            [
             0.6,
             "#e6f5d0"
            ],
            [
             0.7,
             "#b8e186"
            ],
            [
             0.8,
             "#7fbc41"
            ],
            [
             0.9,
             "#4d9221"
            ],
            [
             1,
             "#276419"
            ]
           ],
           "sequential": [
            [
             0,
             "#0d0887"
            ],
            [
             0.1111111111111111,
             "#46039f"
            ],
            [
             0.2222222222222222,
             "#7201a8"
            ],
            [
             0.3333333333333333,
             "#9c179e"
            ],
            [
             0.4444444444444444,
             "#bd3786"
            ],
            [
             0.5555555555555556,
             "#d8576b"
            ],
            [
             0.6666666666666666,
             "#ed7953"
            ],
            [
             0.7777777777777778,
             "#fb9f3a"
            ],
            [
             0.8888888888888888,
             "#fdca26"
            ],
            [
             1,
             "#f0f921"
            ]
           ],
           "sequentialminus": [
            [
             0,
             "#0d0887"
            ],
            [
             0.1111111111111111,
             "#46039f"
            ],
            [
             0.2222222222222222,
             "#7201a8"
            ],
            [
             0.3333333333333333,
             "#9c179e"
            ],
            [
             0.4444444444444444,
             "#bd3786"
            ],
            [
             0.5555555555555556,
             "#d8576b"
            ],
            [
             0.6666666666666666,
             "#ed7953"
            ],
            [
             0.7777777777777778,
             "#fb9f3a"
            ],
            [
             0.8888888888888888,
             "#fdca26"
            ],
            [
             1,
             "#f0f921"
            ]
           ]
          },
          "colorway": [
           "#636efa",
           "#EF553B",
           "#00cc96",
           "#ab63fa",
           "#FFA15A",
           "#19d3f3",
           "#FF6692",
           "#B6E880",
           "#FF97FF",
           "#FECB52"
          ],
          "font": {
           "color": "#2a3f5f"
          },
          "geo": {
           "bgcolor": "white",
           "lakecolor": "white",
           "landcolor": "#E5ECF6",
           "showlakes": true,
           "showland": true,
           "subunitcolor": "white"
          },
          "hoverlabel": {
           "align": "left"
          },
          "hovermode": "closest",
          "mapbox": {
           "style": "light"
          },
          "paper_bgcolor": "white",
          "plot_bgcolor": "#E5ECF6",
          "polar": {
           "angularaxis": {
            "gridcolor": "white",
            "linecolor": "white",
            "ticks": ""
           },
           "bgcolor": "#E5ECF6",
           "radialaxis": {
            "gridcolor": "white",
            "linecolor": "white",
            "ticks": ""
           }
          },
          "scene": {
           "xaxis": {
            "backgroundcolor": "#E5ECF6",
            "gridcolor": "white",
            "gridwidth": 2,
            "linecolor": "white",
            "showbackground": true,
            "ticks": "",
            "zerolinecolor": "white"
           },
           "yaxis": {
            "backgroundcolor": "#E5ECF6",
            "gridcolor": "white",
            "gridwidth": 2,
            "linecolor": "white",
            "showbackground": true,
            "ticks": "",
            "zerolinecolor": "white"
           },
           "zaxis": {
            "backgroundcolor": "#E5ECF6",
            "gridcolor": "white",
            "gridwidth": 2,
            "linecolor": "white",
            "showbackground": true,
            "ticks": "",
            "zerolinecolor": "white"
           }
          },
          "shapedefaults": {
           "line": {
            "color": "#2a3f5f"
           }
          },
          "ternary": {
           "aaxis": {
            "gridcolor": "white",
            "linecolor": "white",
            "ticks": ""
           },
           "baxis": {
            "gridcolor": "white",
            "linecolor": "white",
            "ticks": ""
           },
           "bgcolor": "#E5ECF6",
           "caxis": {
            "gridcolor": "white",
            "linecolor": "white",
            "ticks": ""
           }
          },
          "title": {
           "x": 0.05
          },
          "xaxis": {
           "automargin": true,
           "gridcolor": "white",
           "linecolor": "white",
           "ticks": "",
           "title": {
            "standoff": 15
           },
           "zerolinecolor": "white",
           "zerolinewidth": 2
          },
          "yaxis": {
           "automargin": true,
           "gridcolor": "white",
           "linecolor": "white",
           "ticks": "",
           "title": {
            "standoff": 15
           },
           "zerolinecolor": "white",
           "zerolinewidth": 2
          }
         }
        },
        "xaxis": {
         "anchor": "y",
         "domain": [
          0,
          1
         ],
         "title": {
          "text": "Generation"
         }
        },
        "yaxis": {
         "anchor": "x",
         "domain": [
          0,
          1
         ],
         "title": {
          "text": "AvgAttack"
         }
        }
       }
      }
     },
     "metadata": {},
     "output_type": "display_data"
    }
   ],
   "source": [
    "fig = px.area(pokemons_gb, x=\"Generation\", y=\"AvgAttack\")\n",
    "\n",
    "fig.show()"
   ]
  },
  {
   "attachments": {},
   "cell_type": "markdown",
   "metadata": {},
   "source": [
    "E para os olhos mais treinados, vocês devem ter percebido que o formato do gráfico de linha e do gráfico de área não estão exatamente iguais, o que seria o esperado. O que aconteceu aqui foi uma mudança da escala no eixo do Y, gerando uma discrepância no posicionamento de cada ponto da linha. Por isso conhecer como configurar os gráficos será muito importante."
   ]
  },
  {
   "attachments": {},
   "cell_type": "markdown",
   "metadata": {},
   "source": [
    "### Dispersão/Pontos"
   ]
  },
  {
   "attachments": {},
   "cell_type": "markdown",
   "metadata": {},
   "source": [
    "Este gráfico, que nos permite entender a correlação entre variáveis (até 3, se considerarmos o tamanho), também pode ser criado de forma bem simples. Lembrando que também temos um caso especial de gráfico de dispersão, que é o Quadrante Mágico do Gartner. Este será visto quando falarmos sobre configuração dos gráficos do Plotly."
   ]
  },
  {
   "cell_type": "code",
   "execution_count": 25,
   "metadata": {},
   "outputs": [
    {
     "data": {
      "application/vnd.plotly.v1+json": {
       "config": {
        "plotlyServerURL": "https://plot.ly"
       },
       "data": [
        {
         "hovertemplate": "Type 1=Grass<br>Att=%{x}<br>Def=%{y}<br>HP=%{marker.size}<extra></extra>",
         "legendgroup": "Grass",
         "marker": {
          "color": "#636efa",
          "size": [
           45,
           60,
           80,
           80,
           45,
           60,
           75,
           50,
           65,
           80,
           60,
           95,
           95,
           65,
           45,
           60,
           80,
           75,
           35,
           55,
           75,
           30,
           75,
           40,
           50,
           70,
           70,
           40,
           70,
           90,
           60,
           60,
           50,
           50,
           70,
           99,
           55,
           75,
           95,
           40,
           60,
           45,
           70,
           74,
           60,
           90,
           90,
           100,
           65,
           100,
           100,
           45,
           60,
           75,
           50,
           75,
           40,
           60,
           45,
           70,
           75,
           69,
           114,
           44,
           74,
           91,
           56,
           61,
           88,
           66,
           123,
           68,
           78,
           78,
           40,
           70,
           40,
           60,
           42,
           52,
           72,
           70,
           59,
           50,
           70,
           100,
           40,
           60,
           40,
           70,
           110
          ],
          "sizemode": "area",
          "sizeref": 0.6375,
          "symbol": "circle"
         },
         "mode": "markers",
         "name": "Grass",
         "showlegend": true,
         "type": "scattergl",
         "x": [
          49,
          62,
          82,
          100,
          50,
          65,
          80,
          75,
          90,
          105,
          40,
          95,
          105,
          55,
          49,
          62,
          82,
          80,
          35,
          45,
          55,
          30,
          75,
          45,
          65,
          85,
          110,
          40,
          70,
          100,
          40,
          130,
          60,
          85,
          115,
          68,
          68,
          89,
          109,
          30,
          70,
          35,
          60,
          100,
          62,
          92,
          132,
          100,
          110,
          100,
          103,
          45,
          60,
          75,
          53,
          98,
          27,
          67,
          35,
          60,
          86,
          55,
          85,
          50,
          94,
          90,
          61,
          78,
          107,
          65,
          100,
          55,
          75,
          107,
          55,
          105,
          35,
          45,
          30,
          40,
          120,
          130,
          181,
          65,
          85,
          125,
          40,
          50,
          40,
          110,
          85
         ],
         "xaxis": "x",
         "y": [
          49,
          63,
          83,
          123,
          55,
          70,
          85,
          35,
          50,
          65,
          80,
          85,
          85,
          115,
          65,
          80,
          100,
          95,
          40,
          50,
          70,
          30,
          55,
          35,
          45,
          65,
          75,
          50,
          40,
          60,
          60,
          80,
          45,
          40,
          60,
          83,
          64,
          85,
          105,
          35,
          65,
          45,
          70,
          72,
          50,
          75,
          105,
          125,
          130,
          100,
          75,
          55,
          75,
          95,
          48,
          63,
          60,
          85,
          50,
          75,
          67,
          45,
          70,
          91,
          131,
          72,
          65,
          95,
          122,
          48,
          62,
          55,
          75,
          75,
          35,
          90,
          55,
          80,
          38,
          48,
          98,
          115,
          131,
          50,
          70,
          90,
          60,
          90,
          80,
          80,
          80
         ],
         "yaxis": "y"
        },
        {
         "hovertemplate": "Type 1=Fire<br>Att=%{x}<br>Def=%{y}<br>HP=%{marker.size}<extra></extra>",
         "legendgroup": "Fire",
         "marker": {
          "color": "#EF553B",
          "size": [
           39,
           58,
           78,
           78,
           78,
           38,
           73,
           55,
           90,
           50,
           65,
           60,
           65,
           65,
           90,
           39,
           58,
           78,
           40,
           60,
           45,
           115,
           106,
           45,
           60,
           80,
           80,
           60,
           70,
           70,
           70,
           44,
           64,
           76,
           75,
           91,
           65,
           90,
           110,
           50,
           75,
           70,
           105,
           105,
           85,
           40,
           59,
           75,
           62,
           78,
           62,
           86,
           80,
           45,
           65,
           95,
           75,
           60,
           53,
           50,
           65,
           80,
           50,
           100
          ],
          "sizemode": "area",
          "sizeref": 0.6375,
          "symbol": "circle"
         },
         "mode": "markers",
         "name": "Fire",
         "showlegend": true,
         "type": "scattergl",
         "x": [
          52,
          64,
          84,
          104,
          130,
          41,
          76,
          70,
          110,
          85,
          100,
          80,
          95,
          130,
          100,
          52,
          64,
          84,
          40,
          50,
          75,
          115,
          130,
          60,
          85,
          120,
          160,
          60,
          100,
          120,
          85,
          58,
          78,
          104,
          95,
          90,
          63,
          93,
          123,
          53,
          98,
          90,
          140,
          30,
          97,
          45,
          59,
          69,
          73,
          81,
          50,
          68,
          110,
          65,
          85,
          115,
          70,
          78,
          127,
          71,
          86,
          116,
          65,
          115
         ],
         "xaxis": "x",
         "y": [
          43,
          58,
          78,
          78,
          111,
          40,
          75,
          45,
          80,
          55,
          70,
          110,
          57,
          60,
          90,
          43,
          58,
          78,
          40,
          120,
          37,
          85,
          90,
          40,
          60,
          70,
          80,
          40,
          70,
          100,
          140,
          44,
          52,
          71,
          67,
          106,
          45,
          55,
          65,
          48,
          63,
          45,
          55,
          105,
          66,
          40,
          58,
          72,
          55,
          71,
          58,
          72,
          120,
          40,
          50,
          90,
          70,
          135,
          53,
          40,
          60,
          75,
          45,
          65
         ],
         "yaxis": "y"
        },
        {
         "hovertemplate": "Type 1=Water<br>Att=%{x}<br>Def=%{y}<br>HP=%{marker.size}<extra></extra>",
         "legendgroup": "Water",
         "marker": {
          "color": "#00cc96",
          "size": [
           44,
           59,
           79,
           79,
           50,
           80,
           40,
           65,
           90,
           40,
           80,
           90,
           95,
           95,
           65,
           90,
           30,
           50,
           30,
           55,
           30,
           55,
           45,
           80,
           30,
           60,
           20,
           95,
           95,
           130,
           130,
           50,
           65,
           85,
           75,
           125,
           70,
           100,
           90,
           55,
           95,
           95,
           65,
           65,
           35,
           75,
           85,
           75,
           100,
           50,
           70,
           100,
           100,
           40,
           60,
           80,
           40,
           60,
           45,
           70,
           70,
           130,
           170,
           50,
           110,
           43,
           63,
           20,
           95,
           35,
           55,
           55,
           100,
           43,
           100,
           100,
           53,
           64,
           84,
           55,
           85,
           76,
           111,
           49,
           69,
           45,
           90,
           80,
           100,
           55,
           75,
           95,
           50,
           75,
           50,
           75,
           105,
           70,
           54,
           74,
           62,
           75,
           55,
           100,
           165,
           91,
           41,
           54,
           72,
           72,
           50,
           71,
           50,
           60,
           80,
           45,
           45,
           38,
           68,
           55,
           68,
           70,
           50,
           65,
           70,
           50,
           90,
           41,
           61,
           90,
           90
          ],
          "sizemode": "area",
          "sizeref": 0.6375,
          "symbol": "circle"
         },
         "mode": "markers",
         "name": "Water",
         "showlegend": true,
         "type": "scattergl",
         "x": [
          48,
          63,
          83,
          103,
          52,
          82,
          50,
          65,
          95,
          40,
          70,
          65,
          75,
          75,
          45,
          70,
          65,
          95,
          105,
          130,
          40,
          65,
          67,
          92,
          45,
          75,
          10,
          125,
          155,
          85,
          65,
          65,
          80,
          105,
          38,
          58,
          20,
          50,
          75,
          45,
          85,
          75,
          95,
          55,
          65,
          105,
          40,
          95,
          75,
          70,
          85,
          110,
          150,
          30,
          50,
          70,
          30,
          50,
          90,
          120,
          140,
          70,
          90,
          48,
          78,
          80,
          120,
          15,
          60,
          64,
          104,
          84,
          90,
          30,
          100,
          150,
          51,
          66,
          86,
          65,
          105,
          48,
          83,
          49,
          69,
          20,
          120,
          80,
          100,
          55,
          75,
          100,
          53,
          98,
          50,
          65,
          95,
          92,
          78,
          108,
          44,
          87,
          40,
          60,
          75,
          72,
          56,
          63,
          95,
          145,
          53,
          73,
          54,
          69,
          74,
          20,
          140,
          40,
          70,
          60,
          105,
          75,
          40,
          60,
          85,
          64,
          115,
          63,
          123,
          90,
          90
         ],
         "xaxis": "x",
         "y": [
          65,
          80,
          100,
          120,
          48,
          78,
          40,
          65,
          95,
          35,
          65,
          65,
          110,
          180,
          55,
          80,
          100,
          180,
          90,
          115,
          70,
          95,
          60,
          65,
          55,
          85,
          55,
          79,
          109,
          80,
          60,
          64,
          80,
          100,
          38,
          58,
          50,
          80,
          75,
          45,
          85,
          80,
          85,
          95,
          35,
          75,
          70,
          95,
          115,
          50,
          70,
          90,
          110,
          30,
          50,
          70,
          30,
          100,
          20,
          40,
          70,
          35,
          45,
          43,
          73,
          65,
          85,
          20,
          79,
          85,
          105,
          105,
          130,
          55,
          90,
          90,
          53,
          68,
          88,
          35,
          55,
          48,
          68,
          56,
          76,
          50,
          100,
          80,
          100,
          45,
          60,
          85,
          48,
          63,
          40,
          55,
          75,
          65,
          103,
          133,
          50,
          63,
          50,
          70,
          80,
          90,
          40,
          52,
          67,
          67,
          62,
          88,
          54,
          69,
          74,
          20,
          130,
          52,
          92,
          130,
          70,
          115,
          40,
          55,
          65,
          50,
          90,
          40,
          60,
          100,
          100
         ],
         "yaxis": "y"
        },
        {
         "hovertemplate": "Type 1=Bug<br>Att=%{x}<br>Def=%{y}<br>HP=%{marker.size}<extra></extra>",
         "legendgroup": "Bug",
         "marker": {
          "color": "#ab63fa",
          "size": [
           45,
           50,
           60,
           40,
           45,
           65,
           65,
           35,
           60,
           60,
           70,
           70,
           65,
           65,
           40,
           55,
           40,
           70,
           65,
           50,
           75,
           70,
           70,
           20,
           80,
           80,
           45,
           50,
           60,
           50,
           60,
           40,
           70,
           31,
           61,
           1,
           65,
           65,
           37,
           77,
           40,
           60,
           60,
           60,
           70,
           30,
           70,
           86,
           45,
           55,
           75,
           30,
           40,
           60,
           50,
           70,
           50,
           70,
           50,
           70,
           50,
           80,
           58,
           55,
           85,
           71,
           38,
           45,
           80,
           47,
           57,
           77,
           40,
           60,
           25,
           75,
           107,
           71,
           25,
           50,
           60
          ],
          "sizemode": "area",
          "sizeref": 0.6375,
          "symbol": "circle"
         },
         "mode": "markers",
         "name": "Bug",
         "showlegend": true,
         "type": "scattergl",
         "x": [
          30,
          20,
          45,
          35,
          25,
          90,
          150,
          70,
          95,
          55,
          65,
          110,
          125,
          155,
          20,
          35,
          60,
          90,
          65,
          65,
          90,
          130,
          150,
          10,
          125,
          185,
          45,
          35,
          70,
          35,
          50,
          30,
          60,
          45,
          90,
          90,
          73,
          47,
          25,
          85,
          29,
          59,
          79,
          69,
          94,
          30,
          80,
          76,
          53,
          63,
          103,
          45,
          55,
          100,
          65,
          105,
          75,
          135,
          47,
          77,
          40,
          70,
          109,
          85,
          60,
          120,
          35,
          22,
          52,
          62,
          82,
          70,
          45,
          55,
          35,
          125,
          139,
          137,
          20,
          35,
          45
         ],
         "xaxis": "x",
         "y": [
          35,
          55,
          50,
          30,
          50,
          40,
          40,
          55,
          80,
          50,
          60,
          80,
          100,
          120,
          30,
          50,
          40,
          70,
          45,
          90,
          140,
          100,
          140,
          230,
          75,
          115,
          35,
          55,
          50,
          55,
          70,
          32,
          62,
          90,
          45,
          45,
          75,
          75,
          41,
          51,
          45,
          85,
          105,
          95,
          50,
          42,
          102,
          86,
          70,
          90,
          80,
          59,
          99,
          89,
          85,
          125,
          45,
          105,
          50,
          60,
          85,
          40,
          112,
          55,
          65,
          95,
          40,
          60,
          50,
          45,
          95,
          90,
          40,
          60,
          40,
          140,
          139,
          37,
          20,
          80,
          110
         ],
         "yaxis": "y"
        },
        {
         "hovertemplate": "Type 1=Normal<br>Att=%{x}<br>Def=%{y}<br>HP=%{marker.size}<extra></extra>",
         "legendgroup": "Normal",
         "marker": {
          "color": "#FFA15A",
          "size": [
           40,
           63,
           83,
           83,
           30,
           55,
           40,
           65,
           115,
           140,
           40,
           65,
           52,
           35,
           60,
           90,
           250,
           105,
           105,
           75,
           48,
           55,
           65,
           160,
           35,
           85,
           60,
           100,
           90,
           55,
           70,
           100,
           60,
           90,
           85,
           73,
           55,
           95,
           255,
           38,
           78,
           40,
           60,
           60,
           80,
           150,
           64,
           84,
           104,
           50,
           50,
           70,
           60,
           45,
           73,
           70,
           60,
           40,
           55,
           85,
           59,
           79,
           75,
           55,
           65,
           65,
           49,
           71,
           100,
           76,
           135,
           110,
           85,
           110,
           120,
           45,
           60,
           45,
           65,
           85,
           50,
           62,
           80,
           103,
           103,
           55,
           75,
           60,
           80,
           95,
           70,
           100,
           100,
           100,
           38,
           85,
           45,
           75,
           35,
           55,
           80,
           48,
           88,
           70,
           120,
           90,
           95,
           95,
           65,
           78,
           70,
           120,
           42,
           72
          ],
          "sizemode": "area",
          "sizeref": 0.6375,
          "symbol": "circle"
         },
         "mode": "markers",
         "name": "Normal",
         "showlegend": true,
         "type": "scattergl",
         "x": [
          45,
          60,
          80,
          80,
          56,
          81,
          60,
          90,
          45,
          70,
          45,
          70,
          90,
          85,
          110,
          55,
          5,
          95,
          125,
          100,
          48,
          55,
          60,
          110,
          46,
          76,
          30,
          50,
          30,
          70,
          80,
          70,
          80,
          130,
          80,
          95,
          20,
          80,
          10,
          30,
          70,
          55,
          85,
          60,
          80,
          160,
          51,
          71,
          91,
          20,
          45,
          65,
          60,
          40,
          115,
          70,
          90,
          55,
          75,
          120,
          45,
          85,
          100,
          66,
          76,
          136,
          55,
          82,
          5,
          65,
          85,
          85,
          80,
          160,
          120,
          55,
          85,
          60,
          80,
          110,
          55,
          77,
          115,
          60,
          60,
          50,
          95,
          60,
          100,
          110,
          83,
          123,
          77,
          128,
          36,
          56,
          50,
          80,
          75,
          85,
          120,
          70,
          110,
          75,
          125,
          60,
          95,
          95,
          115,
          60,
          55,
          95,
          40,
          80
         ],
         "xaxis": "x",
         "y": [
          40,
          55,
          75,
          80,
          35,
          60,
          30,
          65,
          20,
          45,
          35,
          60,
          55,
          45,
          70,
          75,
          5,
          80,
          100,
          95,
          48,
          50,
          70,
          65,
          34,
          64,
          30,
          50,
          15,
          55,
          65,
          70,
          50,
          75,
          90,
          62,
          35,
          105,
          10,
          41,
          61,
          30,
          60,
          60,
          80,
          100,
          23,
          43,
          63,
          40,
          45,
          65,
          60,
          60,
          60,
          70,
          70,
          30,
          50,
          70,
          40,
          60,
          66,
          44,
          84,
          94,
          42,
          64,
          5,
          45,
          40,
          95,
          70,
          110,
          120,
          39,
          69,
          45,
          65,
          90,
          50,
          62,
          80,
          86,
          126,
          40,
          60,
          50,
          70,
          95,
          50,
          75,
          77,
          90,
          38,
          77,
          43,
          60,
          30,
          50,
          75,
          30,
          60,
          50,
          80,
          80,
          95,
          95,
          65,
          85,
          55,
          95,
          55,
          100
         ],
         "yaxis": "y"
        },
        {
         "hovertemplate": "Type 1=Dark<br>Att=%{x}<br>Def=%{y}<br>HP=%{marker.size}<extra></extra>",
         "legendgroup": "Dark",
         "marker": {
          "color": "#19d3f3",
          "size": [
           30,
           75,
           40,
           65,
           90,
           95,
           60,
           55,
           45,
           75,
           75,
           35,
           70,
           38,
           78,
           50,
           50,
           65,
           65,
           100,
           70,
           70,
           41,
           64,
           50,
           65,
           40,
           60,
           45,
           65,
           70,
           110,
           52,
           72,
           92,
           53,
           86,
           126,
           223,
           40,
           70,
           45,
           65,
           95,
           93,
           105
          ],
          "sizemode": "area",
          "sizeref": 0.6375,
          "symbol": "circle"
         },
         "mode": "markers",
         "name": "Dark",
         "showlegend": true,
         "type": "scattergl",
         "x": [
          56,
          71,
          35,
          60,
          85,
          65,
          85,
          95,
          60,
          90,
          90,
          55,
          90,
          30,
          70,
          75,
          85,
          130,
          150,
          125,
          120,
          90,
          50,
          88,
          75,
          90,
          65,
          105,
          85,
          125,
          55,
          65,
          65,
          85,
          105,
          54,
          92,
          131,
          101,
          28,
          58,
          45,
          60,
          120,
          90,
          120
         ],
         "xaxis": "x",
         "y": [
          35,
          70,
          35,
          60,
          90,
          110,
          42,
          55,
          30,
          50,
          90,
          35,
          70,
          41,
          61,
          75,
          125,
          60,
          60,
          52,
          65,
          90,
          37,
          50,
          70,
          115,
          40,
          60,
          70,
          100,
          75,
          105,
          50,
          70,
          90,
          53,
          88,
          95,
          53,
          28,
          58,
          30,
          45,
          65,
          101,
          105
         ],
         "yaxis": "y"
        },
        {
         "hovertemplate": "Type 1=Poison<br>Att=%{x}<br>Def=%{y}<br>HP=%{marker.size}<extra></extra>",
         "legendgroup": "Poison",
         "marker": {
          "color": "#FF6692",
          "size": [
           35,
           60,
           55,
           70,
           90,
           46,
           61,
           81,
           40,
           75,
           95,
           80,
           80,
           105,
           105,
           40,
           65,
           65,
           85,
           95,
           70,
           100,
           73,
           63,
           103,
           40,
           70,
           48,
           83,
           50,
           80,
           50,
           65,
           50,
           50,
           48,
           68,
           67,
           73,
           140
          ],
          "sizemode": "area",
          "sizeref": 0.6375,
          "symbol": "circle"
         },
         "mode": "markers",
         "name": "Poison",
         "showlegend": true,
         "type": "scattergl",
         "x": [
          60,
          95,
          47,
          62,
          92,
          57,
          72,
          102,
          45,
          80,
          100,
          80,
          80,
          105,
          105,
          65,
          90,
          90,
          90,
          65,
          43,
          73,
          100,
          63,
          93,
          50,
          90,
          61,
          106,
          50,
          95,
          60,
          75,
          53,
          63,
          44,
          64,
          73,
          73,
          85
         ],
         "xaxis": "x",
         "y": [
          44,
          69,
          52,
          67,
          87,
          40,
          57,
          77,
          35,
          70,
          95,
          50,
          50,
          75,
          75,
          95,
          120,
          120,
          80,
          80,
          53,
          83,
          60,
          47,
          67,
          90,
          110,
          40,
          65,
          62,
          82,
          60,
          90,
          62,
          152,
          40,
          60,
          67,
          73,
          95
         ],
         "yaxis": "y"
        },
        {
         "hovertemplate": "Type 1=Electric<br>Att=%{x}<br>Def=%{y}<br>HP=%{marker.size}<extra></extra>",
         "legendgroup": "Electric",
         "marker": {
          "color": "#B6E880",
          "size": [
           35,
           60,
           60,
           25,
           50,
           40,
           60,
           65,
           65,
           90,
           20,
           55,
           70,
           90,
           90,
           45,
           90,
           40,
           70,
           70,
           60,
           60,
           45,
           60,
           80,
           60,
           70,
           75,
           50,
           50,
           50,
           50,
           50,
           50,
           45,
           75,
           55,
           35,
           65,
           85,
           79,
           79,
           44,
           62,
           67,
           75,
           65,
           70,
           83,
           88,
           59,
           69,
           40,
           75,
           48,
           58,
           90,
           90,
           80
          ],
          "sizemode": "area",
          "sizeref": 0.6375,
          "symbol": "circle"
         },
         "mode": "markers",
         "name": "Electric",
         "showlegend": true,
         "type": "scattergl",
         "x": [
          55,
          90,
          85,
          35,
          60,
          30,
          50,
          83,
          65,
          90,
          40,
          40,
          55,
          75,
          95,
          63,
          85,
          45,
          75,
          75,
          50,
          40,
          65,
          85,
          120,
          45,
          70,
          123,
          50,
          65,
          65,
          65,
          65,
          65,
          60,
          100,
          75,
          55,
          85,
          115,
          115,
          105,
          38,
          55,
          58,
          70,
          98,
          115,
          89,
          112,
          45,
          90,
          38,
          98,
          101,
          95,
          100,
          100,
          100
         ],
         "xaxis": "x",
         "y": [
          40,
          55,
          50,
          70,
          95,
          50,
          70,
          57,
          60,
          85,
          15,
          40,
          55,
          85,
          105,
          37,
          75,
          40,
          60,
          80,
          40,
          50,
          34,
          49,
          79,
          70,
          115,
          67,
          77,
          107,
          107,
          107,
          107,
          107,
          32,
          63,
          60,
          40,
          70,
          80,
          70,
          70,
          33,
          52,
          57,
          70,
          63,
          85,
          71,
          75,
          50,
          60,
          35,
          70,
          95,
          58,
          90,
          90,
          50
         ],
         "yaxis": "y"
        },
        {
         "hovertemplate": "Type 1=Ground<br>Att=%{x}<br>Def=%{y}<br>HP=%{marker.size}<extra></extra>",
         "legendgroup": "Ground",
         "marker": {
          "color": "#FF97FF",
          "size": [
           50,
           75,
           10,
           10,
           35,
           35,
           50,
           60,
           80,
           105,
           65,
           90,
           90,
           45,
           50,
           80,
           40,
           60,
           100,
           100,
           68,
           108,
           115,
           75,
           60,
           110,
           50,
           60,
           95,
           38,
           109,
           109,
           59,
           89,
           89,
           89,
           70,
           100,
           52,
           72,
           58
          ],
          "sizemode": "area",
          "sizeref": 0.6375,
          "symbol": "circle"
         },
         "mode": "markers",
         "name": "Ground",
         "showlegend": true,
         "type": "scattergl",
         "x": [
          75,
          100,
          55,
          55,
          100,
          100,
          50,
          80,
          85,
          130,
          75,
          60,
          120,
          100,
          70,
          100,
          40,
          70,
          150,
          180,
          72,
          112,
          140,
          95,
          85,
          135,
          72,
          82,
          117,
          55,
          66,
          81,
          74,
          124,
          125,
          145,
          100,
          125,
          57,
          107,
          95
         ],
         "xaxis": "x",
         "y": [
          85,
          110,
          25,
          30,
          50,
          60,
          95,
          110,
          95,
          120,
          105,
          60,
          120,
          45,
          50,
          80,
          55,
          105,
          140,
          160,
          78,
          118,
          130,
          125,
          40,
          60,
          35,
          45,
          80,
          85,
          84,
          99,
          50,
          80,
          90,
          90,
          70,
          100,
          75,
          125,
          145
         ],
         "yaxis": "y"
        },
        {
         "hovertemplate": "Type 1=Ice<br>Att=%{x}<br>Def=%{y}<br>HP=%{marker.size}<extra></extra>",
         "legendgroup": "Ice",
         "marker": {
          "color": "#FECB52",
          "size": [
           50,
           75,
           38,
           73,
           50,
           65,
           90,
           50,
           100,
           45,
           45,
           50,
           80,
           80,
           70,
           90,
           110,
           80,
           65,
           110,
           70,
           70,
           105,
           105,
           36,
           51,
           71,
           55,
           95,
           80,
           55,
           95,
           80,
           30,
           70,
           75,
           75,
           100
          ],
          "sizemode": "area",
          "sizeref": 0.6375,
          "symbol": "circle"
         },
         "mode": "markers",
         "name": "Ice",
         "showlegend": true,
         "type": "scattergl",
         "x": [
          75,
          100,
          41,
          67,
          65,
          50,
          85,
          50,
          100,
          55,
          30,
          50,
          80,
          120,
          40,
          60,
          80,
          50,
          60,
          130,
          80,
          90,
          140,
          160,
          50,
          65,
          95,
          70,
          130,
          50,
          69,
          117,
          85,
          25,
          65,
          80,
          80,
          145
         ],
         "xaxis": "x",
         "y": [
          90,
          120,
          40,
          75,
          65,
          35,
          100,
          40,
          80,
          45,
          15,
          50,
          80,
          80,
          50,
          70,
          90,
          100,
          110,
          80,
          70,
          45,
          55,
          55,
          50,
          65,
          85,
          40,
          80,
          50,
          85,
          184,
          75,
          35,
          60,
          110,
          70,
          130
         ],
         "yaxis": "y"
        },
        {
         "hovertemplate": "Type 1=Fairy<br>Att=%{x}<br>Def=%{y}<br>HP=%{marker.size}<extra></extra>",
         "legendgroup": "Fairy",
         "marker": {
          "color": "#636efa",
          "size": [
           70,
           95,
           50,
           35,
           55,
           60,
           90,
           85,
           44,
           54,
           78,
           78,
           101,
           62,
           82,
           95,
           126,
           51,
           45,
           65,
           92,
           92
          ],
          "sizemode": "area",
          "sizeref": 0.6375,
          "symbol": "circle"
         },
         "mode": "markers",
         "name": "Fairy",
         "showlegend": true,
         "type": "scattergl",
         "x": [
          45,
          70,
          25,
          20,
          40,
          80,
          120,
          50,
          38,
          45,
          65,
          52,
          72,
          48,
          80,
          65,
          131,
          52,
          40,
          60,
          130,
          170
         ],
         "xaxis": "x",
         "y": [
          48,
          73,
          28,
          65,
          85,
          50,
          75,
          95,
          39,
          47,
          68,
          60,
          72,
          66,
          86,
          65,
          95,
          90,
          40,
          75,
          115,
          115
         ],
         "yaxis": "y"
        },
        {
         "hovertemplate": "Type 1=Steel<br>Att=%{x}<br>Def=%{y}<br>HP=%{marker.size}<extra></extra>",
         "legendgroup": "Steel",
         "marker": {
          "color": "#EF553B",
          "size": [
           50,
           75,
           75,
           65,
           50,
           50,
           50,
           60,
           70,
           70,
           40,
           60,
           80,
           80,
           80,
           100,
           57,
           67,
           100,
           40,
           60,
           60,
           91,
           45,
           59,
           50,
           50,
           57,
           97,
           80,
           46,
           135,
           70,
           72,
           122,
           70
          ],
          "sizemode": "area",
          "sizeref": 0.6375,
          "symbol": "circle"
         },
         "mode": "markers",
         "name": "Steel",
         "showlegend": true,
         "type": "scattergl",
         "x": [
          65,
          85,
          125,
          80,
          85,
          105,
          70,
          90,
          110,
          140,
          55,
          75,
          135,
          145,
          75,
          100,
          24,
          89,
          120,
          55,
          80,
          100,
          90,
          80,
          110,
          70,
          140,
          80,
          101,
          95,
          65,
          143,
          110,
          80,
          130,
          95
         ],
         "xaxis": "x",
         "y": [
          55,
          200,
          230,
          140,
          85,
          125,
          100,
          140,
          180,
          230,
          80,
          100,
          130,
          150,
          150,
          100,
          86,
          116,
          120,
          70,
          95,
          115,
          129,
          100,
          150,
          140,
          70,
          91,
          103,
          115,
          65,
          143,
          100,
          49,
          69,
          115
         ],
         "yaxis": "y"
        },
        {
         "hovertemplate": "Type 1=Fighting<br>Att=%{x}<br>Def=%{y}<br>HP=%{marker.size}<extra></extra>",
         "legendgroup": "Fighting",
         "marker": {
          "color": "#00cc96",
          "size": [
           40,
           65,
           70,
           80,
           90,
           52,
           50,
           50,
           90,
           35,
           50,
           72,
           144,
           30,
           60,
           60,
           40,
           70,
           70,
           75,
           85,
           105,
           120,
           75,
           45,
           65,
           67,
           95,
           78,
           47,
           97,
           100,
           90,
           50,
           80,
           62,
           65,
           92,
           92,
           60,
           100,
           100
          ],
          "sizemode": "area",
          "sizeref": 0.6375,
          "symbol": "circle"
         },
         "mode": "markers",
         "name": "Fighting",
         "showlegend": true,
         "type": "scattergl",
         "x": [
          80,
          105,
          80,
          100,
          130,
          95,
          120,
          105,
          125,
          35,
          95,
          60,
          120,
          40,
          60,
          100,
          70,
          110,
          145,
          80,
          105,
          140,
          100,
          125,
          85,
          125,
          82,
          124,
          92,
          82,
          132,
          120,
          125,
          68,
          118,
          135,
          100,
          130,
          130,
          90,
          130,
          130
         ],
         "xaxis": "x",
         "y": [
          35,
          60,
          50,
          70,
          80,
          55,
          53,
          79,
          90,
          35,
          95,
          30,
          60,
          55,
          75,
          85,
          40,
          70,
          88,
          55,
          85,
          95,
          85,
          75,
          50,
          60,
          62,
          78,
          75,
          57,
          77,
          90,
          80,
          60,
          90,
          95,
          100,
          115,
          145,
          60,
          100,
          100
         ],
         "yaxis": "y"
        },
        {
         "hovertemplate": "Type 1=Psychic<br>Att=%{x}<br>Def=%{y}<br>HP=%{marker.size}<extra></extra>",
         "legendgroup": "Psychic",
         "marker": {
          "color": "#ab63fa",
          "size": [
           25,
           40,
           55,
           55,
           50,
           65,
           90,
           60,
           85,
           40,
           90,
           106,
           106,
           106,
           100,
           40,
           65,
           65,
           48,
           190,
           106,
           100,
           28,
           38,
           68,
           68,
           60,
           80,
           75,
           95,
           50,
           50,
           50,
           50,
           45,
           20,
           68,
           68,
           75,
           80,
           75,
           120,
           100,
           76,
           116,
           65,
           67,
           72,
           45,
           60,
           70,
           45,
           65,
           110,
           55,
           75,
           62,
           74,
           80,
           80,
           75,
           70,
           43,
           43,
           137,
           137,
           97,
           97,
           97,
           97,
           42,
           57,
           57,
           60,
           100,
           100,
           100
          ],
          "sizemode": "area",
          "sizeref": 0.6375,
          "symbol": "circle"
         },
         "mode": "markers",
         "name": "Psychic",
         "showlegend": true,
         "type": "scattergl",
         "x": [
          20,
          35,
          50,
          50,
          85,
          100,
          65,
          48,
          73,
          45,
          85,
          110,
          150,
          190,
          100,
          50,
          75,
          65,
          72,
          33,
          90,
          100,
          25,
          35,
          65,
          85,
          25,
          45,
          50,
          23,
          150,
          70,
          180,
          95,
          30,
          25,
          125,
          165,
          75,
          105,
          125,
          70,
          100,
          25,
          55,
          45,
          57,
          58,
          30,
          45,
          55,
          30,
          40,
          65,
          55,
          75,
          48,
          48,
          110,
          160,
          70,
          85,
          29,
          29,
          137,
          113,
          107,
          157,
          113,
          167,
          30,
          40,
          90,
          65,
          80,
          165,
          85
         ],
         "xaxis": "x",
         "y": [
          15,
          30,
          45,
          65,
          55,
          70,
          65,
          45,
          70,
          65,
          85,
          90,
          70,
          100,
          100,
          45,
          70,
          60,
          48,
          58,
          130,
          100,
          25,
          35,
          65,
          65,
          35,
          65,
          80,
          48,
          50,
          160,
          20,
          90,
          50,
          45,
          65,
          95,
          130,
          105,
          70,
          120,
          100,
          45,
          85,
          43,
          55,
          80,
          50,
          70,
          95,
          40,
          50,
          75,
          55,
          75,
          54,
          76,
          60,
          60,
          70,
          75,
          31,
          131,
          107,
          89,
          101,
          127,
          109,
          97,
          45,
          65,
          95,
          55,
          80,
          150,
          80
         ],
         "yaxis": "y"
        },
        {
         "hovertemplate": "Type 1=Rock<br>Att=%{x}<br>Def=%{y}<br>HP=%{marker.size}<extra></extra>",
         "legendgroup": "Rock",
         "marker": {
          "color": "#FFA15A",
          "size": [
           40,
           40,
           55,
           55,
           80,
           80,
           35,
           35,
           70,
           30,
           60,
           80,
           80,
           70,
           50,
           70,
           100,
           100,
           30,
           90,
           90,
           66,
           86,
           45,
           75,
           80,
           67,
           97,
           30,
           60,
           50,
           60,
           55,
           70,
           85,
           55,
           75,
           91,
           42,
           72,
           58,
           82,
           77,
           123,
           50,
           50,
           50,
           45,
           75,
           85,
           75,
           60,
           60,
           109,
           61,
           30,
           80,
           110,
           100
          ],
          "sizemode": "area",
          "sizeref": 0.6375,
          "symbol": "circle"
         },
         "mode": "markers",
         "name": "Rock",
         "showlegend": true,
         "type": "scattergl",
         "x": [
          80,
          80,
          95,
          95,
          120,
          120,
          45,
          40,
          60,
          80,
          115,
          105,
          135,
          100,
          64,
          84,
          134,
          164,
          45,
          55,
          95,
          41,
          81,
          95,
          125,
          100,
          125,
          165,
          42,
          52,
          80,
          55,
          75,
          105,
          135,
          112,
          140,
          129,
          52,
          105,
          89,
          121,
          59,
          77,
          50,
          160,
          100,
          65,
          115,
          115,
          117,
          60,
          100,
          53,
          131,
          40,
          60,
          80,
          125
         ],
         "xaxis": "x",
         "y": [
          100,
          100,
          115,
          115,
          130,
          130,
          160,
          100,
          125,
          90,
          105,
          65,
          85,
          115,
          50,
          70,
          110,
          150,
          135,
          65,
          85,
          77,
          97,
          50,
          100,
          200,
          40,
          60,
          118,
          168,
          95,
          145,
          85,
          105,
          130,
          45,
          65,
          90,
          67,
          115,
          77,
          119,
          50,
          72,
          150,
          110,
          150,
          40,
          65,
          75,
          65,
          100,
          60,
          47,
          211,
          50,
          90,
          120,
          135
         ],
         "yaxis": "y"
        },
        {
         "hovertemplate": "Type 1=Ghost<br>Att=%{x}<br>Def=%{y}<br>HP=%{marker.size}<extra></extra>",
         "legendgroup": "Ghost",
         "marker": {
          "color": "#19d3f3",
          "size": [
           30,
           45,
           60,
           60,
           60,
           60,
           44,
           64,
           64,
           20,
           40,
           90,
           150,
           60,
           50,
           45,
           150,
           38,
           58,
           50,
           60,
           60,
           43,
           85,
           44,
           49,
           54,
           59,
           55,
           65,
           75,
           85,
           75,
           55,
           85,
           55,
           70,
           40,
           60,
           60,
           100
          ],
          "sizemode": "area",
          "sizeref": 0.6375,
          "symbol": "circle"
         },
         "mode": "markers",
         "name": "Ghost",
         "showlegend": true,
         "type": "scattergl",
         "x": [
          35,
          50,
          65,
          65,
          60,
          55,
          75,
          115,
          165,
          40,
          70,
          50,
          80,
          60,
          92,
          100,
          100,
          30,
          50,
          30,
          40,
          55,
          70,
          110,
          66,
          66,
          66,
          66,
          85,
          90,
          95,
          100,
          70,
          55,
          75,
          90,
          131,
          45,
          65,
          95,
          65
         ],
         "xaxis": "x",
         "y": [
          30,
          45,
          60,
          80,
          60,
          100,
          35,
          65,
          75,
          90,
          130,
          34,
          44,
          60,
          108,
          135,
          120,
          85,
          145,
          55,
          60,
          90,
          48,
          76,
          70,
          70,
          70,
          70,
          122,
          122,
          122,
          122,
          70,
          80,
          110,
          80,
          100,
          45,
          65,
          50,
          60
         ],
         "yaxis": "y"
        },
        {
         "hovertemplate": "Type 1=Dragon<br>Att=%{x}<br>Def=%{y}<br>HP=%{marker.size}<extra></extra>",
         "legendgroup": "Dragon",
         "marker": {
          "color": "#FF6692",
          "size": [
           41,
           61,
           91,
           75,
           75,
           45,
           65,
           95,
           95,
           80,
           80,
           80,
           80,
           105,
           105,
           58,
           68,
           108,
           108,
           150,
           46,
           66,
           76,
           77,
           100,
           100,
           125,
           125,
           125,
           45,
           68,
           90,
           108,
           54,
           216,
           45,
           55,
           75,
           28,
           68,
           88,
           200
          ],
          "sizemode": "area",
          "sizeref": 0.6375,
          "symbol": "circle"
         },
         "mode": "markers",
         "name": "Dragon",
         "showlegend": true,
         "type": "scattergl",
         "x": [
          64,
          84,
          134,
          70,
          110,
          75,
          95,
          135,
          145,
          80,
          100,
          90,
          130,
          150,
          180,
          70,
          90,
          130,
          170,
          120,
          87,
          117,
          147,
          120,
          120,
          150,
          130,
          120,
          170,
          50,
          75,
          100,
          100,
          100,
          100,
          55,
          75,
          110,
          60,
          80,
          120,
          100
         ],
         "xaxis": "x",
         "y": [
          45,
          65,
          95,
          90,
          110,
          60,
          100,
          80,
          130,
          90,
          120,
          80,
          100,
          90,
          100,
          45,
          65,
          95,
          115,
          100,
          60,
          70,
          90,
          90,
          100,
          120,
          90,
          90,
          100,
          35,
          53,
          70,
          121,
          71,
          121,
          65,
          90,
          125,
          30,
          50,
          75,
          50
         ],
         "yaxis": "y"
        },
        {
         "hovertemplate": "Type 1=Flying<br>Att=%{x}<br>Def=%{y}<br>HP=%{marker.size}<extra></extra>",
         "legendgroup": "Flying",
         "marker": {
          "color": "#B6E880",
          "size": [
           79,
           79,
           40,
           85,
           38,
           68,
           98,
           70
          ],
          "sizemode": "area",
          "sizeref": 0.6375,
          "symbol": "circle"
         },
         "mode": "markers",
         "name": "Flying",
         "showlegend": true,
         "type": "scattergl",
         "x": [
          115,
          100,
          30,
          70,
          47,
          67,
          87,
          85
         ],
         "xaxis": "x",
         "y": [
          70,
          80,
          35,
          80,
          35,
          55,
          105,
          55
         ],
         "yaxis": "y"
        }
       ],
       "layout": {
        "legend": {
         "itemsizing": "constant",
         "title": {
          "text": "Type 1"
         },
         "tracegroupgap": 0
        },
        "margin": {
         "t": 60
        },
        "template": {
         "data": {
          "bar": [
           {
            "error_x": {
             "color": "#2a3f5f"
            },
            "error_y": {
             "color": "#2a3f5f"
            },
            "marker": {
             "line": {
              "color": "#E5ECF6",
              "width": 0.5
             },
             "pattern": {
              "fillmode": "overlay",
              "size": 10,
              "solidity": 0.2
             }
            },
            "type": "bar"
           }
          ],
          "barpolar": [
           {
            "marker": {
             "line": {
              "color": "#E5ECF6",
              "width": 0.5
             },
             "pattern": {
              "fillmode": "overlay",
              "size": 10,
              "solidity": 0.2
             }
            },
            "type": "barpolar"
           }
          ],
          "carpet": [
           {
            "aaxis": {
             "endlinecolor": "#2a3f5f",
             "gridcolor": "white",
             "linecolor": "white",
             "minorgridcolor": "white",
             "startlinecolor": "#2a3f5f"
            },
            "baxis": {
             "endlinecolor": "#2a3f5f",
             "gridcolor": "white",
             "linecolor": "white",
             "minorgridcolor": "white",
             "startlinecolor": "#2a3f5f"
            },
            "type": "carpet"
           }
          ],
          "choropleth": [
           {
            "colorbar": {
             "outlinewidth": 0,
             "ticks": ""
            },
            "type": "choropleth"
           }
          ],
          "contour": [
           {
            "colorbar": {
             "outlinewidth": 0,
             "ticks": ""
            },
            "colorscale": [
             [
              0,
              "#0d0887"
             ],
             [
              0.1111111111111111,
              "#46039f"
             ],
             [
              0.2222222222222222,
              "#7201a8"
             ],
             [
              0.3333333333333333,
              "#9c179e"
             ],
             [
              0.4444444444444444,
              "#bd3786"
             ],
             [
              0.5555555555555556,
              "#d8576b"
             ],
             [
              0.6666666666666666,
              "#ed7953"
             ],
             [
              0.7777777777777778,
              "#fb9f3a"
             ],
             [
              0.8888888888888888,
              "#fdca26"
             ],
             [
              1,
              "#f0f921"
             ]
            ],
            "type": "contour"
           }
          ],
          "contourcarpet": [
           {
            "colorbar": {
             "outlinewidth": 0,
             "ticks": ""
            },
            "type": "contourcarpet"
           }
          ],
          "heatmap": [
           {
            "colorbar": {
             "outlinewidth": 0,
             "ticks": ""
            },
            "colorscale": [
             [
              0,
              "#0d0887"
             ],
             [
              0.1111111111111111,
              "#46039f"
             ],
             [
              0.2222222222222222,
              "#7201a8"
             ],
             [
              0.3333333333333333,
              "#9c179e"
             ],
             [
              0.4444444444444444,
              "#bd3786"
             ],
             [
              0.5555555555555556,
              "#d8576b"
             ],
             [
              0.6666666666666666,
              "#ed7953"
             ],
             [
              0.7777777777777778,
              "#fb9f3a"
             ],
             [
              0.8888888888888888,
              "#fdca26"
             ],
             [
              1,
              "#f0f921"
             ]
            ],
            "type": "heatmap"
           }
          ],
          "heatmapgl": [
           {
            "colorbar": {
             "outlinewidth": 0,
             "ticks": ""
            },
            "colorscale": [
             [
              0,
              "#0d0887"
             ],
             [
              0.1111111111111111,
              "#46039f"
             ],
             [
              0.2222222222222222,
              "#7201a8"
             ],
             [
              0.3333333333333333,
              "#9c179e"
             ],
             [
              0.4444444444444444,
              "#bd3786"
             ],
             [
              0.5555555555555556,
              "#d8576b"
             ],
             [
              0.6666666666666666,
              "#ed7953"
             ],
             [
              0.7777777777777778,
              "#fb9f3a"
             ],
             [
              0.8888888888888888,
              "#fdca26"
             ],
             [
              1,
              "#f0f921"
             ]
            ],
            "type": "heatmapgl"
           }
          ],
          "histogram": [
           {
            "marker": {
             "pattern": {
              "fillmode": "overlay",
              "size": 10,
              "solidity": 0.2
             }
            },
            "type": "histogram"
           }
          ],
          "histogram2d": [
           {
            "colorbar": {
             "outlinewidth": 0,
             "ticks": ""
            },
            "colorscale": [
             [
              0,
              "#0d0887"
             ],
             [
              0.1111111111111111,
              "#46039f"
             ],
             [
              0.2222222222222222,
              "#7201a8"
             ],
             [
              0.3333333333333333,
              "#9c179e"
             ],
             [
              0.4444444444444444,
              "#bd3786"
             ],
             [
              0.5555555555555556,
              "#d8576b"
             ],
             [
              0.6666666666666666,
              "#ed7953"
             ],
             [
              0.7777777777777778,
              "#fb9f3a"
             ],
             [
              0.8888888888888888,
              "#fdca26"
             ],
             [
              1,
              "#f0f921"
             ]
            ],
            "type": "histogram2d"
           }
          ],
          "histogram2dcontour": [
           {
            "colorbar": {
             "outlinewidth": 0,
             "ticks": ""
            },
            "colorscale": [
             [
              0,
              "#0d0887"
             ],
             [
              0.1111111111111111,
              "#46039f"
             ],
             [
              0.2222222222222222,
              "#7201a8"
             ],
             [
              0.3333333333333333,
              "#9c179e"
             ],
             [
              0.4444444444444444,
              "#bd3786"
             ],
             [
              0.5555555555555556,
              "#d8576b"
             ],
             [
              0.6666666666666666,
              "#ed7953"
             ],
             [
              0.7777777777777778,
              "#fb9f3a"
             ],
             [
              0.8888888888888888,
              "#fdca26"
             ],
             [
              1,
              "#f0f921"
             ]
            ],
            "type": "histogram2dcontour"
           }
          ],
          "mesh3d": [
           {
            "colorbar": {
             "outlinewidth": 0,
             "ticks": ""
            },
            "type": "mesh3d"
           }
          ],
          "parcoords": [
           {
            "line": {
             "colorbar": {
              "outlinewidth": 0,
              "ticks": ""
             }
            },
            "type": "parcoords"
           }
          ],
          "pie": [
           {
            "automargin": true,
            "type": "pie"
           }
          ],
          "scatter": [
           {
            "fillpattern": {
             "fillmode": "overlay",
             "size": 10,
             "solidity": 0.2
            },
            "type": "scatter"
           }
          ],
          "scatter3d": [
           {
            "line": {
             "colorbar": {
              "outlinewidth": 0,
              "ticks": ""
             }
            },
            "marker": {
             "colorbar": {
              "outlinewidth": 0,
              "ticks": ""
             }
            },
            "type": "scatter3d"
           }
          ],
          "scattercarpet": [
           {
            "marker": {
             "colorbar": {
              "outlinewidth": 0,
              "ticks": ""
             }
            },
            "type": "scattercarpet"
           }
          ],
          "scattergeo": [
           {
            "marker": {
             "colorbar": {
              "outlinewidth": 0,
              "ticks": ""
             }
            },
            "type": "scattergeo"
           }
          ],
          "scattergl": [
           {
            "marker": {
             "colorbar": {
              "outlinewidth": 0,
              "ticks": ""
             }
            },
            "type": "scattergl"
           }
          ],
          "scattermapbox": [
           {
            "marker": {
             "colorbar": {
              "outlinewidth": 0,
              "ticks": ""
             }
            },
            "type": "scattermapbox"
           }
          ],
          "scatterpolar": [
           {
            "marker": {
             "colorbar": {
              "outlinewidth": 0,
              "ticks": ""
             }
            },
            "type": "scatterpolar"
           }
          ],
          "scatterpolargl": [
           {
            "marker": {
             "colorbar": {
              "outlinewidth": 0,
              "ticks": ""
             }
            },
            "type": "scatterpolargl"
           }
          ],
          "scatterternary": [
           {
            "marker": {
             "colorbar": {
              "outlinewidth": 0,
              "ticks": ""
             }
            },
            "type": "scatterternary"
           }
          ],
          "surface": [
           {
            "colorbar": {
             "outlinewidth": 0,
             "ticks": ""
            },
            "colorscale": [
             [
              0,
              "#0d0887"
             ],
             [
              0.1111111111111111,
              "#46039f"
             ],
             [
              0.2222222222222222,
              "#7201a8"
             ],
             [
              0.3333333333333333,
              "#9c179e"
             ],
             [
              0.4444444444444444,
              "#bd3786"
             ],
             [
              0.5555555555555556,
              "#d8576b"
             ],
             [
              0.6666666666666666,
              "#ed7953"
             ],
             [
              0.7777777777777778,
              "#fb9f3a"
             ],
             [
              0.8888888888888888,
              "#fdca26"
             ],
             [
              1,
              "#f0f921"
             ]
            ],
            "type": "surface"
           }
          ],
          "table": [
           {
            "cells": {
             "fill": {
              "color": "#EBF0F8"
             },
             "line": {
              "color": "white"
             }
            },
            "header": {
             "fill": {
              "color": "#C8D4E3"
             },
             "line": {
              "color": "white"
             }
            },
            "type": "table"
           }
          ]
         },
         "layout": {
          "annotationdefaults": {
           "arrowcolor": "#2a3f5f",
           "arrowhead": 0,
           "arrowwidth": 1
          },
          "autotypenumbers": "strict",
          "coloraxis": {
           "colorbar": {
            "outlinewidth": 0,
            "ticks": ""
           }
          },
          "colorscale": {
           "diverging": [
            [
             0,
             "#8e0152"
            ],
            [
             0.1,
             "#c51b7d"
            ],
            [
             0.2,
             "#de77ae"
            ],
            [
             0.3,
             "#f1b6da"
            ],
            [
             0.4,
             "#fde0ef"
            ],
            [
             0.5,
             "#f7f7f7"
            ],
            [
             0.6,
             "#e6f5d0"
            ],
            [
             0.7,
             "#b8e186"
            ],
            [
             0.8,
             "#7fbc41"
            ],
            [
             0.9,
             "#4d9221"
            ],
            [
             1,
             "#276419"
            ]
           ],
           "sequential": [
            [
             0,
             "#0d0887"
            ],
            [
             0.1111111111111111,
             "#46039f"
            ],
            [
             0.2222222222222222,
             "#7201a8"
            ],
            [
             0.3333333333333333,
             "#9c179e"
            ],
            [
             0.4444444444444444,
             "#bd3786"
            ],
            [
             0.5555555555555556,
             "#d8576b"
            ],
            [
             0.6666666666666666,
             "#ed7953"
            ],
            [
             0.7777777777777778,
             "#fb9f3a"
            ],
            [
             0.8888888888888888,
             "#fdca26"
            ],
            [
             1,
             "#f0f921"
            ]
           ],
           "sequentialminus": [
            [
             0,
             "#0d0887"
            ],
            [
             0.1111111111111111,
             "#46039f"
            ],
            [
             0.2222222222222222,
             "#7201a8"
            ],
            [
             0.3333333333333333,
             "#9c179e"
            ],
            [
             0.4444444444444444,
             "#bd3786"
            ],
            [
             0.5555555555555556,
             "#d8576b"
            ],
            [
             0.6666666666666666,
             "#ed7953"
            ],
            [
             0.7777777777777778,
             "#fb9f3a"
            ],
            [
             0.8888888888888888,
             "#fdca26"
            ],
            [
             1,
             "#f0f921"
            ]
           ]
          },
          "colorway": [
           "#636efa",
           "#EF553B",
           "#00cc96",
           "#ab63fa",
           "#FFA15A",
           "#19d3f3",
           "#FF6692",
           "#B6E880",
           "#FF97FF",
           "#FECB52"
          ],
          "font": {
           "color": "#2a3f5f"
          },
          "geo": {
           "bgcolor": "white",
           "lakecolor": "white",
           "landcolor": "#E5ECF6",
           "showlakes": true,
           "showland": true,
           "subunitcolor": "white"
          },
          "hoverlabel": {
           "align": "left"
          },
          "hovermode": "closest",
          "mapbox": {
           "style": "light"
          },
          "paper_bgcolor": "white",
          "plot_bgcolor": "#E5ECF6",
          "polar": {
           "angularaxis": {
            "gridcolor": "white",
            "linecolor": "white",
            "ticks": ""
           },
           "bgcolor": "#E5ECF6",
           "radialaxis": {
            "gridcolor": "white",
            "linecolor": "white",
            "ticks": ""
           }
          },
          "scene": {
           "xaxis": {
            "backgroundcolor": "#E5ECF6",
            "gridcolor": "white",
            "gridwidth": 2,
            "linecolor": "white",
            "showbackground": true,
            "ticks": "",
            "zerolinecolor": "white"
           },
           "yaxis": {
            "backgroundcolor": "#E5ECF6",
            "gridcolor": "white",
            "gridwidth": 2,
            "linecolor": "white",
            "showbackground": true,
            "ticks": "",
            "zerolinecolor": "white"
           },
           "zaxis": {
            "backgroundcolor": "#E5ECF6",
            "gridcolor": "white",
            "gridwidth": 2,
            "linecolor": "white",
            "showbackground": true,
            "ticks": "",
            "zerolinecolor": "white"
           }
          },
          "shapedefaults": {
           "line": {
            "color": "#2a3f5f"
           }
          },
          "ternary": {
           "aaxis": {
            "gridcolor": "white",
            "linecolor": "white",
            "ticks": ""
           },
           "baxis": {
            "gridcolor": "white",
            "linecolor": "white",
            "ticks": ""
           },
           "bgcolor": "#E5ECF6",
           "caxis": {
            "gridcolor": "white",
            "linecolor": "white",
            "ticks": ""
           }
          },
          "title": {
           "x": 0.05
          },
          "xaxis": {
           "automargin": true,
           "gridcolor": "white",
           "linecolor": "white",
           "ticks": "",
           "title": {
            "standoff": 15
           },
           "zerolinecolor": "white",
           "zerolinewidth": 2
          },
          "yaxis": {
           "automargin": true,
           "gridcolor": "white",
           "linecolor": "white",
           "ticks": "",
           "title": {
            "standoff": 15
           },
           "zerolinecolor": "white",
           "zerolinewidth": 2
          }
         }
        },
        "xaxis": {
         "anchor": "y",
         "domain": [
          0,
          1
         ],
         "title": {
          "text": "Att"
         }
        },
        "yaxis": {
         "anchor": "x",
         "domain": [
          0,
          1
         ],
         "title": {
          "text": "Def"
         }
        }
       }
      }
     },
     "metadata": {},
     "output_type": "display_data"
    }
   ],
   "source": [
    "fig = px.scatter(pokemons, x=\"Att\", y=\"Def\", color=\"Type 1\",\n",
    "                 size='HP')\n",
    "fig.show()"
   ]
  },
  {
   "attachments": {},
   "cell_type": "markdown",
   "metadata": {},
   "source": [
    "### Pizza"
   ]
  },
  {
   "attachments": {},
   "cell_type": "markdown",
   "metadata": {},
   "source": [
    "E por último, o gráfico que todos amam odiar! Quando estávamos aprendendo seaborn, esse gráfico é o que mais exigia a utilização da MatplotLib e o código era um pouco mais extenso. Aqui, a biblioteca Plotly mantém a simplicidade:"
   ]
  },
  {
   "cell_type": "code",
   "execution_count": 35,
   "metadata": {},
   "outputs": [
    {
     "data": {
      "application/vnd.plotly.v1+json": {
       "config": {
        "plotlyServerURL": "https://plot.ly"
       },
       "data": [
        {
         "domain": {
          "x": [
           0,
           1
          ],
          "y": [
           0,
           1
          ]
         },
         "hovertemplate": "Generation=%{label}<br>AvgAttack=%{value}<extra></extra>",
         "labels": [
          1,
          2,
          3,
          4,
          5,
          6,
          7,
          8
         ],
         "legendgroup": "",
         "name": "",
         "showlegend": true,
         "type": "pie",
         "values": [
          72.91390728476821,
          68.26,
          74.02173913043478,
          79.99137931034483,
          82.4478527607362,
          95.8796992481203,
          86.11206896551724,
          83.41739130434783
         ]
        }
       ],
       "layout": {
        "legend": {
         "tracegroupgap": 0
        },
        "margin": {
         "t": 60
        },
        "template": {
         "data": {
          "bar": [
           {
            "error_x": {
             "color": "#2a3f5f"
            },
            "error_y": {
             "color": "#2a3f5f"
            },
            "marker": {
             "line": {
              "color": "#E5ECF6",
              "width": 0.5
             },
             "pattern": {
              "fillmode": "overlay",
              "size": 10,
              "solidity": 0.2
             }
            },
            "type": "bar"
           }
          ],
          "barpolar": [
           {
            "marker": {
             "line": {
              "color": "#E5ECF6",
              "width": 0.5
             },
             "pattern": {
              "fillmode": "overlay",
              "size": 10,
              "solidity": 0.2
             }
            },
            "type": "barpolar"
           }
          ],
          "carpet": [
           {
            "aaxis": {
             "endlinecolor": "#2a3f5f",
             "gridcolor": "white",
             "linecolor": "white",
             "minorgridcolor": "white",
             "startlinecolor": "#2a3f5f"
            },
            "baxis": {
             "endlinecolor": "#2a3f5f",
             "gridcolor": "white",
             "linecolor": "white",
             "minorgridcolor": "white",
             "startlinecolor": "#2a3f5f"
            },
            "type": "carpet"
           }
          ],
          "choropleth": [
           {
            "colorbar": {
             "outlinewidth": 0,
             "ticks": ""
            },
            "type": "choropleth"
           }
          ],
          "contour": [
           {
            "colorbar": {
             "outlinewidth": 0,
             "ticks": ""
            },
            "colorscale": [
             [
              0,
              "#0d0887"
             ],
             [
              0.1111111111111111,
              "#46039f"
             ],
             [
              0.2222222222222222,
              "#7201a8"
             ],
             [
              0.3333333333333333,
              "#9c179e"
             ],
             [
              0.4444444444444444,
              "#bd3786"
             ],
             [
              0.5555555555555556,
              "#d8576b"
             ],
             [
              0.6666666666666666,
              "#ed7953"
             ],
             [
              0.7777777777777778,
              "#fb9f3a"
             ],
             [
              0.8888888888888888,
              "#fdca26"
             ],
             [
              1,
              "#f0f921"
             ]
            ],
            "type": "contour"
           }
          ],
          "contourcarpet": [
           {
            "colorbar": {
             "outlinewidth": 0,
             "ticks": ""
            },
            "type": "contourcarpet"
           }
          ],
          "heatmap": [
           {
            "colorbar": {
             "outlinewidth": 0,
             "ticks": ""
            },
            "colorscale": [
             [
              0,
              "#0d0887"
             ],
             [
              0.1111111111111111,
              "#46039f"
             ],
             [
              0.2222222222222222,
              "#7201a8"
             ],
             [
              0.3333333333333333,
              "#9c179e"
             ],
             [
              0.4444444444444444,
              "#bd3786"
             ],
             [
              0.5555555555555556,
              "#d8576b"
             ],
             [
              0.6666666666666666,
              "#ed7953"
             ],
             [
              0.7777777777777778,
              "#fb9f3a"
             ],
             [
              0.8888888888888888,
              "#fdca26"
             ],
             [
              1,
              "#f0f921"
             ]
            ],
            "type": "heatmap"
           }
          ],
          "heatmapgl": [
           {
            "colorbar": {
             "outlinewidth": 0,
             "ticks": ""
            },
            "colorscale": [
             [
              0,
              "#0d0887"
             ],
             [
              0.1111111111111111,
              "#46039f"
             ],
             [
              0.2222222222222222,
              "#7201a8"
             ],
             [
              0.3333333333333333,
              "#9c179e"
             ],
             [
              0.4444444444444444,
              "#bd3786"
             ],
             [
              0.5555555555555556,
              "#d8576b"
             ],
             [
              0.6666666666666666,
              "#ed7953"
             ],
             [
              0.7777777777777778,
              "#fb9f3a"
             ],
             [
              0.8888888888888888,
              "#fdca26"
             ],
             [
              1,
              "#f0f921"
             ]
            ],
            "type": "heatmapgl"
           }
          ],
          "histogram": [
           {
            "marker": {
             "pattern": {
              "fillmode": "overlay",
              "size": 10,
              "solidity": 0.2
             }
            },
            "type": "histogram"
           }
          ],
          "histogram2d": [
           {
            "colorbar": {
             "outlinewidth": 0,
             "ticks": ""
            },
            "colorscale": [
             [
              0,
              "#0d0887"
             ],
             [
              0.1111111111111111,
              "#46039f"
             ],
             [
              0.2222222222222222,
              "#7201a8"
             ],
             [
              0.3333333333333333,
              "#9c179e"
             ],
             [
              0.4444444444444444,
              "#bd3786"
             ],
             [
              0.5555555555555556,
              "#d8576b"
             ],
             [
              0.6666666666666666,
              "#ed7953"
             ],
             [
              0.7777777777777778,
              "#fb9f3a"
             ],
             [
              0.8888888888888888,
              "#fdca26"
             ],
             [
              1,
              "#f0f921"
             ]
            ],
            "type": "histogram2d"
           }
          ],
          "histogram2dcontour": [
           {
            "colorbar": {
             "outlinewidth": 0,
             "ticks": ""
            },
            "colorscale": [
             [
              0,
              "#0d0887"
             ],
             [
              0.1111111111111111,
              "#46039f"
             ],
             [
              0.2222222222222222,
              "#7201a8"
             ],
             [
              0.3333333333333333,
              "#9c179e"
             ],
             [
              0.4444444444444444,
              "#bd3786"
             ],
             [
              0.5555555555555556,
              "#d8576b"
             ],
             [
              0.6666666666666666,
              "#ed7953"
             ],
             [
              0.7777777777777778,
              "#fb9f3a"
             ],
             [
              0.8888888888888888,
              "#fdca26"
             ],
             [
              1,
              "#f0f921"
             ]
            ],
            "type": "histogram2dcontour"
           }
          ],
          "mesh3d": [
           {
            "colorbar": {
             "outlinewidth": 0,
             "ticks": ""
            },
            "type": "mesh3d"
           }
          ],
          "parcoords": [
           {
            "line": {
             "colorbar": {
              "outlinewidth": 0,
              "ticks": ""
             }
            },
            "type": "parcoords"
           }
          ],
          "pie": [
           {
            "automargin": true,
            "type": "pie"
           }
          ],
          "scatter": [
           {
            "fillpattern": {
             "fillmode": "overlay",
             "size": 10,
             "solidity": 0.2
            },
            "type": "scatter"
           }
          ],
          "scatter3d": [
           {
            "line": {
             "colorbar": {
              "outlinewidth": 0,
              "ticks": ""
             }
            },
            "marker": {
             "colorbar": {
              "outlinewidth": 0,
              "ticks": ""
             }
            },
            "type": "scatter3d"
           }
          ],
          "scattercarpet": [
           {
            "marker": {
             "colorbar": {
              "outlinewidth": 0,
              "ticks": ""
             }
            },
            "type": "scattercarpet"
           }
          ],
          "scattergeo": [
           {
            "marker": {
             "colorbar": {
              "outlinewidth": 0,
              "ticks": ""
             }
            },
            "type": "scattergeo"
           }
          ],
          "scattergl": [
           {
            "marker": {
             "colorbar": {
              "outlinewidth": 0,
              "ticks": ""
             }
            },
            "type": "scattergl"
           }
          ],
          "scattermapbox": [
           {
            "marker": {
             "colorbar": {
              "outlinewidth": 0,
              "ticks": ""
             }
            },
            "type": "scattermapbox"
           }
          ],
          "scatterpolar": [
           {
            "marker": {
             "colorbar": {
              "outlinewidth": 0,
              "ticks": ""
             }
            },
            "type": "scatterpolar"
           }
          ],
          "scatterpolargl": [
           {
            "marker": {
             "colorbar": {
              "outlinewidth": 0,
              "ticks": ""
             }
            },
            "type": "scatterpolargl"
           }
          ],
          "scatterternary": [
           {
            "marker": {
             "colorbar": {
              "outlinewidth": 0,
              "ticks": ""
             }
            },
            "type": "scatterternary"
           }
          ],
          "surface": [
           {
            "colorbar": {
             "outlinewidth": 0,
             "ticks": ""
            },
            "colorscale": [
             [
              0,
              "#0d0887"
             ],
             [
              0.1111111111111111,
              "#46039f"
             ],
             [
              0.2222222222222222,
              "#7201a8"
             ],
             [
              0.3333333333333333,
              "#9c179e"
             ],
             [
              0.4444444444444444,
              "#bd3786"
             ],
             [
              0.5555555555555556,
              "#d8576b"
             ],
             [
              0.6666666666666666,
              "#ed7953"
             ],
             [
              0.7777777777777778,
              "#fb9f3a"
             ],
             [
              0.8888888888888888,
              "#fdca26"
             ],
             [
              1,
              "#f0f921"
             ]
            ],
            "type": "surface"
           }
          ],
          "table": [
           {
            "cells": {
             "fill": {
              "color": "#EBF0F8"
             },
             "line": {
              "color": "white"
             }
            },
            "header": {
             "fill": {
              "color": "#C8D4E3"
             },
             "line": {
              "color": "white"
             }
            },
            "type": "table"
           }
          ]
         },
         "layout": {
          "annotationdefaults": {
           "arrowcolor": "#2a3f5f",
           "arrowhead": 0,
           "arrowwidth": 1
          },
          "autotypenumbers": "strict",
          "coloraxis": {
           "colorbar": {
            "outlinewidth": 0,
            "ticks": ""
           }
          },
          "colorscale": {
           "diverging": [
            [
             0,
             "#8e0152"
            ],
            [
             0.1,
             "#c51b7d"
            ],
            [
             0.2,
             "#de77ae"
            ],
            [
             0.3,
             "#f1b6da"
            ],
            [
             0.4,
             "#fde0ef"
            ],
            [
             0.5,
             "#f7f7f7"
            ],
            [
             0.6,
             "#e6f5d0"
            ],
            [
             0.7,
             "#b8e186"
            ],
            [
             0.8,
             "#7fbc41"
            ],
            [
             0.9,
             "#4d9221"
            ],
            [
             1,
             "#276419"
            ]
           ],
           "sequential": [
            [
             0,
             "#0d0887"
            ],
            [
             0.1111111111111111,
             "#46039f"
            ],
            [
             0.2222222222222222,
             "#7201a8"
            ],
            [
             0.3333333333333333,
             "#9c179e"
            ],
            [
             0.4444444444444444,
             "#bd3786"
            ],
            [
             0.5555555555555556,
             "#d8576b"
            ],
            [
             0.6666666666666666,
             "#ed7953"
            ],
            [
             0.7777777777777778,
             "#fb9f3a"
            ],
            [
             0.8888888888888888,
             "#fdca26"
            ],
            [
             1,
             "#f0f921"
            ]
           ],
           "sequentialminus": [
            [
             0,
             "#0d0887"
            ],
            [
             0.1111111111111111,
             "#46039f"
            ],
            [
             0.2222222222222222,
             "#7201a8"
            ],
            [
             0.3333333333333333,
             "#9c179e"
            ],
            [
             0.4444444444444444,
             "#bd3786"
            ],
            [
             0.5555555555555556,
             "#d8576b"
            ],
            [
             0.6666666666666666,
             "#ed7953"
            ],
            [
             0.7777777777777778,
             "#fb9f3a"
            ],
            [
             0.8888888888888888,
             "#fdca26"
            ],
            [
             1,
             "#f0f921"
            ]
           ]
          },
          "colorway": [
           "#636efa",
           "#EF553B",
           "#00cc96",
           "#ab63fa",
           "#FFA15A",
           "#19d3f3",
           "#FF6692",
           "#B6E880",
           "#FF97FF",
           "#FECB52"
          ],
          "font": {
           "color": "#2a3f5f"
          },
          "geo": {
           "bgcolor": "white",
           "lakecolor": "white",
           "landcolor": "#E5ECF6",
           "showlakes": true,
           "showland": true,
           "subunitcolor": "white"
          },
          "hoverlabel": {
           "align": "left"
          },
          "hovermode": "closest",
          "mapbox": {
           "style": "light"
          },
          "paper_bgcolor": "white",
          "plot_bgcolor": "#E5ECF6",
          "polar": {
           "angularaxis": {
            "gridcolor": "white",
            "linecolor": "white",
            "ticks": ""
           },
           "bgcolor": "#E5ECF6",
           "radialaxis": {
            "gridcolor": "white",
            "linecolor": "white",
            "ticks": ""
           }
          },
          "scene": {
           "xaxis": {
            "backgroundcolor": "#E5ECF6",
            "gridcolor": "white",
            "gridwidth": 2,
            "linecolor": "white",
            "showbackground": true,
            "ticks": "",
            "zerolinecolor": "white"
           },
           "yaxis": {
            "backgroundcolor": "#E5ECF6",
            "gridcolor": "white",
            "gridwidth": 2,
            "linecolor": "white",
            "showbackground": true,
            "ticks": "",
            "zerolinecolor": "white"
           },
           "zaxis": {
            "backgroundcolor": "#E5ECF6",
            "gridcolor": "white",
            "gridwidth": 2,
            "linecolor": "white",
            "showbackground": true,
            "ticks": "",
            "zerolinecolor": "white"
           }
          },
          "shapedefaults": {
           "line": {
            "color": "#2a3f5f"
           }
          },
          "ternary": {
           "aaxis": {
            "gridcolor": "white",
            "linecolor": "white",
            "ticks": ""
           },
           "baxis": {
            "gridcolor": "white",
            "linecolor": "white",
            "ticks": ""
           },
           "bgcolor": "#E5ECF6",
           "caxis": {
            "gridcolor": "white",
            "linecolor": "white",
            "ticks": ""
           }
          },
          "title": {
           "x": 0.05
          },
          "xaxis": {
           "automargin": true,
           "gridcolor": "white",
           "linecolor": "white",
           "ticks": "",
           "title": {
            "standoff": 15
           },
           "zerolinecolor": "white",
           "zerolinewidth": 2
          },
          "yaxis": {
           "automargin": true,
           "gridcolor": "white",
           "linecolor": "white",
           "ticks": "",
           "title": {
            "standoff": 15
           },
           "zerolinecolor": "white",
           "zerolinewidth": 2
          }
         }
        }
       }
      }
     },
     "metadata": {},
     "output_type": "display_data"
    }
   ],
   "source": [
    "fig = px.pie(pokemons_gb, values='AvgAttack', names='Generation')\n",
    "\n",
    "fig.show()"
   ]
  },
  {
   "attachments": {},
   "cell_type": "markdown",
   "metadata": {},
   "source": [
    "E o Plotly também torna mais simples criar uma variação do gráfico de pizza, conhecido como Donut!"
   ]
  },
  {
   "cell_type": "code",
   "execution_count": 36,
   "metadata": {},
   "outputs": [
    {
     "data": {
      "application/vnd.plotly.v1+json": {
       "config": {
        "plotlyServerURL": "https://plot.ly"
       },
       "data": [
        {
         "domain": {
          "x": [
           0,
           1
          ],
          "y": [
           0,
           1
          ]
         },
         "hole": 0.45,
         "hovertemplate": "Generation=%{label}<br>AvgAttack=%{value}<extra></extra>",
         "labels": [
          1,
          2,
          3,
          4,
          5,
          6,
          7,
          8
         ],
         "legendgroup": "",
         "name": "",
         "showlegend": true,
         "type": "pie",
         "values": [
          72.91390728476821,
          68.26,
          74.02173913043478,
          79.99137931034483,
          82.4478527607362,
          95.8796992481203,
          86.11206896551724,
          83.41739130434783
         ]
        }
       ],
       "layout": {
        "legend": {
         "tracegroupgap": 0
        },
        "margin": {
         "t": 60
        },
        "template": {
         "data": {
          "bar": [
           {
            "error_x": {
             "color": "#2a3f5f"
            },
            "error_y": {
             "color": "#2a3f5f"
            },
            "marker": {
             "line": {
              "color": "#E5ECF6",
              "width": 0.5
             },
             "pattern": {
              "fillmode": "overlay",
              "size": 10,
              "solidity": 0.2
             }
            },
            "type": "bar"
           }
          ],
          "barpolar": [
           {
            "marker": {
             "line": {
              "color": "#E5ECF6",
              "width": 0.5
             },
             "pattern": {
              "fillmode": "overlay",
              "size": 10,
              "solidity": 0.2
             }
            },
            "type": "barpolar"
           }
          ],
          "carpet": [
           {
            "aaxis": {
             "endlinecolor": "#2a3f5f",
             "gridcolor": "white",
             "linecolor": "white",
             "minorgridcolor": "white",
             "startlinecolor": "#2a3f5f"
            },
            "baxis": {
             "endlinecolor": "#2a3f5f",
             "gridcolor": "white",
             "linecolor": "white",
             "minorgridcolor": "white",
             "startlinecolor": "#2a3f5f"
            },
            "type": "carpet"
           }
          ],
          "choropleth": [
           {
            "colorbar": {
             "outlinewidth": 0,
             "ticks": ""
            },
            "type": "choropleth"
           }
          ],
          "contour": [
           {
            "colorbar": {
             "outlinewidth": 0,
             "ticks": ""
            },
            "colorscale": [
             [
              0,
              "#0d0887"
             ],
             [
              0.1111111111111111,
              "#46039f"
             ],
             [
              0.2222222222222222,
              "#7201a8"
             ],
             [
              0.3333333333333333,
              "#9c179e"
             ],
             [
              0.4444444444444444,
              "#bd3786"
             ],
             [
              0.5555555555555556,
              "#d8576b"
             ],
             [
              0.6666666666666666,
              "#ed7953"
             ],
             [
              0.7777777777777778,
              "#fb9f3a"
             ],
             [
              0.8888888888888888,
              "#fdca26"
             ],
             [
              1,
              "#f0f921"
             ]
            ],
            "type": "contour"
           }
          ],
          "contourcarpet": [
           {
            "colorbar": {
             "outlinewidth": 0,
             "ticks": ""
            },
            "type": "contourcarpet"
           }
          ],
          "heatmap": [
           {
            "colorbar": {
             "outlinewidth": 0,
             "ticks": ""
            },
            "colorscale": [
             [
              0,
              "#0d0887"
             ],
             [
              0.1111111111111111,
              "#46039f"
             ],
             [
              0.2222222222222222,
              "#7201a8"
             ],
             [
              0.3333333333333333,
              "#9c179e"
             ],
             [
              0.4444444444444444,
              "#bd3786"
             ],
             [
              0.5555555555555556,
              "#d8576b"
             ],
             [
              0.6666666666666666,
              "#ed7953"
             ],
             [
              0.7777777777777778,
              "#fb9f3a"
             ],
             [
              0.8888888888888888,
              "#fdca26"
             ],
             [
              1,
              "#f0f921"
             ]
            ],
            "type": "heatmap"
           }
          ],
          "heatmapgl": [
           {
            "colorbar": {
             "outlinewidth": 0,
             "ticks": ""
            },
            "colorscale": [
             [
              0,
              "#0d0887"
             ],
             [
              0.1111111111111111,
              "#46039f"
             ],
             [
              0.2222222222222222,
              "#7201a8"
             ],
             [
              0.3333333333333333,
              "#9c179e"
             ],
             [
              0.4444444444444444,
              "#bd3786"
             ],
             [
              0.5555555555555556,
              "#d8576b"
             ],
             [
              0.6666666666666666,
              "#ed7953"
             ],
             [
              0.7777777777777778,
              "#fb9f3a"
             ],
             [
              0.8888888888888888,
              "#fdca26"
             ],
             [
              1,
              "#f0f921"
             ]
            ],
            "type": "heatmapgl"
           }
          ],
          "histogram": [
           {
            "marker": {
             "pattern": {
              "fillmode": "overlay",
              "size": 10,
              "solidity": 0.2
             }
            },
            "type": "histogram"
           }
          ],
          "histogram2d": [
           {
            "colorbar": {
             "outlinewidth": 0,
             "ticks": ""
            },
            "colorscale": [
             [
              0,
              "#0d0887"
             ],
             [
              0.1111111111111111,
              "#46039f"
             ],
             [
              0.2222222222222222,
              "#7201a8"
             ],
             [
              0.3333333333333333,
              "#9c179e"
             ],
             [
              0.4444444444444444,
              "#bd3786"
             ],
             [
              0.5555555555555556,
              "#d8576b"
             ],
             [
              0.6666666666666666,
              "#ed7953"
             ],
             [
              0.7777777777777778,
              "#fb9f3a"
             ],
             [
              0.8888888888888888,
              "#fdca26"
             ],
             [
              1,
              "#f0f921"
             ]
            ],
            "type": "histogram2d"
           }
          ],
          "histogram2dcontour": [
           {
            "colorbar": {
             "outlinewidth": 0,
             "ticks": ""
            },
            "colorscale": [
             [
              0,
              "#0d0887"
             ],
             [
              0.1111111111111111,
              "#46039f"
             ],
             [
              0.2222222222222222,
              "#7201a8"
             ],
             [
              0.3333333333333333,
              "#9c179e"
             ],
             [
              0.4444444444444444,
              "#bd3786"
             ],
             [
              0.5555555555555556,
              "#d8576b"
             ],
             [
              0.6666666666666666,
              "#ed7953"
             ],
             [
              0.7777777777777778,
              "#fb9f3a"
             ],
             [
              0.8888888888888888,
              "#fdca26"
             ],
             [
              1,
              "#f0f921"
             ]
            ],
            "type": "histogram2dcontour"
           }
          ],
          "mesh3d": [
           {
            "colorbar": {
             "outlinewidth": 0,
             "ticks": ""
            },
            "type": "mesh3d"
           }
          ],
          "parcoords": [
           {
            "line": {
             "colorbar": {
              "outlinewidth": 0,
              "ticks": ""
             }
            },
            "type": "parcoords"
           }
          ],
          "pie": [
           {
            "automargin": true,
            "type": "pie"
           }
          ],
          "scatter": [
           {
            "fillpattern": {
             "fillmode": "overlay",
             "size": 10,
             "solidity": 0.2
            },
            "type": "scatter"
           }
          ],
          "scatter3d": [
           {
            "line": {
             "colorbar": {
              "outlinewidth": 0,
              "ticks": ""
             }
            },
            "marker": {
             "colorbar": {
              "outlinewidth": 0,
              "ticks": ""
             }
            },
            "type": "scatter3d"
           }
          ],
          "scattercarpet": [
           {
            "marker": {
             "colorbar": {
              "outlinewidth": 0,
              "ticks": ""
             }
            },
            "type": "scattercarpet"
           }
          ],
          "scattergeo": [
           {
            "marker": {
             "colorbar": {
              "outlinewidth": 0,
              "ticks": ""
             }
            },
            "type": "scattergeo"
           }
          ],
          "scattergl": [
           {
            "marker": {
             "colorbar": {
              "outlinewidth": 0,
              "ticks": ""
             }
            },
            "type": "scattergl"
           }
          ],
          "scattermapbox": [
           {
            "marker": {
             "colorbar": {
              "outlinewidth": 0,
              "ticks": ""
             }
            },
            "type": "scattermapbox"
           }
          ],
          "scatterpolar": [
           {
            "marker": {
             "colorbar": {
              "outlinewidth": 0,
              "ticks": ""
             }
            },
            "type": "scatterpolar"
           }
          ],
          "scatterpolargl": [
           {
            "marker": {
             "colorbar": {
              "outlinewidth": 0,
              "ticks": ""
             }
            },
            "type": "scatterpolargl"
           }
          ],
          "scatterternary": [
           {
            "marker": {
             "colorbar": {
              "outlinewidth": 0,
              "ticks": ""
             }
            },
            "type": "scatterternary"
           }
          ],
          "surface": [
           {
            "colorbar": {
             "outlinewidth": 0,
             "ticks": ""
            },
            "colorscale": [
             [
              0,
              "#0d0887"
             ],
             [
              0.1111111111111111,
              "#46039f"
             ],
             [
              0.2222222222222222,
              "#7201a8"
             ],
             [
              0.3333333333333333,
              "#9c179e"
             ],
             [
              0.4444444444444444,
              "#bd3786"
             ],
             [
              0.5555555555555556,
              "#d8576b"
             ],
             [
              0.6666666666666666,
              "#ed7953"
             ],
             [
              0.7777777777777778,
              "#fb9f3a"
             ],
             [
              0.8888888888888888,
              "#fdca26"
             ],
             [
              1,
              "#f0f921"
             ]
            ],
            "type": "surface"
           }
          ],
          "table": [
           {
            "cells": {
             "fill": {
              "color": "#EBF0F8"
             },
             "line": {
              "color": "white"
             }
            },
            "header": {
             "fill": {
              "color": "#C8D4E3"
             },
             "line": {
              "color": "white"
             }
            },
            "type": "table"
           }
          ]
         },
         "layout": {
          "annotationdefaults": {
           "arrowcolor": "#2a3f5f",
           "arrowhead": 0,
           "arrowwidth": 1
          },
          "autotypenumbers": "strict",
          "coloraxis": {
           "colorbar": {
            "outlinewidth": 0,
            "ticks": ""
           }
          },
          "colorscale": {
           "diverging": [
            [
             0,
             "#8e0152"
            ],
            [
             0.1,
             "#c51b7d"
            ],
            [
             0.2,
             "#de77ae"
            ],
            [
             0.3,
             "#f1b6da"
            ],
            [
             0.4,
             "#fde0ef"
            ],
            [
             0.5,
             "#f7f7f7"
            ],
            [
             0.6,
             "#e6f5d0"
            ],
            [
             0.7,
             "#b8e186"
            ],
            [
             0.8,
             "#7fbc41"
            ],
            [
             0.9,
             "#4d9221"
            ],
            [
             1,
             "#276419"
            ]
           ],
           "sequential": [
            [
             0,
             "#0d0887"
            ],
            [
             0.1111111111111111,
             "#46039f"
            ],
            [
             0.2222222222222222,
             "#7201a8"
            ],
            [
             0.3333333333333333,
             "#9c179e"
            ],
            [
             0.4444444444444444,
             "#bd3786"
            ],
            [
             0.5555555555555556,
             "#d8576b"
            ],
            [
             0.6666666666666666,
             "#ed7953"
            ],
            [
             0.7777777777777778,
             "#fb9f3a"
            ],
            [
             0.8888888888888888,
             "#fdca26"
            ],
            [
             1,
             "#f0f921"
            ]
           ],
           "sequentialminus": [
            [
             0,
             "#0d0887"
            ],
            [
             0.1111111111111111,
             "#46039f"
            ],
            [
             0.2222222222222222,
             "#7201a8"
            ],
            [
             0.3333333333333333,
             "#9c179e"
            ],
            [
             0.4444444444444444,
             "#bd3786"
            ],
            [
             0.5555555555555556,
             "#d8576b"
            ],
            [
             0.6666666666666666,
             "#ed7953"
            ],
            [
             0.7777777777777778,
             "#fb9f3a"
            ],
            [
             0.8888888888888888,
             "#fdca26"
            ],
            [
             1,
             "#f0f921"
            ]
           ]
          },
          "colorway": [
           "#636efa",
           "#EF553B",
           "#00cc96",
           "#ab63fa",
           "#FFA15A",
           "#19d3f3",
           "#FF6692",
           "#B6E880",
           "#FF97FF",
           "#FECB52"
          ],
          "font": {
           "color": "#2a3f5f"
          },
          "geo": {
           "bgcolor": "white",
           "lakecolor": "white",
           "landcolor": "#E5ECF6",
           "showlakes": true,
           "showland": true,
           "subunitcolor": "white"
          },
          "hoverlabel": {
           "align": "left"
          },
          "hovermode": "closest",
          "mapbox": {
           "style": "light"
          },
          "paper_bgcolor": "white",
          "plot_bgcolor": "#E5ECF6",
          "polar": {
           "angularaxis": {
            "gridcolor": "white",
            "linecolor": "white",
            "ticks": ""
           },
           "bgcolor": "#E5ECF6",
           "radialaxis": {
            "gridcolor": "white",
            "linecolor": "white",
            "ticks": ""
           }
          },
          "scene": {
           "xaxis": {
            "backgroundcolor": "#E5ECF6",
            "gridcolor": "white",
            "gridwidth": 2,
            "linecolor": "white",
            "showbackground": true,
            "ticks": "",
            "zerolinecolor": "white"
           },
           "yaxis": {
            "backgroundcolor": "#E5ECF6",
            "gridcolor": "white",
            "gridwidth": 2,
            "linecolor": "white",
            "showbackground": true,
            "ticks": "",
            "zerolinecolor": "white"
           },
           "zaxis": {
            "backgroundcolor": "#E5ECF6",
            "gridcolor": "white",
            "gridwidth": 2,
            "linecolor": "white",
            "showbackground": true,
            "ticks": "",
            "zerolinecolor": "white"
           }
          },
          "shapedefaults": {
           "line": {
            "color": "#2a3f5f"
           }
          },
          "ternary": {
           "aaxis": {
            "gridcolor": "white",
            "linecolor": "white",
            "ticks": ""
           },
           "baxis": {
            "gridcolor": "white",
            "linecolor": "white",
            "ticks": ""
           },
           "bgcolor": "#E5ECF6",
           "caxis": {
            "gridcolor": "white",
            "linecolor": "white",
            "ticks": ""
           }
          },
          "title": {
           "x": 0.05
          },
          "xaxis": {
           "automargin": true,
           "gridcolor": "white",
           "linecolor": "white",
           "ticks": "",
           "title": {
            "standoff": 15
           },
           "zerolinecolor": "white",
           "zerolinewidth": 2
          },
          "yaxis": {
           "automargin": true,
           "gridcolor": "white",
           "linecolor": "white",
           "ticks": "",
           "title": {
            "standoff": 15
           },
           "zerolinecolor": "white",
           "zerolinewidth": 2
          }
         }
        }
       }
      }
     },
     "metadata": {},
     "output_type": "display_data"
    }
   ],
   "source": [
    "fig = px.pie(pokemons_gb, values='AvgAttack', names='Generation', hole=0.45)\n",
    "\n",
    "fig.show()"
   ]
  },
  {
   "attachments": {},
   "cell_type": "markdown",
   "metadata": {},
   "source": [
    "## Conclusão"
   ]
  },
  {
   "attachments": {},
   "cell_type": "markdown",
   "metadata": {},
   "source": [
    "E assim, encerramos a parte básica desta aula. Aprendemos como criar os principais tipos de gráficos usando a biblioteca Plotly.\n",
    "\n",
    "Aprendemos também que a Plotly permite a criação de gráficos interativos, além de ter uma melhor resolução para apresentar os gráficos. Na última aula do nosso curso, iremos abordar a configuração dos gráficos.\n",
    "\n",
    "Se você quiser aprender mais sobre Plotly, o link da documentação é este [aqui](https://plotly.com/python/).\n"
   ]
  }
 ],
 "metadata": {
  "kernelspec": {
   "display_name": "venv",
   "language": "python",
   "name": "python3"
  },
  "language_info": {
   "codemirror_mode": {
    "name": "ipython",
    "version": 3
   },
   "file_extension": ".py",
   "mimetype": "text/x-python",
   "name": "python",
   "nbconvert_exporter": "python",
   "pygments_lexer": "ipython3",
   "version": "3.9.6"
  },
  "orig_nbformat": 4
 },
 "nbformat": 4,
 "nbformat_minor": 2
}
