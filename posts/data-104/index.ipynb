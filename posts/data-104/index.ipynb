{
 "cells": [
  {
   "cell_type": "raw",
   "metadata": {},
   "source": [
    "---\n",
    "title: \"[VDP] Aula 04 - Prática Aulas 2 e 3\"\n",
    "author: \"Walter R. Paixão-Côrtes\"\n",
    "date: \"2023-02-06\"\n",
    "categories: [Visualização, Python, Notebooks, Jupyter, Prática]\n",
    "image: /library/concepts/programming_practice.jpg\n",
    "toc: true\n",
    "description: Consolidando o Aprendizado das Aulas 2 e 3\n",
    "---"
   ]
  },
  {
   "attachments": {},
   "cell_type": "markdown",
   "metadata": {},
   "source": [
    "Olá Cientista de Dados!\n",
    "\n",
    "Nesta aula vamos por em prática o que aprendemos até aqui:\n",
    "\n",
    "- Criar um notebook no Google Colab\n",
    "- Salvar no Google Drive\n",
    "- Fazer upload de arquivos de dados no sistema de arquivos local do notebook\n",
    "- Fazer upload de arquivos de dados no Google Drive e montar seu Google Drive no notebook\n",
    "- Criar script para carregar dados\n",
    "- Transformar os dados carregados do formato largo para o formato longo."
   ]
  },
  {
   "attachments": {},
   "cell_type": "markdown",
   "metadata": {},
   "source": [
    "## Criando um notebook no Google Colab"
   ]
  },
  {
   "attachments": {},
   "cell_type": "markdown",
   "metadata": {},
   "source": [
    "Siga o passo a passo para criar um novo notebook no Google Colab."
   ]
  },
  {
   "attachments": {},
   "cell_type": "markdown",
   "metadata": {},
   "source": [
    "![Acessar o site do Google Colab: https://colab.research.google.com/](colab-001.png)\n",
    "\n",
    "\n",
    "![Clicar em \"Novo notebook\". Será aberta uma nova página com um notebook em branco](colab-002.png)\n",
    "\n",
    "\n",
    "![Para modificar o nome do notebook para \"PrimeiroNotebook\", clicar em \"Arquivo > Salvar uma cópia no Drive\" no menu superior. Na janela que aparece, modificar o nome para \"PrimeiroNotebook\" e clicar em \"OK\".](colab-003.png)\n"
   ]
  },
  {
   "attachments": {},
   "cell_type": "markdown",
   "metadata": {},
   "source": [
    "Agora, vamos aprender como escrever um código em Python e executa-lo no notebook."
   ]
  },
  {
   "attachments": {},
   "cell_type": "markdown",
   "metadata": {},
   "source": [
    "![No notebook aberto, criar uma nova célula clicando no botão \"+ Célula\" acima do menu superior ou utilizando o atalho \"Ctrl+M B\" no teclado](colab-004.png)\n",
    "\n",
    "\n",
    "![Na nova célula, digitar o código `print('Hello World')`](colab-005.png)\n",
    "\n",
    "\n",
    "![Clicar em \"Executar\" na célula, ou utilizar o atalho \"Shift+Enter\". O resultado \"Hello World\" será exibido abaixo da célula](colab-006.png)\n"
   ]
  },
  {
   "attachments": {},
   "cell_type": "markdown",
   "metadata": {},
   "source": [
    "\n",
    "Dessa forma, o notebook \"PrimeiroNotebook\" estará pronto para ser utilizado. Lembrando que o Google Colab é uma ferramenta gratuita e muito útil para desenvolvimento de projetos de análise de dados, aprendizado de máquina e outros projetos de programação em Python."
   ]
  },
  {
   "attachments": {},
   "cell_type": "markdown",
   "metadata": {},
   "source": [
    "## Carregando dados em um notebook"
   ]
  },
  {
   "attachments": {},
   "cell_type": "markdown",
   "metadata": {},
   "source": [
    "Agora que temos nosso notebook inicial, vamos exercitar o princípio mais básico de toda a visualização de dados: a carga dos dados que serão visualizados.\n",
    "\n",
    "Para fazer isso, precisamos primeiro de uma fonte de dados. Uma fonte de dados pode ter formatos bem comuns e conhecidos como CSV, Excel e JSON, até outros formatos especializados como Feather, Arrow, Parquet,...Quanto à origem da fonte de dados, elas podem ser um arquivo local no seu computador ou no servidor onde a rotina executará ou até mesmo uma URL. Por questões de performance, o arquivo local tem uma certa preferência.\n",
    "\n",
    "Quando utilizamos o Google Colab, o nosso notebook tem duas possibilidades para poder ler arquivos de forma local: \n",
    "- os arquivos podem ser armazenados no sistema de arquivos local do notebook, que é temporário, ou \n",
    "- podemos deixar nossos arquivos no Google Drive e conectamos o Google Drive ao nosso notebook \n",
    " \n",
    "Vamos ver esses dois cenários em detalhe nas próximas seções."
   ]
  },
  {
   "attachments": {},
   "cell_type": "markdown",
   "metadata": {},
   "source": [
    "### Disponibilizando arquivos a partir do sistema local do notebook"
   ]
  },
  {
   "attachments": {},
   "cell_type": "markdown",
   "metadata": {},
   "source": [
    "\n",
    "O sistema de arquivos local do notebook (*session storage*) é uma maneira muito conveniente de manter de forma local alguns arquivos de dados que precisamos trabalhar. Em termos de performance, seria a mesma coisa que executar tudo no seu próprio computador. O incoveninente desse método é que o session storage é destruído quando fechamos o notebook ou ele fica inativo por muito tempo. Ele é recriado quando reabrimos o notebook, mas vem vazio.\n",
    "\n",
    ":::{.callout-tip}\n",
    "Para o restante das aulas, todos os arquivos de dados que iremos utilizar podem ser encontrados em: [LabEduc datasets](https://github.com/labeduc/datasets)\n",
    "\n",
    "Você pode fazer o download ou tentar carregar direto da URL (veremos como fazer isso mais adiante).\n",
    ":::\n",
    "\n",
    "\n",
    "Para utilizar o session storage, siga os passos abaixo:"
   ]
  },
  {
   "attachments": {},
   "cell_type": "markdown",
   "metadata": {},
   "source": [
    "![Clique no botão Arquivos que fica à esquerda](load-file-001.png)"
   ]
  },
  {
   "attachments": {},
   "cell_type": "markdown",
   "metadata": {},
   "source": [
    "![Clique no botão de fazer upload de arquivos](load-file-002.png)"
   ]
  },
  {
   "attachments": {},
   "cell_type": "markdown",
   "metadata": {},
   "source": [
    "![Selecione o arquivo que deseja subir e clique no botão Abrir](load-file-003.png)"
   ]
  },
  {
   "attachments": {},
   "cell_type": "markdown",
   "metadata": {},
   "source": [
    "![Após o término do upload, você deve ver o arquivo no seu sistema de arquivos do notebook](load-file-004.png)"
   ]
  },
  {
   "attachments": {},
   "cell_type": "markdown",
   "metadata": {},
   "source": [
    "E pronto, temos um arquivo pronto para ser utilizado!"
   ]
  },
  {
   "attachments": {},
   "cell_type": "markdown",
   "metadata": {},
   "source": [
    "### Disponibilizando arquivos a partir do Google Drive"
   ]
  },
  {
   "attachments": {},
   "cell_type": "markdown",
   "metadata": {},
   "source": [
    "Outra maneira maneira mais permanente utilizar o session storage é montar nosso Google Drive como uma pasta da session storage.\n",
    "\n",
    "Para fazer isso, vamos colocar no inicio do nosso notebook uma célula com o código abaixo:"
   ]
  },
  {
   "attachments": {},
   "cell_type": "markdown",
   "metadata": {},
   "source": [
    "```python\n",
    "from google.colab import drive\n",
    "drive.mount('/content/drive')\n",
    "```"
   ]
  },
  {
   "attachments": {},
   "cell_type": "markdown",
   "metadata": {},
   "source": [
    "Vamos executar a célula e o Google Colab deve pedir permissão para se conectar ao Drive e no final emitir a mensagem abaixo. Além disso, na lista de pastas, à esquerda, devemos ver a pasta que indicamos que receberia o mount do Google Drive."
   ]
  },
  {
   "attachments": {},
   "cell_type": "markdown",
   "metadata": {},
   "source": [
    "![Google Drive mapeado após a execução do código](map-drive-002.png)"
   ]
  },
  {
   "attachments": {},
   "cell_type": "markdown",
   "metadata": {},
   "source": [
    "A próxima etapa é realizar a carga de um arquivo com nosso script, para que possamos realizar nossas análises."
   ]
  },
  {
   "attachments": {},
   "cell_type": "markdown",
   "metadata": {},
   "source": [
    "### Carregar um arquivo de dados no notebook"
   ]
  },
  {
   "attachments": {},
   "cell_type": "markdown",
   "metadata": {},
   "source": [
    "Para esse etapa, vamos utilizar a função nativa do Python para abrir arquivos **open** em conjunto com a biblioteca **csv** para carregar o conteúdo do nosso arquivo em um objeto que será posteriormente utilizado pela biblioteca de visualização. Você pode copiar e colar o código abaixo em seu próprio notebook e testar. Não esqueça que antes, você deve fazer o upload do arquivo `pokemons.csv` no sistema de arquivos local do notebook. "
   ]
  },
  {
   "cell_type": "code",
   "execution_count": 1,
   "metadata": {},
   "outputs": [],
   "source": [
    "import csv                                                   # importa a biblioteca nativa csv\n",
    "\n",
    "pokemons = []                                                # cria a lista de pokemons vazia\n",
    "with open('pokemons.csv', 'r', encoding='utf-8') as arquivo: # abre o arquivo\n",
    "  dados = csv.DictReader(arquivo)                            # utiliza a biblioteca csv para ler cada linha do arquivo \n",
    "                                                             # e carrega-la em um dicionário de dados\n",
    "  for pokemon in dados:                                      # percorre o arquivo linha a linha\n",
    "    pokemons.append(pokemon)                                 # adiciona cada linha na nova lista"
   ]
  },
  {
   "attachments": {},
   "cell_type": "markdown",
   "metadata": {},
   "source": [
    "Para verificar se o conteúdo foi carregado na lista de pokemons, podemos executar o código abaixo:"
   ]
  },
  {
   "cell_type": "code",
   "execution_count": 2,
   "metadata": {},
   "outputs": [
    {
     "name": "stdout",
     "output_type": "stream",
     "text": [
      "{'Number': '1', 'Name': 'Bulbasaur', 'Type 1': 'Grass', 'Type 2': 'Poison', 'Abilities': \"['Chlorophyll', 'Overgrow']\", 'HP': '45', 'Att': '49', 'Def': '49', 'Spa': '65', 'Spd': '65', 'Spe': '45', 'BST': '318', 'Mean': '53.0', 'Standard Deviation': '8.640987597877146', 'Generation': '1.0', 'Experience type': 'Medium Slow', 'Experience to level 100': '1059860', 'Final Evolution': '0.0', 'Catch Rate': '45', 'Legendary': '0.0', 'Mega Evolution': '0.0', 'Alolan Form': '0.0', 'Galarian Form': '0.0', 'Against Normal': '1.0', 'Against Fire': '2.0', 'Against Water': '0.5', 'Against Electric': '0.5', 'Against Grass': '0.25', 'Against Ice': '2.0', 'Against Fighting': '0.5', 'Against Poison': '1.0', 'Against Ground': '1.0', 'Against Flying': '2.0', 'Against Psychic': '2.0', 'Against Bug': '1.0', 'Against Rock': '1.0', 'Against Ghost': '1.0', 'Against Dragon': '1.0', 'Against Dark': '1.0', 'Against Steel': '1.0', 'Against Fairy': '0.5', 'Height': '0.7', 'Weight': '6.9', 'BMI': '14.1'}\n",
      "{'Number': '2', 'Name': 'Ivysaur', 'Type 1': 'Grass', 'Type 2': 'Poison', 'Abilities': \"['Chlorophyll', 'Overgrow']\", 'HP': '60', 'Att': '62', 'Def': '63', 'Spa': '80', 'Spd': '80', 'Spe': '60', 'BST': '405', 'Mean': '67.5', 'Standard Deviation': '8.902246907382429', 'Generation': '1.0', 'Experience type': 'Medium Slow', 'Experience to level 100': '1059860', 'Final Evolution': '0.0', 'Catch Rate': '45', 'Legendary': '0.0', 'Mega Evolution': '0.0', 'Alolan Form': '0.0', 'Galarian Form': '0.0', 'Against Normal': '1.0', 'Against Fire': '2.0', 'Against Water': '0.5', 'Against Electric': '0.5', 'Against Grass': '0.25', 'Against Ice': '2.0', 'Against Fighting': '0.5', 'Against Poison': '1.0', 'Against Ground': '1.0', 'Against Flying': '2.0', 'Against Psychic': '2.0', 'Against Bug': '1.0', 'Against Rock': '1.0', 'Against Ghost': '1.0', 'Against Dragon': '1.0', 'Against Dark': '1.0', 'Against Steel': '1.0', 'Against Fairy': '0.5', 'Height': '1.0', 'Weight': '13.0', 'BMI': '13.0'}\n"
     ]
    }
   ],
   "source": [
    "for indice in range(0, 2):    # executa um loop dos dois primeiros elementos do array\n",
    "  print(pokemons[indice])     # imprime o elemento"
   ]
  },
  {
   "attachments": {},
   "cell_type": "markdown",
   "metadata": {},
   "source": [
    "Podemos ver no resultado da célula de código que aquele `for` imprimiu o conteúdo de duas linhas do arquivo de pokemons."
   ]
  },
  {
   "attachments": {},
   "cell_type": "markdown",
   "metadata": {},
   "source": [
    "## Transformando do formato Largo para o Longo"
   ]
  },
  {
   "attachments": {},
   "cell_type": "markdown",
   "metadata": {},
   "source": [
    "Certo, se você chegou até aqui, então:\n",
    "- Criamos um notebook\n",
    "- Demos um nome para ele\n",
    "- Fizemos o upload de um arquivo de dados para o session storage do notebook\n",
    "- Carregamos os dados em uma lista na memória do notebook.\n",
    "\n",
    "O que vem a seguir? Vamos começar a utilizar estes dados."
   ]
  },
  {
   "attachments": {},
   "cell_type": "markdown",
   "metadata": {},
   "source": [
    "### Utilizando os dados na memória"
   ]
  },
  {
   "attachments": {},
   "cell_type": "markdown",
   "metadata": {},
   "source": [
    "\n",
    "Em um cenário real, um Cientista de Dados iniciaria agora a etapa de exploração dos dados. Essa etapa envolve trabalhar com a correlação entre as diversas variáveis contidas nos dados, totalizações de quantidade de registros por qualquer uma dessas variáveis, e, também plotando gráficos.\n",
    "\n",
    "Vamos a um exemplo? Digamos que eu quero totalizar a quantidade pokemons de acordo com seu tipo. Essa totalização poderia ser utilizada para criar um gráfico de barras, mostrando a distribuição dos pokemons entre os tipos, mostrando qual tipo é mais frequente. É importante aqui ressaltar que temos no conjunto de dados duas colunas que especificam o tipo: `Type 1` e `Type 2`.\n",
    "\n",
    "O código para fazer isso está logo abaixo."
   ]
  },
  {
   "cell_type": "code",
   "execution_count": 3,
   "metadata": {},
   "outputs": [
    {
     "name": "stdout",
     "output_type": "stream",
     "text": [
      "{'Tipo': 'Grass', 'Valor': 119}\n",
      "{'Tipo': 'Poison', 'Valor': 77}\n",
      "{'Tipo': 'Fire', 'Valor': 81}\n",
      "{'Tipo': 'Flying', 'Valor': 120}\n",
      "{'Tipo': 'Dragon', 'Valor': 72}\n",
      "{'Tipo': 'Water', 'Valor': 151}\n",
      "{'Tipo': 'Bug', 'Valor': 90}\n",
      "{'Tipo': 'Normal', 'Valor': 124}\n",
      "{'Tipo': 'Dark', 'Valor': 72}\n",
      "{'Tipo': 'Electric', 'Valor': 70}\n",
      "{'Tipo': 'Psychic', 'Valor': 119}\n",
      "{'Tipo': 'Ground', 'Valor': 80}\n",
      "{'Tipo': 'Ice', 'Valor': 56}\n",
      "{'Tipo': 'Steel', 'Valor': 71}\n",
      "{'Tipo': 'Fairy', 'Valor': 63}\n",
      "{'Tipo': 'Fighting', 'Valor': 73}\n",
      "{'Tipo': 'Rock', 'Valor': 74}\n",
      "{'Tipo': 'Ghost', 'Valor': 68}\n"
     ]
    }
   ],
   "source": [
    "tipos_dict = {}\n",
    "for item in pokemons:\n",
    "  if item['Type 1']:\n",
    "      tipos_dict[item['Type 1']] = tipos_dict.get(item['Type 1'], 0) + 1\n",
    "  \n",
    "  if item['Type 2']:\n",
    "      tipos_dict[item['Type 2']] = tipos_dict.get(item['Type 2'], 0) + 1\n",
    "\n",
    "tipos = []\n",
    "for key, value in tipos_dict.items():\n",
    "  tipos.append({\"Tipo\": key, \"Valor\": value})\n",
    "\n",
    "for item in tipos:\n",
    "   print(item)"
   ]
  },
  {
   "attachments": {},
   "cell_type": "markdown",
   "metadata": {},
   "source": [
    "Esse código tem como objetivo contar a quantidade de ocorrências de cada tipo de Pokémon e imprimir os resultados. Ele faz isso utilizando um dicionário (tipos_dict) para armazenar a contagem de cada tipo e uma lista de dicionários (tipos) para armazenar os resultados finais.\n",
    "\n",
    "A primeira parte do código cria um dicionário vazio chamado tipos_dict. Em seguida, itera sobre uma lista de dicionários chamada pokemons. Para cada dicionário na lista, verifica se o valor da chave 'Type 1' e 'Type 2' é diferente de None. Se pelo menos um desses valores existir, a chave correspondente no dicionário tipos_dict é incrementada em 1.\n",
    "\n",
    "A segunda parte do código cria uma lista vazia chamada tipos e itera sobre os pares de chave-valor no dicionário tipos_dict. Para cada par de chave-valor, cria um novo dicionário com as chaves \"Tipo\" e \"Valor\", e adiciona esse dicionário à lista tipos. A última parte é apenas para nosso benefício: ela imprime o conteúdo da lista tipos. \n",
    "\n",
    "Voltando ao nosso cenário real, utilizaríamos a lista tipos para plotar um gráfico, por exemplo. Vamos tentar?"
   ]
  },
  {
   "cell_type": "code",
   "execution_count": 4,
   "metadata": {},
   "outputs": [
    {
     "data": {
      "image/png": "[encoded data removed]",
      "text/plain": [
       "<Figure size 640x480 with 1 Axes>"
      ]
     },
     "metadata": {},
     "output_type": "display_data"
    }
   ],
   "source": [
    "import matplotlib.pyplot as plt\n",
    "\n",
    "# Cria o gráfico de barras\n",
    "for item in tipos:\n",
    "  plt.bar(item['Tipo'], item['Valor'])\n",
    "\n",
    "# Configura o título do gráfico e dos eixos\n",
    "plt.title('Pokemons por Tipo')\n",
    "plt.xlabel('Tipos')\n",
    "plt.ylabel('Número de Pokemons')\n",
    "\n",
    "# Exibe o gráfico na tela\n",
    "plt.show()"
   ]
  },
  {
   "attachments": {},
   "cell_type": "markdown",
   "metadata": {},
   "source": [
    "Olha só, conseguimos! Temos claramente um problema de formatação ocorrendo (o eixo do X está pequeno e a descrição dos tipos estão se sobrepondo), mas com alguns ajustes é um resultado correto. Mas ainda existem alguns problemas que precisam ser discutidos."
   ]
  },
  {
   "attachments": {},
   "cell_type": "markdown",
   "metadata": {},
   "source": [
    "### Transformando o formato dos dados"
   ]
  },
  {
   "attachments": {},
   "cell_type": "markdown",
   "metadata": {},
   "source": [
    "O nosso script, embora correto, sob o ponto de vista de Cientistas de Dados, deixa um pouco a desejar sob o ponto de vista da engenharia de software. Por exemplo, utilizamos muito mais memória que o necessário para realizar a totalização, porque tinhamos que analisar o registro completo que tem mais de 50 colunas, mesmo que precisassemos apenas de duas. Para obter os dados que funcionassem com a visualização, tivemos que fazer duas transformações. E ainda, na parte onde fazemos o plot do gráfico, tivemos que recorrer a um `for loop` para conseguir adicionar todas a barras no gráfico.\n",
    "\n",
    "E esses problema ocorrem porque os dados acima estão no formato largo. Quando estamos iniciando, isso talvez não pareça um grande problema, mas conforme a complexidade das nossas análises aumenta, utilização de memória, redução da quantidade leitura/escrita e a otimização do código se tornarão mais e mais importantes.\n",
    "\n",
    "Para resolver isso, podemos transformar os nossos dados para o formato longo. Vamos ver como podemos fazer isso no nosso código."
   ]
  },
  {
   "cell_type": "code",
   "execution_count": 5,
   "metadata": {},
   "outputs": [],
   "source": [
    "import csv\n",
    "\n",
    "pokemons = {}\n",
    "with open('pokemons.csv', 'r', encoding='utf-8') as arquivo:\n",
    "  dados = csv.DictReader(arquivo)\n",
    "\n",
    "  for pokemon in dados:\n",
    "    for key, value in pokemon.items():\n",
    "      pokemons.setdefault(key,[]).append(value)"
   ]
  },
  {
   "attachments": {},
   "cell_type": "markdown",
   "metadata": {},
   "source": [
    "Este trecho de código em Python é bem parecido com o nosso código inicial, no sentido em que usamos as mesmas bibliotecas e executamos os mesmos primeiros passos. A diferença começa no primeiro `for loop`.\n",
    "\n",
    "O `for loop` que segue itera sobre os dados do arquivo CSV, que são retornados como um dicionário. Para cada dicionário de dados, o código itera sobre as chaves do dicionário (que correspondem às colunas do arquivo CSV) e adiciona os valores correspondentes à lista correspondente no dicionário pokemons.\n",
    "\n",
    "Por exemplo, se o arquivo CSV tiver uma coluna chamada \"Nome\" contendo os nomes dos Pokémons, o código adicionará cada nome encontrado à lista pokemons[\"Name\"]. Essa abordagem permite armazenar os dados dos Pokémons de forma organizada e fácil de manipular.\n",
    "\n",
    "Ao final da execução desse trecho de código, o dicionário pokemons terá as informações lidas do arquivo CSV. Cada chave do dicionário corresponderá a uma coluna do arquivo CSV, e cada valor corresponderá à lista dos valores encontrados nessa coluna. Por exemplo, se o arquivo CSV tiver uma coluna chamada \"Type 1\", a lista pokemons[\"Type 1\"] conterá os tipos encontrados nessa coluna.\n",
    "\n",
    "Agora vamos ver como iremos contabilizar os tipos neste novo formato e plotar o gráfico."
   ]
  },
  {
   "cell_type": "code",
   "execution_count": 6,
   "metadata": {},
   "outputs": [
    {
     "data": {
      "text/plain": [
       "<Axes: ylabel='count'>"
      ]
     },
     "execution_count": 6,
     "metadata": {},
     "output_type": "execute_result"
    },
    {
     "data": {
      "image/png": "[encoded data removed]",
      "text/plain": [
       "<Figure size 640x480 with 1 Axes>"
      ]
     },
     "metadata": {},
     "output_type": "display_data"
    }
   ],
   "source": [
    "total = { \"Tipo\": list(filter(None,pokemons[\"Type 1\"])) + list(filter(None,pokemons[\"Type 2\"]))}\n",
    "\n",
    "import seaborn as sns\n",
    "sns.countplot(x='Tipo', data=total)"
   ]
  },
  {
   "attachments": {},
   "cell_type": "markdown",
   "metadata": {},
   "source": [
    "Ficou bem mais fácil fazer o plot deste gráfico, não? Temos basicamente o mesmo resultado com menos linhas. E se observarmos bem, no momento que fazemos o processo na primeira linha, acessamos apenas as colunas que estão envolvidas no cálculo."
   ]
  },
  {
   "attachments": {},
   "cell_type": "markdown",
   "metadata": {},
   "source": [
    "## Usando bibliotecas externas para facilitar o trabalho"
   ]
  },
  {
   "attachments": {},
   "cell_type": "markdown",
   "metadata": {},
   "source": [
    "Estamos chegando ao fim desta aula prática, e o aprendizado obtido acredito ter sido bem relevante. Já sabemos como disponibilizar um arquivo de dados para ser consumido pelo script em nosso notebook, aprendemos a formatar esse arquivo em memória para um processamento mais eficiente, e também mostramos rapidamente como utilizar o dado processado para plotar alguns gráficos.\n",
    "\n",
    "Se vocês olharam com atenção ao código que escrevemos, verão que utilizamos muita vezes, no início de cada parte do script o comando `import`. Esse comando é utilizado para deixarmos explicito no script quais bibliotecas externas ao módulo básico da linguagem Python. O objetivo dessas bibliotecas é justamente nos ajudar com a simplificação do código.\n",
    "\n",
    "Ao longo do restante das aulas, iremos utilizar várias bibliotecas como Pandas, Seaborn, MatplotLib e muitas outras. Ao final de cada aula, deixaremos alguns links que os ajudarão a começar a entender melhor cada uma dessas biblioteca.\n",
    "\n",
    "E nesta aula, vamos deixar o link para a documentação do Python, a partir de onde poderemos nos informar sobre várias bibliotecas que usamos cotidianamente como `csv, json, os, sys, logging, ...`.\n",
    "\n",
    ":::{.callout-tip}\n",
    "[Python Docs - Library Reference](https://docs.python.org/3/library/index.html)\n",
    ":::\n",
    "\n"
   ]
  },
  {
   "attachments": {},
   "cell_type": "markdown",
   "metadata": {},
   "source": [
    "### Navegação\n",
    "\n",
    "| [< Anterior](/posts/data-103/index.html) \t| \\| | [Próximo >](/posts/data-105/index.html) \t|\n",
    "|---------- |---|--------:\t|"
   ]
  }
 ],
 "metadata": {
  "kernelspec": {
   "display_name": "Python 3",
   "language": "python",
   "name": "python3"
  },
  "language_info": {
   "codemirror_mode": {
    "name": "ipython",
    "version": 3
   },
   "file_extension": ".py",
   "mimetype": "text/x-python",
   "name": "python",
   "nbconvert_exporter": "python",
   "pygments_lexer": "ipython3",
   "version": "3.9.6"
  },
  "orig_nbformat": 4,
  "vscode": {
   "interpreter": {
    "hash": "17336511cfc22a5efe85086c85928a6ae78a60927f6cd52b73de8a45ee5e21f9"
   }
  }
 },
 "nbformat": 4,
 "nbformat_minor": 2
}
