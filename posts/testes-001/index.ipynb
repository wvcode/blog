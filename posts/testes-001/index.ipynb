{
 "cells": [
  {
   "cell_type": "raw",
   "metadata": {
    "vscode": {
     "languageId": "raw"
    }
   },
   "source": [
    "---\n",
    "title: \"Teste em Dados - Básico\"\n",
    "author: \"Walter R. Paixão-Côrtes\"\n",
    "date: \"2024-10-28\"\n",
    "categories: [Visualização, Pandas, Teste, ptbr]\n",
    "image: /library/concepts/programming_practice.jpg\n",
    "toc: true\n",
    "description: Verificando e Garantindo a Saúde dos seus Dados\n",
    "---"
   ]
  },
  {
   "cell_type": "markdown",
   "metadata": {
    "id": "E6F8Ln-oIRaT"
   },
   "source": [
    "Olá Devs!\n",
    "\n",
    "\n",
    "Quando trabalhamos com dados, é necessário que, além de desenvolver todas as transformações necessárias para que os dados estejam prontos para serem utilizados na execução de análises, tenhamos uma maneira de validar a correção e validade dos dados segundo as regras que foram determinadas.\n",
    "\n",
    "Uma maneira automatizada e eficiente de fazer isso é através da criação de testes unitários que validem os dados de acordo com as regras estabelecidas.\n",
    "\n",
    "Vamos começar???"
   ]
  },
  {
   "cell_type": "markdown",
   "metadata": {},
   "source": [
    "## Obtendo os Dados"
   ]
  },
  {
   "cell_type": "markdown",
   "metadata": {},
   "source": [
    "\n",
    "Para este artigo, vamos carregar dados que apresentam alguns erros e vamos construir os testes unitários para valida-los."
   ]
  },
  {
   "cell_type": "code",
   "execution_count": 1,
   "metadata": {
    "id": "DrurFPNHB6xi"
   },
   "outputs": [],
   "source": [
    "import pandas as pd"
   ]
  },
  {
   "cell_type": "code",
   "execution_count": 2,
   "metadata": {
    "id": "f6SKjLnJCPPh"
   },
   "outputs": [],
   "source": [
    "df = pd.read_csv('https://media.githubusercontent.com/media/labeduc/datasets/main/testes/problematic_data.csv')"
   ]
  },
  {
   "cell_type": "markdown",
   "metadata": {
    "id": "c_ifdAggKN1z"
   },
   "source": [
    "Aqui podemos ver uma amostra dos dados:"
   ]
  },
  {
   "cell_type": "code",
   "execution_count": 3,
   "metadata": {
    "colab": {
     "base_uri": "https://localhost:8080/",
     "height": 206
    },
    "id": "RoSOAPH8CaWl",
    "outputId": "b746efec-3b97-46f7-a87c-f3f44b1c5c35"
   },
   "outputs": [
    {
     "data": {
      "text/html": [
       "<div>\n",
       "<style scoped>\n",
       "    .dataframe tbody tr th:only-of-type {\n",
       "        vertical-align: middle;\n",
       "    }\n",
       "\n",
       "    .dataframe tbody tr th {\n",
       "        vertical-align: top;\n",
       "    }\n",
       "\n",
       "    .dataframe thead th {\n",
       "        text-align: right;\n",
       "    }\n",
       "</style>\n",
       "<table border=\"1\" class=\"dataframe\">\n",
       "  <thead>\n",
       "    <tr style=\"text-align: right;\">\n",
       "      <th></th>\n",
       "      <th>Unnamed: 0</th>\n",
       "      <th>ID</th>\n",
       "      <th>Name</th>\n",
       "      <th>Age</th>\n",
       "      <th>Salary</th>\n",
       "      <th>Join_Date</th>\n",
       "      <th>Category</th>\n",
       "    </tr>\n",
       "  </thead>\n",
       "  <tbody>\n",
       "    <tr>\n",
       "      <th>16</th>\n",
       "      <td>16</td>\n",
       "      <td>17</td>\n",
       "      <td>Name17</td>\n",
       "      <td>56</td>\n",
       "      <td>4700</td>\n",
       "      <td>2023-05-31</td>\n",
       "      <td>Category C</td>\n",
       "    </tr>\n",
       "    <tr>\n",
       "      <th>12</th>\n",
       "      <td>12</td>\n",
       "      <td>13</td>\n",
       "      <td>Name13</td>\n",
       "      <td>74</td>\n",
       "      <td>4300</td>\n",
       "      <td>2023-01-31</td>\n",
       "      <td>Category B</td>\n",
       "    </tr>\n",
       "    <tr>\n",
       "      <th>42</th>\n",
       "      <td>42</td>\n",
       "      <td>43</td>\n",
       "      <td>Name43</td>\n",
       "      <td>74</td>\n",
       "      <td>7300</td>\n",
       "      <td>2025-07-31</td>\n",
       "      <td>Category A</td>\n",
       "    </tr>\n",
       "    <tr>\n",
       "      <th>13</th>\n",
       "      <td>13</td>\n",
       "      <td>14</td>\n",
       "      <td>Name14</td>\n",
       "      <td>35</td>\n",
       "      <td>4400</td>\n",
       "      <td>2023-02-28</td>\n",
       "      <td>Category B</td>\n",
       "    </tr>\n",
       "    <tr>\n",
       "      <th>17</th>\n",
       "      <td>17</td>\n",
       "      <td>18</td>\n",
       "      <td>Name18</td>\n",
       "      <td>35</td>\n",
       "      <td>4800</td>\n",
       "      <td>2023-06-30</td>\n",
       "      <td>Category A</td>\n",
       "    </tr>\n",
       "  </tbody>\n",
       "</table>\n",
       "</div>"
      ],
      "text/plain": [
       "    Unnamed: 0  ID    Name Age  Salary   Join_Date    Category\n",
       "16          16  17  Name17  56    4700  2023-05-31  Category C\n",
       "12          12  13  Name13  74    4300  2023-01-31  Category B\n",
       "42          42  43  Name43  74    7300  2025-07-31  Category A\n",
       "13          13  14  Name14  35    4400  2023-02-28  Category B\n",
       "17          17  18  Name18  35    4800  2023-06-30  Category A"
      ]
     },
     "execution_count": 3,
     "metadata": {},
     "output_type": "execute_result"
    }
   ],
   "source": [
    "df.sample(5)"
   ]
  },
  {
   "cell_type": "markdown",
   "metadata": {
    "id": "Y942HHdfKuoY"
   },
   "source": [
    "Para iniciar o nosso processo de validação, precisamos realizar a primeira inspeção nos dados. Para isso, a biblioteca Pandas nos dá algumas funções bem interessantes.\n"
   ]
  },
  {
   "cell_type": "code",
   "execution_count": 4,
   "metadata": {},
   "outputs": [
    {
     "name": "stdout",
     "output_type": "stream",
     "text": [
      "<class 'pandas.core.frame.DataFrame'>\n",
      "RangeIndex: 50 entries, 0 to 49\n",
      "Data columns (total 7 columns):\n",
      " #   Column      Non-Null Count  Dtype \n",
      "---  ------      --------------  ----- \n",
      " 0   Unnamed: 0  50 non-null     int64 \n",
      " 1   ID          50 non-null     int64 \n",
      " 2   Name        40 non-null     object\n",
      " 3   Age         50 non-null     object\n",
      " 4   Salary      50 non-null     int64 \n",
      " 5   Join_Date   50 non-null     object\n",
      " 6   Category    50 non-null     object\n",
      "dtypes: int64(3), object(4)\n",
      "memory usage: 2.9+ KB\n"
     ]
    }
   ],
   "source": [
    "# A função info() exibe informações sobre o DataFrame, \n",
    "# incluindo o tipo de dados de cada coluna, \n",
    "# valores não nulos e uso de memória.\n",
    "df.info()"
   ]
  },
  {
   "cell_type": "markdown",
   "metadata": {},
   "source": [
    "Podemos perceber 2 situações que demandam maior verificação:\n",
    "\n",
    "- A coluna Name tem 10 valores nulos, o que pode ser um problema para as regra de negócio;\n",
    "- A coluna Age (idade) tem todas as linhas preenchidas, mas seu tipo, em vez de ser um valor do tipo inteiro, é do tipo objeto, o que infica possível problema nos dados.\n",
    "\n",
    "O que a função info não nos mostra é a presença de valores duplicados, ou até mesmo uma linha inteira duplicada. Vamos então aprender como conseguir essas informações."
   ]
  },
  {
   "cell_type": "markdown",
   "metadata": {
    "id": "3gz9kizd4bIS"
   },
   "source": [
    "# Tipos de Validação"
   ]
  },
  {
   "cell_type": "markdown",
   "metadata": {
    "id": "sifJ0EPnWa0n"
   },
   "source": [
    "## Dataset está vazio"
   ]
  },
  {
   "cell_type": "markdown",
   "metadata": {},
   "source": [
    "A proprieadade `empty` do DataFrame nos informa se o DataFrame está vazio ou não. Se o DataFrame estiver vazio, a propriedade retornará `True`, caso contrário, retornará `False`."
   ]
  },
  {
   "cell_type": "code",
   "execution_count": 5,
   "metadata": {
    "colab": {
     "base_uri": "https://localhost:8080/"
    },
    "id": "BMAUdFP7Wl-9",
    "outputId": "ef76d60a-df62-4187-a42a-2d235e65ffea"
   },
   "outputs": [
    {
     "name": "stdout",
     "output_type": "stream",
     "text": [
      "Não está vazio\n"
     ]
    }
   ],
   "source": [
    "vazio = df.empty\n",
    "\n",
    "print(f\"{'' if vazio else 'Não'} está vazio\")"
   ]
  },
  {
   "cell_type": "markdown",
   "metadata": {
    "id": "LMOewvxIXhIL"
   },
   "source": [
    "## Coluna está vazia"
   ]
  },
  {
   "cell_type": "markdown",
   "metadata": {},
   "source": [
    "A propriedade `empty` do DataFrame nos informa se a coluna está vazia ou não. Se a coluna estiver vazia, a propriedade retornará `True`, caso contrário, retornará `False`."
   ]
  },
  {
   "cell_type": "code",
   "execution_count": 6,
   "metadata": {
    "colab": {
     "base_uri": "https://localhost:8080/"
    },
    "id": "bd5RrYEjXk66",
    "outputId": "c2b39c5f-6682-4ad0-97cf-637cb484ee12"
   },
   "outputs": [
    {
     "name": "stdout",
     "output_type": "stream",
     "text": [
      " Coluna Name Não está vazia\n"
     ]
    }
   ],
   "source": [
    "vazio = df['Name'].empty\n",
    "\n",
    "print(f\" Coluna Name {'' if vazio else 'Não'} está vazia\")"
   ]
  },
  {
   "cell_type": "markdown",
   "metadata": {
    "id": "w-Nc2m8hBW8x"
   },
   "source": [
    "## Verificando Valores Nulos"
   ]
  },
  {
   "cell_type": "markdown",
   "metadata": {
    "id": "nOemQuvq4unY"
   },
   "source": [
    "Este teste visa descobrir se existem dados faltando em nosso dataset. Podemos testar de maneira geral ou coluna a coluna.\n",
    "Para isso, utilizamos a função `isnull()` que retorna `True` para valores nulos e `False` para valores não nulos."
   ]
  },
  {
   "cell_type": "code",
   "execution_count": 7,
   "metadata": {
    "colab": {
     "base_uri": "https://localhost:8080/"
    },
    "id": "bDsB9mMKCzJb",
    "outputId": "78c614f7-5697-4792-ef36-452f6ea81775"
   },
   "outputs": [
    {
     "name": "stdout",
     "output_type": "stream",
     "text": [
      " Existem Valores Nulos.\n"
     ]
    }
   ],
   "source": [
    "# Testando se existe algum valor nulo\n",
    "valores_nulos = df.isnull().values.any()\n",
    "\n",
    "print(f\"{'' if valores_nulos else 'Náo'} Existem Valores Nulos.\")"
   ]
  },
  {
   "cell_type": "code",
   "execution_count": 8,
   "metadata": {
    "colab": {
     "base_uri": "https://localhost:8080/"
    },
    "id": "LwNQGMHXB1lC",
    "outputId": "9e25d2c8-8ffb-44e7-af8a-785da01bb62a"
   },
   "outputs": [
    {
     "name": "stdout",
     "output_type": "stream",
     "text": [
      "A coluna Name tem valores nulos.\n"
     ]
    }
   ],
   "source": [
    "# O teste pode ser feito para uma coluna específica\n",
    "valores_nulos = df['Name'].isnull().values.any()\n",
    "\n",
    "print(f\"A coluna Name {'tem' if valores_nulos else 'não tem'} valores nulos.\")"
   ]
  },
  {
   "cell_type": "code",
   "execution_count": 9,
   "metadata": {
    "colab": {
     "base_uri": "https://localhost:8080/"
    },
    "id": "VufsratTbbWs",
    "outputId": "2acefee9-9cb7-48fb-c52a-58276e8eb0ed"
   },
   "outputs": [
    {
     "name": "stdout",
     "output_type": "stream",
     "text": [
      "A coluna Age não tem valores nulos.\n"
     ]
    }
   ],
   "source": [
    "# O teste pode ser feito para uma coluna específica\n",
    "valores_nulos = df['Age'].isnull().values.any()\n",
    "\n",
    "print(f\"A coluna Age {'tem' if valores_nulos else 'não tem'} valores nulos.\")"
   ]
  },
  {
   "cell_type": "markdown",
   "metadata": {
    "id": "KPh-UC28QCgS"
   },
   "source": [
    "## Verificando os tipos de dados"
   ]
  },
  {
   "cell_type": "markdown",
   "metadata": {
    "id": "P-z32KL3Q1pr"
   },
   "source": [
    "Este teste visa verificar se o tipo de dados de uma coluna em todas as linhas do seu dataset é consistente com o objetivo de uso desta coluna. Por exemplo, vimos nos exemplos de dados, que a coluna Age está identificada com o tipo de dados objeto, o que certamente nos causará problemas se quisermos calcular a média de idade de nosso dataset, pois é um indicativo de que em alguma linha desta coluna, o valor não é numérico. Podemos fazer uma inspeção manual, já que estamos falando apenas de 50 linhas, mas vamos aprender a fazer isso de maneira automatizada."
   ]
  },
  {
   "cell_type": "code",
   "execution_count": 10,
   "metadata": {
    "colab": {
     "base_uri": "https://localhost:8080/"
    },
    "id": "MwXGDJcPRvfH",
    "outputId": "a36e40c0-cec2-4132-c130-ae593fc7b7f3"
   },
   "outputs": [
    {
     "name": "stdout",
     "output_type": "stream",
     "text": [
      "A coluna Age não é do tipo numérico.\n"
     ]
    }
   ],
   "source": [
    "# Testando se a coluna Age é do tipo numérico\n",
    "# A função isna() retorna um DataFrame de valores booleanos que indicam se um elemento é um número ou não.\n",
    "eh_numero = df['Age'].isna().values.any()\n",
    "\n",
    "print(f\"A coluna Age {'é' if eh_numero else 'não é'} do tipo numérico.\")"
   ]
  },
  {
   "cell_type": "markdown",
   "metadata": {},
   "source": [
    "Mas que valor é este? Vamos usar outra função para descobrir."
   ]
  },
  {
   "cell_type": "code",
   "execution_count": 11,
   "metadata": {},
   "outputs": [
    {
     "name": "stdout",
     "output_type": "stream",
     "text": [
      " Valores únicos de Age: ['46', '19', '30', '60', '69', '36', '64', '48', '53', '52', '32', '74', '35', '56', '49', 'Unknown', '57', '44', '54', '28', '41', '39', '62', '21', '71', '42', '38', '22', '59', '55']\n"
     ]
    }
   ],
   "source": [
    "# A função unique() retorna uma matriz de valores exclusivos em uma coluna. \n",
    "# A função tolist() converte a matriz em uma lista.\n",
    "print(f\" Valores únicos de Age: {df['Age'].unique().tolist()}\")"
   ]
  },
  {
   "cell_type": "markdown",
   "metadata": {},
   "source": [
    "Ao usar a função `unique()`, podemos descobrir quais são os valores únicos de uma coluna. Se a coluna tiver um tipo de dados numérico, a função retornará uma lista de valores únicos. Se a coluna tiver um tipo de dados não numérico, a função retornará uma lista de strings.\n",
    "Existem uma ou mais linhas com o valor 'Unknown' na coluna Age, o que causa o comportamento que vimos anteriormente. Esse é mais um dos problemas a serem corrigidos, que o nosso teste unitário vai nos ajudar a identificar."
   ]
  },
  {
   "cell_type": "markdown",
   "metadata": {
    "id": "lDDcuComTlbO"
   },
   "source": [
    "# Outros Tipos de Validação"
   ]
  },
  {
   "cell_type": "markdown",
   "metadata": {
    "id": "qRCB__I6VjM8"
   },
   "source": [
    "Veja abaixo alguns outros tipos de validação comum em testes de dados"
   ]
  },
  {
   "cell_type": "markdown",
   "metadata": {
    "id": "i3HolyAtpdlm"
   },
   "source": [
    "## Teste contra valores"
   ]
  },
  {
   "cell_type": "markdown",
   "metadata": {
    "id": "t2CyCP4QqHzD"
   },
   "source": [
    "Neste tipo de teste, verificamos se as colunas do nosso dataset respeitam, por exemplo, valores mínimos, máximos, conjunto especificos e limitados de opções, se obedecem a uma lógica dependente de outras colunas, etc."
   ]
  },
  {
   "cell_type": "markdown",
   "metadata": {
    "id": "-T3VKKaJqb5s"
   },
   "source": [
    "### Apenas maiores de 40 anos"
   ]
  },
  {
   "cell_type": "code",
   "execution_count": 12,
   "metadata": {
    "colab": {
     "base_uri": "https://localhost:8080/"
    },
    "id": "nOnJfnDPqlbE",
    "outputId": "2b5a007d-cec3-4554-ad3f-93a0cb21e0e0"
   },
   "outputs": [
    {
     "name": "stdout",
     "output_type": "stream",
     "text": [
      "Temos menores de quarenta\n"
     ]
    }
   ],
   "source": [
    "# Primeiro vamos corrigir os unknown\n",
    "\n",
    "df['Age'] = (df['Age'].apply(lambda x: 40 if x == 'Unknown' else x)).astype(int)\n",
    "\n",
    "\n",
    "# Agora fazemos a validação\n",
    "\n",
    "menores_de_quarenta = df.query('Age < 40').empty\n",
    "\n",
    "print(f\"{'Não Temos' if menores_de_quarenta else 'Temos'} menores de quarenta\")"
   ]
  },
  {
   "cell_type": "markdown",
   "metadata": {
    "id": "v-Lz0Vnn0CVT"
   },
   "source": [
    "### Verifica contra Lista de Valores\n"
   ]
  },
  {
   "cell_type": "code",
   "execution_count": 13,
   "metadata": {
    "colab": {
     "base_uri": "https://localhost:8080/"
    },
    "id": "hj7yC7HG5dYG",
    "outputId": "ee152e76-f5d5-44ea-933c-4fcd6152b8de"
   },
   "outputs": [
    {
     "name": "stdout",
     "output_type": "stream",
     "text": [
      "Tem categorias invalidas.\n"
     ]
    }
   ],
   "source": [
    "#\n",
    "categoria_invalida = (df['Category'].apply(lambda x: x not in ['Category A', 'Category B', 'Category C'])).empty\n",
    "\n",
    "print(f\"{'Não tem' if categoria_invalida else 'Tem'} categorias invalidas.\")"
   ]
  },
  {
   "cell_type": "markdown",
   "metadata": {
    "id": "eNSrEQfwEzw6"
   },
   "source": [
    "## EDA"
   ]
  },
  {
   "cell_type": "markdown",
   "metadata": {},
   "source": [
    "`EDA` é a sigla para `Exploratory Data Analysis`, que em português significa `Análise Exploratória de Dados`. Este tipo de teste visa verificar se os dados estão de acordo com o esperado, ou seja, se estão dentro de um intervalo esperado, se não há outliers, se a distribuição dos dados está correta, etc. Ou seja, é uma análise mais aprofundada dos dados, que fazem validações mais complexas e de cunho estatístico."
   ]
  },
  {
   "cell_type": "markdown",
   "metadata": {},
   "source": [
    "Para nos ajudar com essa análise, podemos utilizar a função `describe()` do Pandas, que nos dá um resumo estatístico dos dados."
   ]
  },
  {
   "cell_type": "code",
   "execution_count": 14,
   "metadata": {},
   "outputs": [
    {
     "data": {
      "text/html": [
       "<div>\n",
       "<style scoped>\n",
       "    .dataframe tbody tr th:only-of-type {\n",
       "        vertical-align: middle;\n",
       "    }\n",
       "\n",
       "    .dataframe tbody tr th {\n",
       "        vertical-align: top;\n",
       "    }\n",
       "\n",
       "    .dataframe thead th {\n",
       "        text-align: right;\n",
       "    }\n",
       "</style>\n",
       "<table border=\"1\" class=\"dataframe\">\n",
       "  <thead>\n",
       "    <tr style=\"text-align: right;\">\n",
       "      <th></th>\n",
       "      <th>Unnamed: 0</th>\n",
       "      <th>ID</th>\n",
       "      <th>Age</th>\n",
       "      <th>Salary</th>\n",
       "    </tr>\n",
       "  </thead>\n",
       "  <tbody>\n",
       "    <tr>\n",
       "      <th>count</th>\n",
       "      <td>50.00000</td>\n",
       "      <td>50.00000</td>\n",
       "      <td>50.000000</td>\n",
       "      <td>50.000000</td>\n",
       "    </tr>\n",
       "    <tr>\n",
       "      <th>mean</th>\n",
       "      <td>24.50000</td>\n",
       "      <td>25.50000</td>\n",
       "      <td>46.320000</td>\n",
       "      <td>5310.000000</td>\n",
       "    </tr>\n",
       "    <tr>\n",
       "      <th>std</th>\n",
       "      <td>14.57738</td>\n",
       "      <td>14.57738</td>\n",
       "      <td>14.618188</td>\n",
       "      <td>1653.351574</td>\n",
       "    </tr>\n",
       "    <tr>\n",
       "      <th>min</th>\n",
       "      <td>0.00000</td>\n",
       "      <td>1.00000</td>\n",
       "      <td>19.000000</td>\n",
       "      <td>2000.000000</td>\n",
       "    </tr>\n",
       "    <tr>\n",
       "      <th>25%</th>\n",
       "      <td>12.25000</td>\n",
       "      <td>13.25000</td>\n",
       "      <td>36.500000</td>\n",
       "      <td>4025.000000</td>\n",
       "    </tr>\n",
       "    <tr>\n",
       "      <th>50%</th>\n",
       "      <td>24.50000</td>\n",
       "      <td>25.50000</td>\n",
       "      <td>46.000000</td>\n",
       "      <td>5350.000000</td>\n",
       "    </tr>\n",
       "    <tr>\n",
       "      <th>75%</th>\n",
       "      <td>36.75000</td>\n",
       "      <td>37.75000</td>\n",
       "      <td>56.000000</td>\n",
       "      <td>6675.000000</td>\n",
       "    </tr>\n",
       "    <tr>\n",
       "      <th>max</th>\n",
       "      <td>49.00000</td>\n",
       "      <td>50.00000</td>\n",
       "      <td>74.000000</td>\n",
       "      <td>8000.000000</td>\n",
       "    </tr>\n",
       "  </tbody>\n",
       "</table>\n",
       "</div>"
      ],
      "text/plain": [
       "       Unnamed: 0        ID        Age       Salary\n",
       "count    50.00000  50.00000  50.000000    50.000000\n",
       "mean     24.50000  25.50000  46.320000  5310.000000\n",
       "std      14.57738  14.57738  14.618188  1653.351574\n",
       "min       0.00000   1.00000  19.000000  2000.000000\n",
       "25%      12.25000  13.25000  36.500000  4025.000000\n",
       "50%      24.50000  25.50000  46.000000  5350.000000\n",
       "75%      36.75000  37.75000  56.000000  6675.000000\n",
       "max      49.00000  50.00000  74.000000  8000.000000"
      ]
     },
     "execution_count": 14,
     "metadata": {},
     "output_type": "execute_result"
    }
   ],
   "source": [
    "df.describe()"
   ]
  },
  {
   "cell_type": "markdown",
   "metadata": {},
   "source": [
    "Como podemos ver, a função `describe()` nos dá um resumo estatístico dos dados numéricos, como a média, desvio padrão, mínimo, máximo, etc. Com essas informações, podemos fazer validações mais complexas, como verificar se a média de idade está dentro de um intervalo esperado, se a distribuição dos dados está correta, etc. Mas, como podemos ver, a coluna Age não está sendo considerada como numérica, o que nos impede de fazer essas validações. Vamos corrigir isso."
   ]
  },
  {
   "cell_type": "code",
   "execution_count": 15,
   "metadata": {},
   "outputs": [],
   "source": [
    "# A correção aplicada foi a substituição dos valores 'Unknown' por 40 e a conversão para inteiro.\n",
    "# Por que 40? Porque é um valor que não altera a média e a mediana dos dados.\n",
    "\n",
    "df['Age'] = df['Age'].apply(lambda x: 40 if x == 'Unknown' else x).astype(int)"
   ]
  },
  {
   "cell_type": "code",
   "execution_count": 16,
   "metadata": {},
   "outputs": [
    {
     "data": {
      "text/html": [
       "<div>\n",
       "<style scoped>\n",
       "    .dataframe tbody tr th:only-of-type {\n",
       "        vertical-align: middle;\n",
       "    }\n",
       "\n",
       "    .dataframe tbody tr th {\n",
       "        vertical-align: top;\n",
       "    }\n",
       "\n",
       "    .dataframe thead th {\n",
       "        text-align: right;\n",
       "    }\n",
       "</style>\n",
       "<table border=\"1\" class=\"dataframe\">\n",
       "  <thead>\n",
       "    <tr style=\"text-align: right;\">\n",
       "      <th></th>\n",
       "      <th>Unnamed: 0</th>\n",
       "      <th>ID</th>\n",
       "      <th>Age</th>\n",
       "      <th>Salary</th>\n",
       "    </tr>\n",
       "  </thead>\n",
       "  <tbody>\n",
       "    <tr>\n",
       "      <th>count</th>\n",
       "      <td>50.00000</td>\n",
       "      <td>50.00000</td>\n",
       "      <td>50.000000</td>\n",
       "      <td>50.000000</td>\n",
       "    </tr>\n",
       "    <tr>\n",
       "      <th>mean</th>\n",
       "      <td>24.50000</td>\n",
       "      <td>25.50000</td>\n",
       "      <td>46.320000</td>\n",
       "      <td>5310.000000</td>\n",
       "    </tr>\n",
       "    <tr>\n",
       "      <th>std</th>\n",
       "      <td>14.57738</td>\n",
       "      <td>14.57738</td>\n",
       "      <td>14.618188</td>\n",
       "      <td>1653.351574</td>\n",
       "    </tr>\n",
       "    <tr>\n",
       "      <th>min</th>\n",
       "      <td>0.00000</td>\n",
       "      <td>1.00000</td>\n",
       "      <td>19.000000</td>\n",
       "      <td>2000.000000</td>\n",
       "    </tr>\n",
       "    <tr>\n",
       "      <th>25%</th>\n",
       "      <td>12.25000</td>\n",
       "      <td>13.25000</td>\n",
       "      <td>36.500000</td>\n",
       "      <td>4025.000000</td>\n",
       "    </tr>\n",
       "    <tr>\n",
       "      <th>50%</th>\n",
       "      <td>24.50000</td>\n",
       "      <td>25.50000</td>\n",
       "      <td>46.000000</td>\n",
       "      <td>5350.000000</td>\n",
       "    </tr>\n",
       "    <tr>\n",
       "      <th>75%</th>\n",
       "      <td>36.75000</td>\n",
       "      <td>37.75000</td>\n",
       "      <td>56.000000</td>\n",
       "      <td>6675.000000</td>\n",
       "    </tr>\n",
       "    <tr>\n",
       "      <th>max</th>\n",
       "      <td>49.00000</td>\n",
       "      <td>50.00000</td>\n",
       "      <td>74.000000</td>\n",
       "      <td>8000.000000</td>\n",
       "    </tr>\n",
       "  </tbody>\n",
       "</table>\n",
       "</div>"
      ],
      "text/plain": [
       "       Unnamed: 0        ID        Age       Salary\n",
       "count    50.00000  50.00000  50.000000    50.000000\n",
       "mean     24.50000  25.50000  46.320000  5310.000000\n",
       "std      14.57738  14.57738  14.618188  1653.351574\n",
       "min       0.00000   1.00000  19.000000  2000.000000\n",
       "25%      12.25000  13.25000  36.500000  4025.000000\n",
       "50%      24.50000  25.50000  46.000000  5350.000000\n",
       "75%      36.75000  37.75000  56.000000  6675.000000\n",
       "max      49.00000  50.00000  74.000000  8000.000000"
      ]
     },
     "execution_count": 16,
     "metadata": {},
     "output_type": "execute_result"
    }
   ],
   "source": [
    "df.describe()"
   ]
  },
  {
   "cell_type": "markdown",
   "metadata": {},
   "source": [
    "Bom, agora que temos isso resolvido, vamos ao próximo passo: rodar o EDA. O EDA pode ser feito manualmente, mas vamos aprender a fazer isso de maneira automatizada. Para essa análise mais automatizada, vamos usar três ferramentas: `jupyter-summarytools`, `sweetviz` e `dtale`."
   ]
  },
  {
   "cell_type": "markdown",
   "metadata": {},
   "source": [
    "### Jupyter-summarytools"
   ]
  },
  {
   "cell_type": "markdown",
   "metadata": {},
   "source": [
    "É a versão mais bonita do `describe()`. Ele nos dá um resumo estatístico dos dados, mas de uma maneira mais visual e interativa. Para instalar, basta rodar o comando `!pip install jupyter-summarytools` no seu Jupyter Notebook."
   ]
  },
  {
   "cell_type": "code",
   "execution_count": 17,
   "metadata": {
    "id": "mzASSRhXE1V8"
   },
   "outputs": [
    {
     "data": {
      "text/html": [
       "<style type=\"text/css\">\n",
       "#T_e3ff2 thead>tr>th {\n",
       "  text-align: left;\n",
       "}\n",
       "#T_e3ff2_row0_col0, #T_e3ff2_row1_col0, #T_e3ff2_row2_col0, #T_e3ff2_row3_col0, #T_e3ff2_row4_col0, #T_e3ff2_row5_col0, #T_e3ff2_row6_col0 {\n",
       "  text-align: left;\n",
       "  font-size: 12px;\n",
       "  vertical-align: middle;\n",
       "  width: 5%;\n",
       "  max-width: 50px;\n",
       "  min-width: 20px;\n",
       "}\n",
       "#T_e3ff2_row0_col1, #T_e3ff2_row1_col1, #T_e3ff2_row2_col1, #T_e3ff2_row3_col1, #T_e3ff2_row4_col1, #T_e3ff2_row5_col1, #T_e3ff2_row6_col1 {\n",
       "  text-align: left;\n",
       "  font-size: 12px;\n",
       "  vertical-align: middle;\n",
       "  width: 15%;\n",
       "  max-width: 200px;\n",
       "  min-width: 100px;\n",
       "  word-break: break-word;\n",
       "}\n",
       "#T_e3ff2_row0_col2, #T_e3ff2_row1_col2, #T_e3ff2_row2_col2, #T_e3ff2_row3_col2, #T_e3ff2_row4_col2, #T_e3ff2_row5_col2, #T_e3ff2_row6_col2 {\n",
       "  text-align: left;\n",
       "  font-size: 12px;\n",
       "  vertical-align: middle;\n",
       "  width: 30%;\n",
       "  min-width: 100px;\n",
       "}\n",
       "#T_e3ff2_row0_col3, #T_e3ff2_row1_col3, #T_e3ff2_row2_col3, #T_e3ff2_row3_col3, #T_e3ff2_row4_col3, #T_e3ff2_row5_col3, #T_e3ff2_row6_col3 {\n",
       "  text-align: left;\n",
       "  font-size: 12px;\n",
       "  vertical-align: middle;\n",
       "  width: 25%;\n",
       "  min-width: 100px;\n",
       "}\n",
       "#T_e3ff2_row0_col4, #T_e3ff2_row1_col4, #T_e3ff2_row2_col4, #T_e3ff2_row3_col4, #T_e3ff2_row4_col4, #T_e3ff2_row5_col4, #T_e3ff2_row6_col4 {\n",
       "  text-align: left;\n",
       "  font-size: 12px;\n",
       "  vertical-align: middle;\n",
       "  width: 20%;\n",
       "  min-width: 150px;\n",
       "}\n",
       "#T_e3ff2_row0_col5, #T_e3ff2_row1_col5, #T_e3ff2_row2_col5, #T_e3ff2_row3_col5, #T_e3ff2_row4_col5, #T_e3ff2_row5_col5, #T_e3ff2_row6_col5 {\n",
       "  text-align: left;\n",
       "  font-size: 12px;\n",
       "  vertical-align: middle;\n",
       "  width: 10%;\n",
       "}\n",
       "</style>\n",
       "<table id=\"T_e3ff2\">\n",
       "  <caption><strong>Data Frame Summary</strong><br>df<br>Dimensions: 50 x 7<br>Duplicates: 0</caption>\n",
       "  <thead>\n",
       "    <tr>\n",
       "      <th id=\"T_e3ff2_level0_col0\" class=\"col_heading level0 col0\" >No</th>\n",
       "      <th id=\"T_e3ff2_level0_col1\" class=\"col_heading level0 col1\" >Variable</th>\n",
       "      <th id=\"T_e3ff2_level0_col2\" class=\"col_heading level0 col2\" >Stats / Values</th>\n",
       "      <th id=\"T_e3ff2_level0_col3\" class=\"col_heading level0 col3\" >Freqs / (% of Valid)</th>\n",
       "      <th id=\"T_e3ff2_level0_col4\" class=\"col_heading level0 col4\" >Graph</th>\n",
       "      <th id=\"T_e3ff2_level0_col5\" class=\"col_heading level0 col5\" >Missing</th>\n",
       "    </tr>\n",
       "  </thead>\n",
       "  <tbody>\n",
       "    <tr>\n",
       "      <td id=\"T_e3ff2_row0_col0\" class=\"data row0 col0\" >1</td>\n",
       "      <td id=\"T_e3ff2_row0_col1\" class=\"data row0 col1\" ><strong>Unnamed: 0</strong><br>[int64]</td>\n",
       "      <td id=\"T_e3ff2_row0_col2\" class=\"data row0 col2\" >Mean (sd) : 24.5 (14.6)<br>min < med < max:<br>0.0 < 24.5 < 49.0<br>IQR (CV) : 24.5 (1.7)</td>\n",
       "      <td id=\"T_e3ff2_row0_col3\" class=\"data row0 col3\" >50 distinct values</td>\n",
       "      <td id=\"T_e3ff2_row0_col4\" class=\"data row0 col4\" ><img src = \"data:image/png;base64, iVBORw0KGgoAAAANSUhEUgAAAKoAAABGCAYAAABc8A97AAAAOXRFWHRTb2Z0d2FyZQBNYXRwbG90bGliIHZlcnNpb24zLjkuMiwgaHR0cHM6Ly9tYXRwbG90bGliLm9yZy8hTgPZAAAACXBIWXMAAA9hAAAPYQGoP6dpAAABxklEQVR4nO3XQU7CYBBA4fkbJSCkDSHCAbwBSw7hYT0EJ2DhxhU7EtKUUDEarCcAKTXqS963baczixcSUtM0If132V8fIF3i5rsXUkqDiOhd+f0sIj6vnO06T91Nvbvr/HvTNIdTD8+GmlIaTCaTxzzPx223Ho/H27quH0aj0UuWZR+/OU/dTb37J+Z3u12ZUno6Fet3v6i9PM/Hi8XiUBTFW5vF6/V6vFqt7ufz+fNsNivbzHadp+6m3t11vqqq/nK5HG+3215EXBVqREQURfE2nU5f2ywvy3IQETEcDlvPdp2n7qbe/RPzETE499A/U0IwVCEYqhAMVQiGKgRDFYKhCsFQhWCoQjBUIRiqEAxVCIYqBEMVgqEKwVCFYKhCMFQhGKoQDFUIhioEQxWCoQrBUIVgqEIwVCEYqhAMVQiGKgRDFYKhCsFQhWCoQjBUIRiqEAxVCIYqBEMVgqEKwVCFYKhCMFQhGKoQDFUIhioEQxWCoQrBUIVgqEIwVCEYqhAMVQiGKgRDFYKhCsFQhWCoQjBUIRiqEAxVCIYqBEMVgqEK4eaSl6qq6rf98H6/70dE1HXd32w2d785T91Nvbvr/CV9fQGSljnmc7n3zQAAAABJRU5ErkJggg==\"></img></td>\n",
       "      <td id=\"T_e3ff2_row0_col5\" class=\"data row0 col5\" >0<br>(0.0%)</td>\n",
       "    </tr>\n",
       "    <tr>\n",
       "      <td id=\"T_e3ff2_row1_col0\" class=\"data row1 col0\" >2</td>\n",
       "      <td id=\"T_e3ff2_row1_col1\" class=\"data row1 col1\" ><strong>ID</strong><br>[int64]</td>\n",
       "      <td id=\"T_e3ff2_row1_col2\" class=\"data row1 col2\" >Mean (sd) : 25.5 (14.6)<br>min < med < max:<br>1.0 < 25.5 < 50.0<br>IQR (CV) : 24.5 (1.7)</td>\n",
       "      <td id=\"T_e3ff2_row1_col3\" class=\"data row1 col3\" >50 distinct values</td>\n",
       "      <td id=\"T_e3ff2_row1_col4\" class=\"data row1 col4\" ><img src = \"data:image/png;base64, iVBORw0KGgoAAAANSUhEUgAAAKoAAABGCAYAAABc8A97AAAAOXRFWHRTb2Z0d2FyZQBNYXRwbG90bGliIHZlcnNpb24zLjkuMiwgaHR0cHM6Ly9tYXRwbG90bGliLm9yZy8hTgPZAAAACXBIWXMAAA9hAAAPYQGoP6dpAAABxklEQVR4nO3XQU7CYBBA4fkbJSCkDSHCAbwBSw7hYT0EJ2DhxhU7EtKUUDEarCcAKTXqS963baczixcSUtM0If132V8fIF3i5rsXUkqDiOhd+f0sIj6vnO06T91Nvbvr/HvTNIdTD8+GmlIaTCaTxzzPx223Ho/H27quH0aj0UuWZR+/OU/dTb37J+Z3u12ZUno6Fet3v6i9PM/Hi8XiUBTFW5vF6/V6vFqt7ufz+fNsNivbzHadp+6m3t11vqqq/nK5HG+3215EXBVqREQURfE2nU5f2ywvy3IQETEcDlvPdp2n7qbe/RPzETE499A/U0IwVCEYqhAMVQiGKgRDFYKhCsFQhWCoQjBUIRiqEAxVCIYqBEMVgqEKwVCFYKhCMFQhGKoQDFUIhioEQxWCoQrBUIVgqEIwVCEYqhAMVQiGKgRDFYKhCsFQhWCoQjBUIRiqEAxVCIYqBEMVgqEKwVCFYKhCMFQhGKoQDFUIhioEQxWCoQrBUIVgqEIwVCEYqhAMVQiGKgRDFYKhCsFQhWCoQjBUIRiqEAxVCIYqBEMVgqEK4eaSl6qq6rf98H6/70dE1HXd32w2d785T91Nvbvr/CV9fQGSljnmc7n3zQAAAABJRU5ErkJggg==\"></img></td>\n",
       "      <td id=\"T_e3ff2_row1_col5\" class=\"data row1 col5\" >0<br>(0.0%)</td>\n",
       "    </tr>\n",
       "    <tr>\n",
       "      <td id=\"T_e3ff2_row2_col0\" class=\"data row2 col0\" >3</td>\n",
       "      <td id=\"T_e3ff2_row2_col1\" class=\"data row2 col1\" ><strong>Name</strong><br>[object]</td>\n",
       "      <td id=\"T_e3ff2_row2_col2\" class=\"data row2 col2\" >1. nan<br>2. Name1<br>3. Name38<br>4. Name28<br>5. Name29<br>6. Name31<br>7. Name32<br>8. Name33<br>9. Name34<br>10. Name36<br>11. other</td>\n",
       "      <td id=\"T_e3ff2_row2_col3\" class=\"data row2 col3\" >10 (20.0%)<br>1 (2.0%)<br>1 (2.0%)<br>1 (2.0%)<br>1 (2.0%)<br>1 (2.0%)<br>1 (2.0%)<br>1 (2.0%)<br>1 (2.0%)<br>1 (2.0%)<br>31 (62.0%)</td>\n",
       "      <td id=\"T_e3ff2_row2_col4\" class=\"data row2 col4\" ><img src = \"data:image/png;base64, iVBORw0KGgoAAAANSUhEUgAAAJsAAAD+CAYAAAAtWHdlAAAAOXRFWHRTb2Z0d2FyZQBNYXRwbG90bGliIHZlcnNpb24zLjkuMiwgaHR0cHM6Ly9tYXRwbG90bGliLm9yZy8hTgPZAAAACXBIWXMAAA9hAAAPYQGoP6dpAAADuklEQVR4nO3cQUrjYACG4b9DEd20FKGH6SHmsHOI3KZIs1Bx01mog7r3zWCeZ+cqRV5SE/7PzfV6HVD4tfQHYD3ERkZsZMRGRmxkxEZGbGTERkZsZDZjjLsxxs1C13+5Xq9PC12b2Pb+/v73brc7LHHxeZ4fNpvNH8Gtw3a32x1Op9PTfr9/Li98uVxup2k6nM/nmzGG2FZgO8YY+/3++Xg8Pi5w/bsFrslCPCCQERsZsZERGxmxkREbGbGRERsZsZERGxmxkREbGbGRERuZ7RivZ8vqCy9xTZa1nef5YZqmw1jgbNk8zw9jjJf6uizDBoHMxr/MovL1zuZOw7f5tK6yduI7/XpfV51Op6e36Jb6+40f7t+66u1naye+jZe6ZMRGRmxkxEZGbGTERkZsZMRGRmxkxEZGbGTERkZsZBYbvLA+HwcvBih8K8fCyRi8kHFnI2PwQsbghYzBCxkvdcmIjYzYyIiNjNjIiI2M2MiIjYzYyIiNjNjIiI2M2MgYvJAxeCHjWDgZgxcyHhDI+BolY11FxrqKjHUVGQ8IZMRGRmxkxEZGbGTERkZsZMRGRmxkxEZGbGTERkZsZKyryFhXkXEsnIx1FRl3NjIGL2QMXsgYvJDxUpeM2MiIjYzYyIiNjNjIiI2M2MiIjYzYyIiNjNjIiI2MwQsZgxcyjoWTMXgh485GxuCFjMELGYMXMl7qkhEbGbGRERsZsZERGxmxkREbGbGRERsZsZERGxmxkREbGesqMtZVZGwQyFhXkXFnI2NdRca6iox1FRkvdcmIjYzYyIiNjNjIiI2M2MiIjYzYyIiNjNjIiI2M2MgYvJAxeCHjWDgZgxcy7mxkDF7IGLyQMXgh46UuGbGRERsZsZERGxmxkREbGbGRERsZsZERGxmxkREbGYMXMgYvZBwLJ2PwQsYDAhlfo2Ssq8hYV5GxriLjAYGM2MiIjYzYyIiNjNjIiI2M2MiIjYzYyIiNjNjIiI2MdRUZ6yoyjoWTsa4i485GxuCFjMELGYMXMl7qkhEbGbGRERsZsZERGxmxkREbGbGRERsZsZERGxmxkTF4IWPwQsaxcDIGL2S+3tnorebb5NPghd6aRkbb98HLhx0CkcvlcjtN0+F8Pt+MMX5+bGO8Dl6Ox+Pj0h9mpVYzMvJSl4zYyIiNjNjIiI2M2MiIjYzYyIiNjNjIiI2M2MiIjYzBy4LW9nv/OHhZzVGX/8maRkaOhS9vNcfCDV7IeEAgIzYyYiMjNjJiIyM2MmIjIzYyYiPzF4xg33yOeCIqAAAAAElFTkSuQmCC\"></img></td>\n",
       "      <td id=\"T_e3ff2_row2_col5\" class=\"data row2 col5\" >10<br>(20.0%)</td>\n",
       "    </tr>\n",
       "    <tr>\n",
       "      <td id=\"T_e3ff2_row3_col0\" class=\"data row3 col0\" >4</td>\n",
       "      <td id=\"T_e3ff2_row3_col1\" class=\"data row3 col1\" ><strong>Age</strong><br>[int64]</td>\n",
       "      <td id=\"T_e3ff2_row3_col2\" class=\"data row3 col2\" >Mean (sd) : 46.3 (14.6)<br>min < med < max:<br>19.0 < 46.0 < 74.0<br>IQR (CV) : 19.5 (3.2)</td>\n",
       "      <td id=\"T_e3ff2_row3_col3\" class=\"data row3 col3\" >30 distinct values</td>\n",
       "      <td id=\"T_e3ff2_row3_col4\" class=\"data row3 col4\" ><img src = \"data:image/png;base64, iVBORw0KGgoAAAANSUhEUgAAAKoAAABGCAYAAABc8A97AAAAOXRFWHRTb2Z0d2FyZQBNYXRwbG90bGliIHZlcnNpb24zLjkuMiwgaHR0cHM6Ly9tYXRwbG90bGliLm9yZy8hTgPZAAAACXBIWXMAAA9hAAAPYQGoP6dpAAACf0lEQVR4nO3bQYriQBiG4apJK1EhQQTdeYGBWbj0EHPYOcIsPIE3cCeIREx3MMbMeqDp1qqU5iveZx8rkBe7y8pv27Y1QN/9ePUNAPd4e/UN4H/W2pExZujxEZe2bT+6up++INQesdaOZrPZ7yzLpq6fcTqdjtbaP7HFSqj9MsyybLperz/yPK8evbgoinSz2UwPh8PQGEOoCCvP82o+n787Xj7q9GZ6gs0UJBAqJBAqJBAqJBAqJBAqJBAqJBAqJBAqJBAqJBAqJBAqJBAqJBAqJBAqJBAqJBAqJBAqJBAqJEQ7M8XYcVyiDJWx4/hEGaph7Dg6sYZqjGHsOCZspiAh6m9UH03TDIwxmbXW5XI2Yh0j1E+UZTmo6/rXcrlMkiR5+H9cNmLdI9RPXC6XtzRNx6vVqlosFsdHrmUjFgahfmEymbhuxtiIdYzNFCQQKiQQKiQQKiQQKiQQKiQQKiR8+zuq53udXkeJHmtnt9tt4Lou3IRs5ctQfd/r9DlK9Fm7ruu0aZqfVVX9Nca4vj2FB4Ru5btvVOf3Ojs4SnRee7fbTbfb7fh6vSYO68JN0FbuOkL1eK/T+yjRZe3j8cgR5ouEaoXNFCQQKiQQKiQQKiQQKiQQKiQQKiQwihKAxwSr99FvrNOzhNoxnwlW36PfmKdnCbVjPhOsvke/MU/PEmogLhOsXR39xjg9y2YKEggVEggVEggVEggVEggVEggVEoL+jup5nMck6ZP1+XkFC9X3OI9J0ufq+/MKFqrPcZ4xTJI+W9+fV/AjVNfjPCZJX6Ovz4vNFCQQKiTc9ae/KIr00Q8+n8+pMcaUZZnu9/vxM69XXVv1vn2vv6evf1x2vLqhBkfLAAAAAElFTkSuQmCC\"></img></td>\n",
       "      <td id=\"T_e3ff2_row3_col5\" class=\"data row3 col5\" >0<br>(0.0%)</td>\n",
       "    </tr>\n",
       "    <tr>\n",
       "      <td id=\"T_e3ff2_row4_col0\" class=\"data row4 col0\" >5</td>\n",
       "      <td id=\"T_e3ff2_row4_col1\" class=\"data row4 col1\" ><strong>Salary</strong><br>[int64]</td>\n",
       "      <td id=\"T_e3ff2_row4_col2\" class=\"data row4 col2\" >Mean (sd) : 5310.0 (1653.4)<br>min < med < max:<br>2000.0 < 5350.0 < 8000.0<br>IQR (CV) : 2650.0 (3.2)</td>\n",
       "      <td id=\"T_e3ff2_row4_col3\" class=\"data row4 col3\" >48 distinct values</td>\n",
       "      <td id=\"T_e3ff2_row4_col4\" class=\"data row4 col4\" ><img src = \"data:image/png;base64, iVBORw0KGgoAAAANSUhEUgAAAKoAAABGCAYAAABc8A97AAAAOXRFWHRTb2Z0d2FyZQBNYXRwbG90bGliIHZlcnNpb24zLjkuMiwgaHR0cHM6Ly9tYXRwbG90bGliLm9yZy8hTgPZAAAACXBIWXMAAA9hAAAPYQGoP6dpAAAChUlEQVR4nO3dv4riUBiG8e/oKPEPCSKrnc2WC1tYehF7sXsJW3gFFttMZSeIRMyOGGO22VmmGNTkRJMXnl9/5jsJDwNJMHF5nhvQdK26NwDc46XuDVzjnOuZWbfk8paZXTzGn/I8fyuz0HPfpedWMNv3nPmsv3rcjQ3VOdcbj8c/wjAcFV2bZVknSZKvw+HwtdVqpWXm7/f7nXPuZ9FofPbtM9d3tu85811/67gbG6qZdcMwHC0Wi7coio5FFq7X69Fqtfoyn89/T6fTXdHBcRwHy+VytN1uu2ZWNJjS+/ac6zXb95z5rL/nuJscqpmZRVF0nEwmf4qs2e12PTOzwWBQeO0HvZLrzKzcvquYW3a27zmr4JxfPW4upiCBUCGBUCGBUCGBUCGBUCGBUCGh8fdR65JlWcfMQudc0aXh5XLp1DDXe3aTEeonkiTppGn6fTabtdvtdqEnPGmaBlmWfTsej7/MrNCNb5+5vrObjlA/cTqdXoIg6M/n82PRx4H/HiX2z+dz+5lzfWc3HaFeUeZx4PujxGfPrWp2U3ExBQmECgmECgmECgmECgmECgmECgmECgmECgmECgmECgmECgmECgmECgmECgmECgmECgmECgmECgk3fzNV59uTgXdXQ63z7cnAR7f+o9b59mTgv7t+Ll3n25MBMy6mIIJQIYFQIYFQIYFQIYFQIYFQIYFQIYFQIYFQIYFQIYFQIYFQIYFQIYFQIYFQIYFQIYFQIeGhX+7jA7SoysNC5QO0qNLDQuUDtKjSwz/aywdoUQUupiCBUCGBUCGBUCGBUCGBUCGBUCHhrvuocRwHRf/w4XAIzMySJAk2m03/metVZ6vu23f9PX39BVwWjdGl3F3FAAAAAElFTkSuQmCC\"></img></td>\n",
       "      <td id=\"T_e3ff2_row4_col5\" class=\"data row4 col5\" >0<br>(0.0%)</td>\n",
       "    </tr>\n",
       "    <tr>\n",
       "      <td id=\"T_e3ff2_row5_col0\" class=\"data row5 col0\" >6</td>\n",
       "      <td id=\"T_e3ff2_row5_col1\" class=\"data row5 col1\" ><strong>Join_Date</strong><br>[object]</td>\n",
       "      <td id=\"T_e3ff2_row5_col2\" class=\"data row5 col2\" >1. 2022-01-31<br>2. 2025-02-28<br>3. 2024-04-30<br>4. 2024-05-31<br>5. 2024-06-30<br>6. 2024-07-31<br>7. 2024-08-31<br>8. 2024-09-30<br>9. 2024-10-31<br>10. 2024-11-30<br>11. other</td>\n",
       "      <td id=\"T_e3ff2_row5_col3\" class=\"data row5 col3\" >1 (2.0%)<br>1 (2.0%)<br>1 (2.0%)<br>1 (2.0%)<br>1 (2.0%)<br>1 (2.0%)<br>1 (2.0%)<br>1 (2.0%)<br>1 (2.0%)<br>1 (2.0%)<br>40 (80.0%)</td>\n",
       "      <td id=\"T_e3ff2_row5_col4\" class=\"data row5 col4\" ><img src = \"data:image/png;base64, iVBORw0KGgoAAAANSUhEUgAAAJsAAAD+CAYAAAAtWHdlAAAAOXRFWHRTb2Z0d2FyZQBNYXRwbG90bGliIHZlcnNpb24zLjkuMiwgaHR0cHM6Ly9tYXRwbG90bGliLm9yZy8hTgPZAAAACXBIWXMAAA9hAAAPYQGoP6dpAAADjElEQVR4nO3cQUobcRyG4V8kiG4iIniYHKKH7SFymyDJohY36aK2aDeFQt+ByfPsshAHfJkww/9zc7lcBgo3S18A10NsZMRGRmxkxEZGbGTERkZsZMRGZjMz9zNz+/757XK5vC54PazY9unp6ctut3ucmTmfzy+bzear4Pgfbna73eN+v3/d7/ev79Hd/vWn4B9sZ2YeHh6+v3++X/BaWDkPCGTERkZsZMRGRmxkxEZGbGTERkZsZMRGRmxkxEZGbGTERmY7M3M6ne6WvhDWb3s+n18Oh8Pvk7oz87bwNbFSNghkNv5lFhV3NjLWVWSsq8hYV5HxUpeM2MiIjYzYyIiNjNjIiI2M2MiIjYzYyIiNjNjIiI2MwQsZgxcyjoWTMXgh485GxuCFjMELGYMXMl7qkhEbGbGRERsZsZERGxmxkREbGbGRERsZsZERGxmxkTF4IWPwQsaxcDIGL2Q8IJDxNUrGuoqMdRUZ6yoyHhDIiI2M2MiIjYzYyIiNjNjIiI2M2MiIjYzYyIiNjNjIWFeRsa4i41g4GesqMu5sZAxeyBi8kDF4IeOlLhmxkREbGbGRERsZsZERGxmxkREbGbGRERsZsZERGxmDFzIGL2QcCydj8ELGnY2MwQsZgxcyBi9kvNQlIzYyYiMjNjJiIyM2MmIjIzYyYiMjNjJiIyM2MmIjIzYy1lVkrKvI2CCQsa4i485GxrqKjHUVGesqMl7qkhEbGbGRERsZsZERGxmxkREbGbGRERsZsZERGxmxkTF4IWPwQsaxcDIGL2Tc2cgYvJAxeCFj8ELGS10yYiMjNjJiIyM2MmIjIzYyYiMjNjJiIyM2MmIjIzYyBi9kDF7IOBZOxuCFjAcEMr5GyVhXkbGuImNdRcYDAhmxkREbGbGRERsZsZERGxmxkREbGbGRERsZsZERGxnrKjLWVWQcCydjXUXGnY2MwQsZgxcyBi9kvNQlIzYyYiMjNjJiIyM2MmIjIzYyYiMjNjJiIyM2MmIjY/BCxuCFjGPhZAxeyPx5Z2P9Fvv2+jR4Yf2WHDVtfw1ePuwQWKnT6XR3OBwej8fj7cz0sc38HLw8Pz9/q385i1hs1OSlLhmxkREbGbGRERsZsZERGxmxkREbGbGRERsZsZERGxmDlyuy9N/54+DF/9O9AkuOmhwLvz6LHQs3eCHjAYGM2MiIjYzYyIiNjNjIiI2M2MiIjcwPft/THfATJ2MAAAAASUVORK5CYII=\"></img></td>\n",
       "      <td id=\"T_e3ff2_row5_col5\" class=\"data row5 col5\" >0<br>(0.0%)</td>\n",
       "    </tr>\n",
       "    <tr>\n",
       "      <td id=\"T_e3ff2_row6_col0\" class=\"data row6 col0\" >7</td>\n",
       "      <td id=\"T_e3ff2_row6_col1\" class=\"data row6 col1\" ><strong>Category</strong><br>[object]</td>\n",
       "      <td id=\"T_e3ff2_row6_col2\" class=\"data row6 col2\" >1. Category A<br>2. Category B<br>3. Category C<br>4. No Category</td>\n",
       "      <td id=\"T_e3ff2_row6_col3\" class=\"data row6 col3\" >19 (38.0%)<br>15 (30.0%)<br>13 (26.0%)<br>3 (6.0%)</td>\n",
       "      <td id=\"T_e3ff2_row6_col4\" class=\"data row6 col4\" ><img src = \"data:image/png;base64, iVBORw0KGgoAAAANSUhEUgAAAJsAAABcCAYAAAB5jMeAAAAAOXRFWHRTb2Z0d2FyZQBNYXRwbG90bGliIHZlcnNpb24zLjkuMiwgaHR0cHM6Ly9tYXRwbG90bGliLm9yZy8hTgPZAAAACXBIWXMAAA9hAAAPYQGoP6dpAAAB8klEQVR4nO3bQWrbQACF4VERodlIGIMP40P0sD2EbmOMtUhCNuqi20JMY7/RSN93gjH8yIzQ65ZlKZDwo/YB2A+xEdOVUl5LKS+1DxLyuSzLe+1D7FV/PB5/DcNwqH2QhHmer13X/RZcHf0wDIfz+fw+juNH7cM80+12+zlN0+FyubyUUsRWQV9KKeM4fpxOp7fahwl4rX2APXNBIEZsxIiNGLERIzZixEaM2IgRGzFiI0ZsxIiNGLERIzZi+lL+fn5T+yDPtoffuHb9PM/XaZoOZQef38zzfC2lfNY+x175LJyYzpSPFBcEYlr/G/W32JCm11XWUm1pdl1lLdWe1tdVm39dsyUuCMSIjRixESM2YsRGjNiIERsxYiNGbMSIjRixESM2YsRGjNiIaXbK1+KZ967pKZ9pXltsEIgx5SOmhSebp9dGrH5dZUG1HateV1lQbUsL66rmbsn8m5e6xIiNGLERIzZixEaM2IgRGzFiI0ZsxIiNGLERIzZixEaM2IhZ9bpqrefi/6x+XWVBtR02CMRYVxFz75PN04Vvu2tdZeHEI3y5rrJw4lHuXVet8qZKW7zUJUZsxIiNGLERIzZixEaM2IgRGzFiI0ZsxIiNGLERIzZixEbMl+sqCyce5a51lYUTj2CDQIx1FTEuCMT8AbNY2LkzuLoMAAAAAElFTkSuQmCC\"></img></td>\n",
       "      <td id=\"T_e3ff2_row6_col5\" class=\"data row6 col5\" >0<br>(0.0%)</td>\n",
       "    </tr>\n",
       "  </tbody>\n",
       "</table>\n"
      ],
      "text/plain": [
       "<pandas.io.formats.style.Styler at 0x7f827d98c4a0>"
      ]
     },
     "execution_count": 17,
     "metadata": {},
     "output_type": "execute_result"
    }
   ],
   "source": [
    "from summarytools import dfSummary\n",
    "\n",
    "dfSummary(df)"
   ]
  },
  {
   "cell_type": "markdown",
   "metadata": {},
   "source": [
    "### Sweetviz"
   ]
  },
  {
   "cell_type": "markdown",
   "metadata": {},
   "source": [
    "O Sweetviz é uma ferramenta que nos dá um relatório completo dos dados, com gráficos e tabelas que nos ajudam a entender melhor os dados. Para instalar, basta rodar o comando `!pip install sweetviz` no seu Jupyter Notebook. Ele é muito fácil de usar, basta rodar o comando `sweetviz.analyze([seu_dataframe])` e ele vai gerar um relatório completo dos seus dados."
   ]
  },
  {
   "cell_type": "code",
   "execution_count": null,
   "metadata": {
    "id": "rQMOFJL_G4aU"
   },
   "outputs": [],
   "source": [
    "import sweetviz as sv\n",
    "\n",
    "my_report = sv.analyze(df)\n",
    "\n",
    "# Exibindo o relatório no próprio notebook\n",
    "# Existem outras opções de saída, como HTML e JSON.\n",
    "my_report.show_notebook()"
   ]
  },
  {
   "cell_type": "markdown",
   "metadata": {},
   "source": [
    "### D-Tale"
   ]
  },
  {
   "cell_type": "markdown",
   "metadata": {},
   "source": [
    "O D-Tale é uma ferramenta que nos dá um relatório completo dos dados, com gráficos e tabelas que nos ajudam a entender melhor os dados. Para instalar, basta rodar o comando `!pip install dtale` no seu Jupyter Notebook. Ele é muito fácil de usar, basta rodar o comando `dtale.show([seu_dataframe])` e ele vai gerar um relatório completo dos seus dados."
   ]
  },
  {
   "cell_type": "code",
   "execution_count": null,
   "metadata": {},
   "outputs": [],
   "source": [
    "import dtale\n",
    "\n",
    "import dtale.app as dtale_app\n",
    "\n",
    "dtale_app.USE_COLAB = True\n",
    "\n",
    "dtale.show(df)"
   ]
  },
  {
   "cell_type": "markdown",
   "metadata": {},
   "source": [
    "Infelizmente, não podemos ver o resultado aqui, mas você pode rodar no seu Jupyter Notebook ou Google Colab e ver o resultado."
   ]
  },
  {
   "cell_type": "markdown",
   "metadata": {
    "id": "Muy-R82Upjxy"
   },
   "source": [
    "# Criando os testes unitários"
   ]
  },
  {
   "cell_type": "markdown",
   "metadata": {
    "id": "8wN2SVM-p2BP"
   },
   "source": [
    "Agora que sabemos sobre alguns dos tipos de testes que podemos aplicar aos nossos dados, vamos aprender como organizar isso de uma forma prática.\n",
    "\n",
    "A idéia é englobar os testes aprendidos em funções que podem ser chamadas a qualquer momento, assim a cada alteração que fazemos no dataset, podemos validar o mesmo.\n",
    "\n",
    "Em primeiro lugar, englobamos os testes que fizemos em funções."
   ]
  },
  {
   "cell_type": "code",
   "execution_count": 20,
   "metadata": {
    "id": "55fiXhOZrIsr"
   },
   "outputs": [],
   "source": [
    "def teste_nulos(data_frame, coluna=None):\n",
    "    \"\"\"Verifica se o DataFrame ou uma Coluna específica possui valores nulos.\n",
    "\n",
    "      Returns:\n",
    "        True se houver valores nulos, False caso contrário.\n",
    "    \"\"\"\n",
    "    if coluna is None:\n",
    "        return data_frame.isnull().values.any()\n",
    "    else:\n",
    "        return data_frame[coluna].isnull().values.any()\n",
    "\n",
    "\n",
    "def teste_eh_numero(data_frame, coluna):\n",
    "    \"\"\"Verifica se os valores de uma coluna são numéricos.\n",
    "\n",
    "    Returns:\n",
    "      True se algum dos valores não é numérico, False caso contrário.\n",
    "    \"\"\"\n",
    "    from pandas.api.types import is_numeric_dtype\n",
    "\n",
    "    return is_numeric_dtype(data_frame[coluna])\n",
    "\n",
    "\n",
    "def teste_vazio(data_frame, coluna=None):\n",
    "    \"\"\"Verifica se o DataFrame ou uma Coluna específica está vazio.\n",
    "\n",
    "      Returns:\n",
    "        True se estiver vazio, False caso contrário.\n",
    "    \"\"\"\n",
    "    if coluna is None:\n",
    "        return data_frame.empty\n",
    "    else:\n",
    "        return data_frame[coluna].empty\n",
    "\n",
    "\n",
    "def teste_condicional(data_frame, condicao):\n",
    "    \"\"\"Verifica se o DataFrame atende a uma condição.\n",
    "\n",
    "    Returns:\n",
    "      True se atender a condicão, False caso contrário.\n",
    "    \"\"\"\n",
    "    result = data_frame.query(condicao)\n",
    "    return not(result.empty)\n",
    "\n",
    "\n",
    "def teste_valores(data_frame, coluna, valores):\n",
    "    \"\"\"Verifica se os valores de uma coluna estão contidos em uma lista.\n",
    "\n",
    "    Returns:\n",
    "      True se estiver na lista, False caso contrário.\n",
    "    \"\"\"\n",
    "    result = data_frame[coluna].apply(lambda x: x in valores).any()\n",
    "    return result"
   ]
  },
  {
   "cell_type": "markdown",
   "metadata": {
    "id": "K7E7TQDqHkqC"
   },
   "source": [
    "A próxima etapa é criar uma função que irá chamar todas essas funções utilizando o comando [assert](https://www.hashtagtreinamentos.com/assert-em-python?gad_source=1&gclid=CjwKCAjwnK60BhA9EiwAmpHZwyuM4NTnpYRAah1I0XwTUgO6m60fiSbxWIM_RmxkwLHddA-Yl9DqPBoCbrQQAvD_BwE)\n",
    "\n",
    "O comando `assert` é utilizado para verificar se uma expressão é verdadeira. Se a expressão for verdadeira, o programa continua a execução normalmente. Se a expressão for falsa, o programa lança uma exceção do tipo `AssertionError`."
   ]
  },
  {
   "cell_type": "code",
   "execution_count": 21,
   "metadata": {
    "id": "N9f-MXeYJ3Gc"
   },
   "outputs": [],
   "source": [
    "def run_unit_test(data_frame):\n",
    "    try:\n",
    "      assert teste_nulos(data_frame) == False, 'Existem valores nulos'\n",
    "      assert teste_nulos(data_frame, 'Name') == False, 'Existem valores nulos na coluna Name'\n",
    "      assert teste_eh_numero(data_frame, 'Age'), 'A coluna Age não é do tipo numérico'\n",
    "      assert teste_vazio(data_frame) == False, 'O data_frame está vazio'\n",
    "      assert teste_condicional(data_frame, 'Age < 40') == True, 'Não tem menores de quarenta'\n",
    "      assert teste_valores(data_frame, 'Category', ['Category A', 'Category B', 'Category C']) == True, 'Categoria Invalida'\n",
    "      print('Testes finalizados com sucesso.')\n",
    "    except AssertionError as e:\n",
    "      print(e)\n"
   ]
  },
  {
   "cell_type": "markdown",
   "metadata": {
    "id": "G56ZBFLPNwSm"
   },
   "source": [
    "Tendo criado a função, agora só resta executa-la, observar as falhas, aplicar as correções e rodar os testes unitários novamente, até que todos passem."
   ]
  },
  {
   "cell_type": "markdown",
   "metadata": {},
   "source": [
    "#### 1a Execução"
   ]
  },
  {
   "cell_type": "code",
   "execution_count": 22,
   "metadata": {
    "id": "evQTN_GoeysZ"
   },
   "outputs": [
    {
     "name": "stdout",
     "output_type": "stream",
     "text": [
      "Existem valores nulos\n"
     ]
    }
   ],
   "source": [
    "run_unit_test(df)"
   ]
  },
  {
   "cell_type": "markdown",
   "metadata": {
    "id": "DntWFN4hfDyg"
   },
   "source": [
    "Para determinar isso, podemos apenas chamar a função info() do dataframe, que nos dá informações sobre o dataset, como o número de linhas, colunas, tipos de dados, etc."
   ]
  },
  {
   "cell_type": "code",
   "execution_count": 23,
   "metadata": {},
   "outputs": [
    {
     "name": "stdout",
     "output_type": "stream",
     "text": [
      "<class 'pandas.core.frame.DataFrame'>\n",
      "RangeIndex: 50 entries, 0 to 49\n",
      "Data columns (total 7 columns):\n",
      " #   Column      Non-Null Count  Dtype \n",
      "---  ------      --------------  ----- \n",
      " 0   Unnamed: 0  50 non-null     int64 \n",
      " 1   ID          50 non-null     int64 \n",
      " 2   Name        40 non-null     object\n",
      " 3   Age         50 non-null     int64 \n",
      " 4   Salary      50 non-null     int64 \n",
      " 5   Join_Date   50 non-null     object\n",
      " 6   Category    50 non-null     object\n",
      "dtypes: int64(4), object(3)\n",
      "memory usage: 2.9+ KB\n"
     ]
    }
   ],
   "source": [
    "df.info()"
   ]
  },
  {
   "cell_type": "markdown",
   "metadata": {},
   "source": [
    "O campo Name está com problema. Vamos corrigir isso."
   ]
  },
  {
   "cell_type": "code",
   "execution_count": 24,
   "metadata": {},
   "outputs": [],
   "source": [
    "df['Name'] = df['Name'].fillna('Desconhecido')"
   ]
  },
  {
   "cell_type": "markdown",
   "metadata": {},
   "source": [
    "Agora, vamos para a segunda execução."
   ]
  },
  {
   "cell_type": "markdown",
   "metadata": {},
   "source": [
    "#### 2a Execução"
   ]
  },
  {
   "cell_type": "code",
   "execution_count": 25,
   "metadata": {
    "id": "voIGq7knfQ8n"
   },
   "outputs": [
    {
     "name": "stdout",
     "output_type": "stream",
     "text": [
      "Testes finalizados com sucesso.\n"
     ]
    }
   ],
   "source": [
    "run_unit_test(df)"
   ]
  },
  {
   "cell_type": "markdown",
   "metadata": {},
   "source": [
    "Agora, é a coluna Age que está com problema. Vamos corrigir isso."
   ]
  },
  {
   "cell_type": "code",
   "execution_count": 26,
   "metadata": {},
   "outputs": [],
   "source": [
    "df['Age'] = pd.to_numeric(df['Age'])"
   ]
  },
  {
   "cell_type": "markdown",
   "metadata": {},
   "source": [
    "Vamos para a 3a execução."
   ]
  },
  {
   "cell_type": "markdown",
   "metadata": {},
   "source": [
    "#### 3a Execução"
   ]
  },
  {
   "cell_type": "code",
   "execution_count": 27,
   "metadata": {},
   "outputs": [
    {
     "name": "stdout",
     "output_type": "stream",
     "text": [
      "Testes finalizados com sucesso.\n"
     ]
    }
   ],
   "source": [
    "run_unit_test(df)"
   ]
  },
  {
   "cell_type": "markdown",
   "metadata": {},
   "source": [
    "Vamos ver os valores possíveis do campo Category."
   ]
  },
  {
   "cell_type": "code",
   "execution_count": 28,
   "metadata": {},
   "outputs": [
    {
     "data": {
      "text/plain": [
       "['Category B', 'Category C', 'Category A', 'No Category']"
      ]
     },
     "execution_count": 28,
     "metadata": {},
     "output_type": "execute_result"
    }
   ],
   "source": [
    "df['Category'].unique().tolist()"
   ]
  },
  {
   "cell_type": "markdown",
   "metadata": {},
   "source": [
    "Temos um No Category ali que está fazendo o teste falhar. Vamos corrigir isso. Mas qual seria a melhor correção? Trocar o valor por um dos válidos ou corrigir o teste? A resposta dependerá do contexto do negócio. Aqui, vamos assumir que corrigir o teste é a melhor alternativa.\n"
   ]
  },
  {
   "cell_type": "code",
   "execution_count": 31,
   "metadata": {},
   "outputs": [],
   "source": [
    "def run_unit_test(data_frame):\n",
    "  try:\n",
    "    assert teste_nulos(data_frame) == False, \"Existem valores nulos\"\n",
    "    assert (teste_nulos(data_frame, \"Name\") == False), \"Existem valores nulos na coluna Name\"\n",
    "    assert teste_eh_numero(data_frame, \"Age\"), \"A coluna Age não é do tipo numérico\"\n",
    "    assert teste_vazio(data_frame) == False, \"O data_frame está vazio\"\n",
    "    assert (teste_condicional(data_frame, \"Age < 40\") == True), \"Não tem menores de quarenta\"\n",
    "    assert (teste_valores(data_frame, \"Category\", [\"Category A\", \"Category B\", \"Category C\", \"No Category\"]) == True), \"Categoria Invalida\"\n",
    "    print(\"Testes finalizados com sucesso.\")\n",
    "  except AssertionError as e:\n",
    "    print(e)"
   ]
  },
  {
   "cell_type": "markdown",
   "metadata": {},
   "source": [
    "#### 4a Execução"
   ]
  },
  {
   "cell_type": "code",
   "execution_count": 30,
   "metadata": {},
   "outputs": [
    {
     "name": "stdout",
     "output_type": "stream",
     "text": [
      "Testes finalizados com sucesso.\n"
     ]
    }
   ],
   "source": [
    "run_unit_test(df)"
   ]
  },
  {
   "cell_type": "markdown",
   "metadata": {},
   "source": [
    "Agora sim, finalizamos o nosso processo de testar os dados. Agora, temos um dataset que está de acordo com as regras de negócio e podemos utilizá-lo para fazer análises."
   ]
  },
  {
   "cell_type": "markdown",
   "metadata": {},
   "source": [
    "# Conclusão"
   ]
  },
  {
   "cell_type": "markdown",
   "metadata": {},
   "source": [
    "Neste artigo, aprendemos como fazer testes unitários em dados utilizando a biblioteca Pandas. Vimos que é possível fazer testes simples, como verificar se o dataset está vazio, se uma coluna está vazia, se existem valores nulos, se os tipos de dados estão corretos, etc. Também vimos que é possível fazer testes mais complexos, como verificar se os valores de uma coluna estão dentro de um intervalo esperado, se obedecem a uma lógica dependente de outras colunas, etc.\n",
    "\n",
    "Aprendemos também como organizar esses testes em funções e como criar uma função que chama todas essas funções e verifica se os testes passaram ou não. Com isso, podemos garantir que os dados estão de acordo com as regras de negócio e que podemos utilizá-los para fazer análises.\n",
    "\n",
    "Mas é importante lembrar que os testes unitários não são a única forma de garantir a qualidade dos dados. É importante também fazer uma análise exploratória dos dados, verificar se os dados estão de acordo com o esperado, se não há outliers, se a distribuição dos dados está correta, etc. E, é claro, é importante também fazer validações manuais, para garantir que os dados estão corretos."
   ]
  },
  {
   "cell_type": "markdown",
   "metadata": {},
   "source": [
    "Um abraço e até a próxima,\n",
    "\n",
    "Walter."
   ]
  }
 ],
 "metadata": {
  "colab": {
   "provenance": [],
   "toc_visible": true
  },
  "kernelspec": {
   "display_name": "venv",
   "language": "python",
   "name": "python3"
  },
  "language_info": {
   "codemirror_mode": {
    "name": "ipython",
    "version": 3
   },
   "file_extension": ".py",
   "mimetype": "text/x-python",
   "name": "python",
   "nbconvert_exporter": "python",
   "pygments_lexer": "ipython3",
   "version": "3.12.3"
  },
  "widgets": {
   "application/vnd.jupyter.widget-state+json": {
    "01c46bda92bd47b6b7a779ad2c6cb5ba": {
     "model_module": "@jupyter-widgets/base",
     "model_module_version": "1.2.0",
     "model_name": "LayoutModel",
     "state": {
      "_model_module": "@jupyter-widgets/base",
      "_model_module_version": "1.2.0",
      "_model_name": "LayoutModel",
      "_view_count": null,
      "_view_module": "@jupyter-widgets/base",
      "_view_module_version": "1.2.0",
      "_view_name": "LayoutView",
      "align_content": null,
      "align_items": null,
      "align_self": null,
      "border": null,
      "bottom": null,
      "display": null,
      "flex": null,
      "flex_flow": null,
      "grid_area": null,
      "grid_auto_columns": null,
      "grid_auto_flow": null,
      "grid_auto_rows": null,
      "grid_column": null,
      "grid_gap": null,
      "grid_row": null,
      "grid_template_areas": null,
      "grid_template_columns": null,
      "grid_template_rows": null,
      "height": null,
      "justify_content": null,
      "justify_items": null,
      "left": null,
      "margin": null,
      "max_height": null,
      "max_width": null,
      "min_height": null,
      "min_width": null,
      "object_fit": null,
      "object_position": null,
      "order": null,
      "overflow": null,
      "overflow_x": null,
      "overflow_y": null,
      "padding": null,
      "right": null,
      "top": null,
      "visibility": null,
      "width": null
     }
    },
    "0c545ce43a11489f96bb6d6da0ea8939": {
     "model_module": "@jupyter-widgets/controls",
     "model_module_version": "1.5.0",
     "model_name": "HTMLModel",
     "state": {
      "_dom_classes": [],
      "_model_module": "@jupyter-widgets/controls",
      "_model_module_version": "1.5.0",
      "_model_name": "HTMLModel",
      "_view_count": null,
      "_view_module": "@jupyter-widgets/controls",
      "_view_module_version": "1.5.0",
      "_view_name": "HTMLView",
      "description": "",
      "description_tooltip": null,
      "layout": "IPY_MODEL_170103d58f32415f9078d3c94382a99c",
      "placeholder": "​",
      "style": "IPY_MODEL_ebbf0eb1e6304f7685595fe7eab7e57c",
      "value": " 1/1 [00:00&lt;00:00,  1.44it/s]"
     }
    },
    "0fa3e181b9ac4dcf96aaef1a6cbb66e7": {
     "model_module": "@jupyter-widgets/controls",
     "model_module_version": "1.5.0",
     "model_name": "HBoxModel",
     "state": {
      "_dom_classes": [],
      "_model_module": "@jupyter-widgets/controls",
      "_model_module_version": "1.5.0",
      "_model_name": "HBoxModel",
      "_view_count": null,
      "_view_module": "@jupyter-widgets/controls",
      "_view_module_version": "1.5.0",
      "_view_name": "HBoxView",
      "box_style": "",
      "children": [
       "IPY_MODEL_c5b19a631e304b5fa0eb2047342cf326",
       "IPY_MODEL_8342594d44f04b1a882929da4833779f",
       "IPY_MODEL_194c9d70619c4bb895c1ce90ee383990"
      ],
      "layout": "IPY_MODEL_8073b454ee764c26ad8523ccb4546859"
     }
    },
    "11c75d13df534914ab91e1c7bc034bb3": {
     "model_module": "@jupyter-widgets/controls",
     "model_module_version": "1.5.0",
     "model_name": "HTMLModel",
     "state": {
      "_dom_classes": [],
      "_model_module": "@jupyter-widgets/controls",
      "_model_module_version": "1.5.0",
      "_model_name": "HTMLModel",
      "_view_count": null,
      "_view_module": "@jupyter-widgets/controls",
      "_view_module_version": "1.5.0",
      "_view_name": "HTMLView",
      "description": "",
      "description_tooltip": null,
      "layout": "IPY_MODEL_abc903aa15d048d5b6277c9cb071368b",
      "placeholder": "​",
      "style": "IPY_MODEL_6788f476d42d4b13a7e8ae9db4c0270f",
      "value": " 32/32 [00:06&lt;00:00,  2.18it/s, Completed]"
     }
    },
    "166a2b3499c34ffbba313ad8dafacf64": {
     "model_module": "@jupyter-widgets/controls",
     "model_module_version": "1.5.0",
     "model_name": "ProgressStyleModel",
     "state": {
      "_model_module": "@jupyter-widgets/controls",
      "_model_module_version": "1.5.0",
      "_model_name": "ProgressStyleModel",
      "_view_count": null,
      "_view_module": "@jupyter-widgets/base",
      "_view_module_version": "1.2.0",
      "_view_name": "StyleView",
      "bar_color": null,
      "description_width": ""
     }
    },
    "170103d58f32415f9078d3c94382a99c": {
     "model_module": "@jupyter-widgets/base",
     "model_module_version": "1.2.0",
     "model_name": "LayoutModel",
     "state": {
      "_model_module": "@jupyter-widgets/base",
      "_model_module_version": "1.2.0",
      "_model_name": "LayoutModel",
      "_view_count": null,
      "_view_module": "@jupyter-widgets/base",
      "_view_module_version": "1.2.0",
      "_view_name": "LayoutView",
      "align_content": null,
      "align_items": null,
      "align_self": null,
      "border": null,
      "bottom": null,
      "display": null,
      "flex": null,
      "flex_flow": null,
      "grid_area": null,
      "grid_auto_columns": null,
      "grid_auto_flow": null,
      "grid_auto_rows": null,
      "grid_column": null,
      "grid_gap": null,
      "grid_row": null,
      "grid_template_areas": null,
      "grid_template_columns": null,
      "grid_template_rows": null,
      "height": null,
      "justify_content": null,
      "justify_items": null,
      "left": null,
      "margin": null,
      "max_height": null,
      "max_width": null,
      "min_height": null,
      "min_width": null,
      "object_fit": null,
      "object_position": null,
      "order": null,
      "overflow": null,
      "overflow_x": null,
      "overflow_y": null,
      "padding": null,
      "right": null,
      "top": null,
      "visibility": null,
      "width": null
     }
    },
    "194c9d70619c4bb895c1ce90ee383990": {
     "model_module": "@jupyter-widgets/controls",
     "model_module_version": "1.5.0",
     "model_name": "HTMLModel",
     "state": {
      "_dom_classes": [],
      "_model_module": "@jupyter-widgets/controls",
      "_model_module_version": "1.5.0",
      "_model_name": "HTMLModel",
      "_view_count": null,
      "_view_module": "@jupyter-widgets/controls",
      "_view_module_version": "1.5.0",
      "_view_name": "HTMLView",
      "description": "",
      "description_tooltip": null,
      "layout": "IPY_MODEL_1e783eaf12f54d119bc4755d4f3fceee",
      "placeholder": "​",
      "style": "IPY_MODEL_7427a9cd0a1e4d83908a2d8253ff1ac5",
      "value": " 1/1 [00:05&lt;00:00,  5.42s/it]"
     }
    },
    "1d75da058144444fb4792afa72c22661": {
     "model_module": "@jupyter-widgets/base",
     "model_module_version": "1.2.0",
     "model_name": "LayoutModel",
     "state": {
      "_model_module": "@jupyter-widgets/base",
      "_model_module_version": "1.2.0",
      "_model_name": "LayoutModel",
      "_view_count": null,
      "_view_module": "@jupyter-widgets/base",
      "_view_module_version": "1.2.0",
      "_view_name": "LayoutView",
      "align_content": null,
      "align_items": null,
      "align_self": null,
      "border": null,
      "bottom": null,
      "display": null,
      "flex": null,
      "flex_flow": null,
      "grid_area": null,
      "grid_auto_columns": null,
      "grid_auto_flow": null,
      "grid_auto_rows": null,
      "grid_column": null,
      "grid_gap": null,
      "grid_row": null,
      "grid_template_areas": null,
      "grid_template_columns": null,
      "grid_template_rows": null,
      "height": null,
      "justify_content": null,
      "justify_items": null,
      "left": null,
      "margin": null,
      "max_height": null,
      "max_width": null,
      "min_height": null,
      "min_width": null,
      "object_fit": null,
      "object_position": null,
      "order": null,
      "overflow": null,
      "overflow_x": null,
      "overflow_y": null,
      "padding": null,
      "right": null,
      "top": null,
      "visibility": null,
      "width": null
     }
    },
    "1e783eaf12f54d119bc4755d4f3fceee": {
     "model_module": "@jupyter-widgets/base",
     "model_module_version": "1.2.0",
     "model_name": "LayoutModel",
     "state": {
      "_model_module": "@jupyter-widgets/base",
      "_model_module_version": "1.2.0",
      "_model_name": "LayoutModel",
      "_view_count": null,
      "_view_module": "@jupyter-widgets/base",
      "_view_module_version": "1.2.0",
      "_view_name": "LayoutView",
      "align_content": null,
      "align_items": null,
      "align_self": null,
      "border": null,
      "bottom": null,
      "display": null,
      "flex": null,
      "flex_flow": null,
      "grid_area": null,
      "grid_auto_columns": null,
      "grid_auto_flow": null,
      "grid_auto_rows": null,
      "grid_column": null,
      "grid_gap": null,
      "grid_row": null,
      "grid_template_areas": null,
      "grid_template_columns": null,
      "grid_template_rows": null,
      "height": null,
      "justify_content": null,
      "justify_items": null,
      "left": null,
      "margin": null,
      "max_height": null,
      "max_width": null,
      "min_height": null,
      "min_width": null,
      "object_fit": null,
      "object_position": null,
      "order": null,
      "overflow": null,
      "overflow_x": null,
      "overflow_y": null,
      "padding": null,
      "right": null,
      "top": null,
      "visibility": null,
      "width": null
     }
    },
    "207692dbd3cf455a8a981535951330dc": {
     "model_module": "@jupyter-widgets/controls",
     "model_module_version": "1.5.0",
     "model_name": "DescriptionStyleModel",
     "state": {
      "_model_module": "@jupyter-widgets/controls",
      "_model_module_version": "1.5.0",
      "_model_name": "DescriptionStyleModel",
      "_view_count": null,
      "_view_module": "@jupyter-widgets/base",
      "_view_module_version": "1.2.0",
      "_view_name": "StyleView",
      "description_width": ""
     }
    },
    "394ea5129e6d47c0a847133dab0bc2f3": {
     "model_module": "@jupyter-widgets/controls",
     "model_module_version": "1.5.0",
     "model_name": "DescriptionStyleModel",
     "state": {
      "_model_module": "@jupyter-widgets/controls",
      "_model_module_version": "1.5.0",
      "_model_name": "DescriptionStyleModel",
      "_view_count": null,
      "_view_module": "@jupyter-widgets/base",
      "_view_module_version": "1.2.0",
      "_view_name": "StyleView",
      "description_width": ""
     }
    },
    "52978750824347cd948e786bb627b93e": {
     "model_module": "@jupyter-widgets/controls",
     "model_module_version": "1.5.0",
     "model_name": "HTMLModel",
     "state": {
      "_dom_classes": [],
      "_model_module": "@jupyter-widgets/controls",
      "_model_module_version": "1.5.0",
      "_model_name": "HTMLModel",
      "_view_count": null,
      "_view_module": "@jupyter-widgets/controls",
      "_view_module_version": "1.5.0",
      "_view_name": "HTMLView",
      "description": "",
      "description_tooltip": null,
      "layout": "IPY_MODEL_8818fc5ef5f7490889749f03624bd8c8",
      "placeholder": "​",
      "style": "IPY_MODEL_f2c9bf42011f456e8f97b3eb806ab0bb",
      "value": "Summarize dataset: 100%"
     }
    },
    "5ca3a9a35e20427eb41af372e2421690": {
     "model_module": "@jupyter-widgets/base",
     "model_module_version": "1.2.0",
     "model_name": "LayoutModel",
     "state": {
      "_model_module": "@jupyter-widgets/base",
      "_model_module_version": "1.2.0",
      "_model_name": "LayoutModel",
      "_view_count": null,
      "_view_module": "@jupyter-widgets/base",
      "_view_module_version": "1.2.0",
      "_view_name": "LayoutView",
      "align_content": null,
      "align_items": null,
      "align_self": null,
      "border": null,
      "bottom": null,
      "display": null,
      "flex": null,
      "flex_flow": null,
      "grid_area": null,
      "grid_auto_columns": null,
      "grid_auto_flow": null,
      "grid_auto_rows": null,
      "grid_column": null,
      "grid_gap": null,
      "grid_row": null,
      "grid_template_areas": null,
      "grid_template_columns": null,
      "grid_template_rows": null,
      "height": null,
      "justify_content": null,
      "justify_items": null,
      "left": null,
      "margin": null,
      "max_height": null,
      "max_width": null,
      "min_height": null,
      "min_width": null,
      "object_fit": null,
      "object_position": null,
      "order": null,
      "overflow": null,
      "overflow_x": null,
      "overflow_y": null,
      "padding": null,
      "right": null,
      "top": null,
      "visibility": null,
      "width": null
     }
    },
    "606d70862b904230b303d4c48d2beb9a": {
     "model_module": "@jupyter-widgets/base",
     "model_module_version": "1.2.0",
     "model_name": "LayoutModel",
     "state": {
      "_model_module": "@jupyter-widgets/base",
      "_model_module_version": "1.2.0",
      "_model_name": "LayoutModel",
      "_view_count": null,
      "_view_module": "@jupyter-widgets/base",
      "_view_module_version": "1.2.0",
      "_view_name": "LayoutView",
      "align_content": null,
      "align_items": null,
      "align_self": null,
      "border": null,
      "bottom": null,
      "display": null,
      "flex": null,
      "flex_flow": null,
      "grid_area": null,
      "grid_auto_columns": null,
      "grid_auto_flow": null,
      "grid_auto_rows": null,
      "grid_column": null,
      "grid_gap": null,
      "grid_row": null,
      "grid_template_areas": null,
      "grid_template_columns": null,
      "grid_template_rows": null,
      "height": null,
      "justify_content": null,
      "justify_items": null,
      "left": null,
      "margin": null,
      "max_height": null,
      "max_width": null,
      "min_height": null,
      "min_width": null,
      "object_fit": null,
      "object_position": null,
      "order": null,
      "overflow": null,
      "overflow_x": null,
      "overflow_y": null,
      "padding": null,
      "right": null,
      "top": null,
      "visibility": null,
      "width": null
     }
    },
    "6788f476d42d4b13a7e8ae9db4c0270f": {
     "model_module": "@jupyter-widgets/controls",
     "model_module_version": "1.5.0",
     "model_name": "DescriptionStyleModel",
     "state": {
      "_model_module": "@jupyter-widgets/controls",
      "_model_module_version": "1.5.0",
      "_model_name": "DescriptionStyleModel",
      "_view_count": null,
      "_view_module": "@jupyter-widgets/base",
      "_view_module_version": "1.2.0",
      "_view_name": "StyleView",
      "description_width": ""
     }
    },
    "6b390039fec943dea6fc55448d42364f": {
     "model_module": "@jupyter-widgets/controls",
     "model_module_version": "1.5.0",
     "model_name": "HBoxModel",
     "state": {
      "_dom_classes": [],
      "_model_module": "@jupyter-widgets/controls",
      "_model_module_version": "1.5.0",
      "_model_name": "HBoxModel",
      "_view_count": null,
      "_view_module": "@jupyter-widgets/controls",
      "_view_module_version": "1.5.0",
      "_view_name": "HBoxView",
      "box_style": "",
      "children": [
       "IPY_MODEL_cf13f526d4f941a7a40801a40f55c7c6",
       "IPY_MODEL_c43081f1601f4939a3b17623ceb4b156",
       "IPY_MODEL_0c545ce43a11489f96bb6d6da0ea8939"
      ],
      "layout": "IPY_MODEL_1d75da058144444fb4792afa72c22661"
     }
    },
    "71f4f649cbf041aeb9b47bf36b9cc70f": {
     "model_module": "@jupyter-widgets/base",
     "model_module_version": "1.2.0",
     "model_name": "LayoutModel",
     "state": {
      "_model_module": "@jupyter-widgets/base",
      "_model_module_version": "1.2.0",
      "_model_name": "LayoutModel",
      "_view_count": null,
      "_view_module": "@jupyter-widgets/base",
      "_view_module_version": "1.2.0",
      "_view_name": "LayoutView",
      "align_content": null,
      "align_items": null,
      "align_self": null,
      "border": null,
      "bottom": null,
      "display": null,
      "flex": null,
      "flex_flow": null,
      "grid_area": null,
      "grid_auto_columns": null,
      "grid_auto_flow": null,
      "grid_auto_rows": null,
      "grid_column": null,
      "grid_gap": null,
      "grid_row": null,
      "grid_template_areas": null,
      "grid_template_columns": null,
      "grid_template_rows": null,
      "height": null,
      "justify_content": null,
      "justify_items": null,
      "left": null,
      "margin": null,
      "max_height": null,
      "max_width": null,
      "min_height": null,
      "min_width": null,
      "object_fit": null,
      "object_position": null,
      "order": null,
      "overflow": null,
      "overflow_x": null,
      "overflow_y": null,
      "padding": null,
      "right": null,
      "top": null,
      "visibility": null,
      "width": null
     }
    },
    "7427a9cd0a1e4d83908a2d8253ff1ac5": {
     "model_module": "@jupyter-widgets/controls",
     "model_module_version": "1.5.0",
     "model_name": "DescriptionStyleModel",
     "state": {
      "_model_module": "@jupyter-widgets/controls",
      "_model_module_version": "1.5.0",
      "_model_name": "DescriptionStyleModel",
      "_view_count": null,
      "_view_module": "@jupyter-widgets/base",
      "_view_module_version": "1.2.0",
      "_view_name": "StyleView",
      "description_width": ""
     }
    },
    "745e16c2aad945579fb5b50e6f95f4ac": {
     "model_module": "@jupyter-widgets/controls",
     "model_module_version": "1.5.0",
     "model_name": "ProgressStyleModel",
     "state": {
      "_model_module": "@jupyter-widgets/controls",
      "_model_module_version": "1.5.0",
      "_model_name": "ProgressStyleModel",
      "_view_count": null,
      "_view_module": "@jupyter-widgets/base",
      "_view_module_version": "1.2.0",
      "_view_name": "StyleView",
      "bar_color": null,
      "description_width": ""
     }
    },
    "8073b454ee764c26ad8523ccb4546859": {
     "model_module": "@jupyter-widgets/base",
     "model_module_version": "1.2.0",
     "model_name": "LayoutModel",
     "state": {
      "_model_module": "@jupyter-widgets/base",
      "_model_module_version": "1.2.0",
      "_model_name": "LayoutModel",
      "_view_count": null,
      "_view_module": "@jupyter-widgets/base",
      "_view_module_version": "1.2.0",
      "_view_name": "LayoutView",
      "align_content": null,
      "align_items": null,
      "align_self": null,
      "border": null,
      "bottom": null,
      "display": null,
      "flex": null,
      "flex_flow": null,
      "grid_area": null,
      "grid_auto_columns": null,
      "grid_auto_flow": null,
      "grid_auto_rows": null,
      "grid_column": null,
      "grid_gap": null,
      "grid_row": null,
      "grid_template_areas": null,
      "grid_template_columns": null,
      "grid_template_rows": null,
      "height": null,
      "justify_content": null,
      "justify_items": null,
      "left": null,
      "margin": null,
      "max_height": null,
      "max_width": null,
      "min_height": null,
      "min_width": null,
      "object_fit": null,
      "object_position": null,
      "order": null,
      "overflow": null,
      "overflow_x": null,
      "overflow_y": null,
      "padding": null,
      "right": null,
      "top": null,
      "visibility": null,
      "width": null
     }
    },
    "8250c85b57e343da8cf81cc094e10d77": {
     "model_module": "@jupyter-widgets/controls",
     "model_module_version": "1.5.0",
     "model_name": "FloatProgressModel",
     "state": {
      "_dom_classes": [],
      "_model_module": "@jupyter-widgets/controls",
      "_model_module_version": "1.5.0",
      "_model_name": "FloatProgressModel",
      "_view_count": null,
      "_view_module": "@jupyter-widgets/controls",
      "_view_module_version": "1.5.0",
      "_view_name": "ProgressView",
      "bar_style": "success",
      "description": "",
      "description_tooltip": null,
      "layout": "IPY_MODEL_86f335e5f2a34d918c5c55e42079649e",
      "max": 5,
      "min": 0,
      "orientation": "horizontal",
      "style": "IPY_MODEL_745e16c2aad945579fb5b50e6f95f4ac",
      "value": 5
     }
    },
    "8342594d44f04b1a882929da4833779f": {
     "model_module": "@jupyter-widgets/controls",
     "model_module_version": "1.5.0",
     "model_name": "FloatProgressModel",
     "state": {
      "_dom_classes": [],
      "_model_module": "@jupyter-widgets/controls",
      "_model_module_version": "1.5.0",
      "_model_name": "FloatProgressModel",
      "_view_count": null,
      "_view_module": "@jupyter-widgets/controls",
      "_view_module_version": "1.5.0",
      "_view_name": "ProgressView",
      "bar_style": "success",
      "description": "",
      "description_tooltip": null,
      "layout": "IPY_MODEL_606d70862b904230b303d4c48d2beb9a",
      "max": 1,
      "min": 0,
      "orientation": "horizontal",
      "style": "IPY_MODEL_f0761e2bb3784e0797e25289798b309f",
      "value": 1
     }
    },
    "86f335e5f2a34d918c5c55e42079649e": {
     "model_module": "@jupyter-widgets/base",
     "model_module_version": "1.2.0",
     "model_name": "LayoutModel",
     "state": {
      "_model_module": "@jupyter-widgets/base",
      "_model_module_version": "1.2.0",
      "_model_name": "LayoutModel",
      "_view_count": null,
      "_view_module": "@jupyter-widgets/base",
      "_view_module_version": "1.2.0",
      "_view_name": "LayoutView",
      "align_content": null,
      "align_items": null,
      "align_self": null,
      "border": null,
      "bottom": null,
      "display": null,
      "flex": null,
      "flex_flow": null,
      "grid_area": null,
      "grid_auto_columns": null,
      "grid_auto_flow": null,
      "grid_auto_rows": null,
      "grid_column": null,
      "grid_gap": null,
      "grid_row": null,
      "grid_template_areas": null,
      "grid_template_columns": null,
      "grid_template_rows": null,
      "height": null,
      "justify_content": null,
      "justify_items": null,
      "left": null,
      "margin": null,
      "max_height": null,
      "max_width": null,
      "min_height": null,
      "min_width": null,
      "object_fit": null,
      "object_position": null,
      "order": null,
      "overflow": null,
      "overflow_x": null,
      "overflow_y": null,
      "padding": null,
      "right": null,
      "top": null,
      "visibility": null,
      "width": null
     }
    },
    "8818fc5ef5f7490889749f03624bd8c8": {
     "model_module": "@jupyter-widgets/base",
     "model_module_version": "1.2.0",
     "model_name": "LayoutModel",
     "state": {
      "_model_module": "@jupyter-widgets/base",
      "_model_module_version": "1.2.0",
      "_model_name": "LayoutModel",
      "_view_count": null,
      "_view_module": "@jupyter-widgets/base",
      "_view_module_version": "1.2.0",
      "_view_name": "LayoutView",
      "align_content": null,
      "align_items": null,
      "align_self": null,
      "border": null,
      "bottom": null,
      "display": null,
      "flex": null,
      "flex_flow": null,
      "grid_area": null,
      "grid_auto_columns": null,
      "grid_auto_flow": null,
      "grid_auto_rows": null,
      "grid_column": null,
      "grid_gap": null,
      "grid_row": null,
      "grid_template_areas": null,
      "grid_template_columns": null,
      "grid_template_rows": null,
      "height": null,
      "justify_content": null,
      "justify_items": null,
      "left": null,
      "margin": null,
      "max_height": null,
      "max_width": null,
      "min_height": null,
      "min_width": null,
      "object_fit": null,
      "object_position": null,
      "order": null,
      "overflow": null,
      "overflow_x": null,
      "overflow_y": null,
      "padding": null,
      "right": null,
      "top": null,
      "visibility": null,
      "width": null
     }
    },
    "abc903aa15d048d5b6277c9cb071368b": {
     "model_module": "@jupyter-widgets/base",
     "model_module_version": "1.2.0",
     "model_name": "LayoutModel",
     "state": {
      "_model_module": "@jupyter-widgets/base",
      "_model_module_version": "1.2.0",
      "_model_name": "LayoutModel",
      "_view_count": null,
      "_view_module": "@jupyter-widgets/base",
      "_view_module_version": "1.2.0",
      "_view_name": "LayoutView",
      "align_content": null,
      "align_items": null,
      "align_self": null,
      "border": null,
      "bottom": null,
      "display": null,
      "flex": null,
      "flex_flow": null,
      "grid_area": null,
      "grid_auto_columns": null,
      "grid_auto_flow": null,
      "grid_auto_rows": null,
      "grid_column": null,
      "grid_gap": null,
      "grid_row": null,
      "grid_template_areas": null,
      "grid_template_columns": null,
      "grid_template_rows": null,
      "height": null,
      "justify_content": null,
      "justify_items": null,
      "left": null,
      "margin": null,
      "max_height": null,
      "max_width": null,
      "min_height": null,
      "min_width": null,
      "object_fit": null,
      "object_position": null,
      "order": null,
      "overflow": null,
      "overflow_x": null,
      "overflow_y": null,
      "padding": null,
      "right": null,
      "top": null,
      "visibility": null,
      "width": null
     }
    },
    "b76851126aff4de1bceb5a74d26dbbac": {
     "model_module": "@jupyter-widgets/base",
     "model_module_version": "1.2.0",
     "model_name": "LayoutModel",
     "state": {
      "_model_module": "@jupyter-widgets/base",
      "_model_module_version": "1.2.0",
      "_model_name": "LayoutModel",
      "_view_count": null,
      "_view_module": "@jupyter-widgets/base",
      "_view_module_version": "1.2.0",
      "_view_name": "LayoutView",
      "align_content": null,
      "align_items": null,
      "align_self": null,
      "border": null,
      "bottom": null,
      "display": null,
      "flex": null,
      "flex_flow": null,
      "grid_area": null,
      "grid_auto_columns": null,
      "grid_auto_flow": null,
      "grid_auto_rows": null,
      "grid_column": null,
      "grid_gap": null,
      "grid_row": null,
      "grid_template_areas": null,
      "grid_template_columns": null,
      "grid_template_rows": null,
      "height": null,
      "justify_content": null,
      "justify_items": null,
      "left": null,
      "margin": null,
      "max_height": null,
      "max_width": null,
      "min_height": null,
      "min_width": null,
      "object_fit": null,
      "object_position": null,
      "order": null,
      "overflow": null,
      "overflow_x": null,
      "overflow_y": null,
      "padding": null,
      "right": null,
      "top": null,
      "visibility": null,
      "width": null
     }
    },
    "c43081f1601f4939a3b17623ceb4b156": {
     "model_module": "@jupyter-widgets/controls",
     "model_module_version": "1.5.0",
     "model_name": "FloatProgressModel",
     "state": {
      "_dom_classes": [],
      "_model_module": "@jupyter-widgets/controls",
      "_model_module_version": "1.5.0",
      "_model_name": "FloatProgressModel",
      "_view_count": null,
      "_view_module": "@jupyter-widgets/controls",
      "_view_module_version": "1.5.0",
      "_view_name": "ProgressView",
      "bar_style": "success",
      "description": "",
      "description_tooltip": null,
      "layout": "IPY_MODEL_b76851126aff4de1bceb5a74d26dbbac",
      "max": 1,
      "min": 0,
      "orientation": "horizontal",
      "style": "IPY_MODEL_166a2b3499c34ffbba313ad8dafacf64",
      "value": 1
     }
    },
    "c5b19a631e304b5fa0eb2047342cf326": {
     "model_module": "@jupyter-widgets/controls",
     "model_module_version": "1.5.0",
     "model_name": "HTMLModel",
     "state": {
      "_dom_classes": [],
      "_model_module": "@jupyter-widgets/controls",
      "_model_module_version": "1.5.0",
      "_model_name": "HTMLModel",
      "_view_count": null,
      "_view_module": "@jupyter-widgets/controls",
      "_view_module_version": "1.5.0",
      "_view_name": "HTMLView",
      "description": "",
      "description_tooltip": null,
      "layout": "IPY_MODEL_5ca3a9a35e20427eb41af372e2421690",
      "placeholder": "​",
      "style": "IPY_MODEL_207692dbd3cf455a8a981535951330dc",
      "value": "Generate report structure: 100%"
     }
    },
    "cf13f526d4f941a7a40801a40f55c7c6": {
     "model_module": "@jupyter-widgets/controls",
     "model_module_version": "1.5.0",
     "model_name": "HTMLModel",
     "state": {
      "_dom_classes": [],
      "_model_module": "@jupyter-widgets/controls",
      "_model_module_version": "1.5.0",
      "_model_name": "HTMLModel",
      "_view_count": null,
      "_view_module": "@jupyter-widgets/controls",
      "_view_module_version": "1.5.0",
      "_view_name": "HTMLView",
      "description": "",
      "description_tooltip": null,
      "layout": "IPY_MODEL_01c46bda92bd47b6b7a779ad2c6cb5ba",
      "placeholder": "​",
      "style": "IPY_MODEL_394ea5129e6d47c0a847133dab0bc2f3",
      "value": "Render HTML: 100%"
     }
    },
    "e67317ef43194a2f950b2b7b3cdeec92": {
     "model_module": "@jupyter-widgets/controls",
     "model_module_version": "1.5.0",
     "model_name": "HBoxModel",
     "state": {
      "_dom_classes": [],
      "_model_module": "@jupyter-widgets/controls",
      "_model_module_version": "1.5.0",
      "_model_name": "HBoxModel",
      "_view_count": null,
      "_view_module": "@jupyter-widgets/controls",
      "_view_module_version": "1.5.0",
      "_view_name": "HBoxView",
      "box_style": "",
      "children": [
       "IPY_MODEL_52978750824347cd948e786bb627b93e",
       "IPY_MODEL_8250c85b57e343da8cf81cc094e10d77",
       "IPY_MODEL_11c75d13df534914ab91e1c7bc034bb3"
      ],
      "layout": "IPY_MODEL_71f4f649cbf041aeb9b47bf36b9cc70f"
     }
    },
    "ebbf0eb1e6304f7685595fe7eab7e57c": {
     "model_module": "@jupyter-widgets/controls",
     "model_module_version": "1.5.0",
     "model_name": "DescriptionStyleModel",
     "state": {
      "_model_module": "@jupyter-widgets/controls",
      "_model_module_version": "1.5.0",
      "_model_name": "DescriptionStyleModel",
      "_view_count": null,
      "_view_module": "@jupyter-widgets/base",
      "_view_module_version": "1.2.0",
      "_view_name": "StyleView",
      "description_width": ""
     }
    },
    "f0761e2bb3784e0797e25289798b309f": {
     "model_module": "@jupyter-widgets/controls",
     "model_module_version": "1.5.0",
     "model_name": "ProgressStyleModel",
     "state": {
      "_model_module": "@jupyter-widgets/controls",
      "_model_module_version": "1.5.0",
      "_model_name": "ProgressStyleModel",
      "_view_count": null,
      "_view_module": "@jupyter-widgets/base",
      "_view_module_version": "1.2.0",
      "_view_name": "StyleView",
      "bar_color": null,
      "description_width": ""
     }
    },
    "f2c9bf42011f456e8f97b3eb806ab0bb": {
     "model_module": "@jupyter-widgets/controls",
     "model_module_version": "1.5.0",
     "model_name": "DescriptionStyleModel",
     "state": {
      "_model_module": "@jupyter-widgets/controls",
      "_model_module_version": "1.5.0",
      "_model_name": "DescriptionStyleModel",
      "_view_count": null,
      "_view_module": "@jupyter-widgets/base",
      "_view_module_version": "1.2.0",
      "_view_name": "StyleView",
      "description_width": ""
     }
    }
   }
  }
 },
 "nbformat": 4,
 "nbformat_minor": 0
}
