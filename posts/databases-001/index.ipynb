{
 "cells": [
  {
   "cell_type": "raw",
   "metadata": {
    "vscode": {
     "languageId": "raw"
    }
   },
   "source": [
    "---\n",
    "title: \"[VDP] Aula 14 - Pandas e Bancos de Dados\"\n",
    "author: \"Walter R. Paixão-Côrtes\"\n",
    "date: \"2023-02-16\"\n",
    "categories: [Visualização, Python, Pandas, Bancos de Dados]\n",
    "image: /library/concepts/programming_practice.jpg\n",
    "toc: true\n",
    "description: Maximizando o volume de dados para processar\n",
    "draft: true\n",
    "\n",
    "---"
   ]
  },
  {
   "attachments": {},
   "cell_type": "markdown",
   "metadata": {},
   "source": [
    "## Introdução"
   ]
  },
  {
   "attachments": {},
   "cell_type": "markdown",
   "metadata": {},
   "source": [
    "Olá Cientista de Dados! \n",
    "\n",
    "Estamos chegando quase no fim do nosso curso, então vamos fazer a preparação para o que vem por aí!\n",
    "\n",
    "Durante nosso aprendizado de Visualização de Dados, utilizamos conjuntos de dados que são armazenados em arquivos, do tipo CSV ou JSON (os mais populares), ou ainda modelos mais avançados como PARQUET.\n",
    "\n",
    "Mas quando o volume de dados cresce exponencialmente ou você está em um ambiente corporativo, é necessário saber manipular bancos de dados. Bancos de dados são uma tecnologia incrível, que nos permite armazenar nossos dados de maneira simples e segura, distribuída e que nos permite, quando bem configurado, recuperar essa informação muito rapidamente. \n",
    "\n",
    "O que torna os bancos de dados tão interessantes de usar é a linguagem SQL, que nos permite armazenar e recuperar informações de maneira estruturada e eficente. A linguagem SQL é tão importante para o ecossistema de bancos de dados, que ela já está integrada a maior parte das outras linguagens de programação, seja através de bibliotecas que permitem executar instruções SQL a partir de códigos C#, Java, Python e assim por diante, ou através de integrações mais profundas, como alternar entre SQL e Python em um Jupyter notebook.\n",
    "\n",
    "E mesmo após esse texto motivacional, você deve estar se perguntando: o que vou fazer com esse conhecimento, se não entendo nada de banco de dados? Então, essa aula pode ser pulada sem problema por agora, mas é aconselhável que você volte assim que aprender mais sobre bancos de dados.\n",
    "\n",
    "E se você já conhece o básico, continue aqui com a gente!"
   ]
  },
  {
   "attachments": {},
   "cell_type": "markdown",
   "metadata": {},
   "source": [
    "## Problema"
   ]
  },
  {
   "attachments": {},
   "cell_type": "markdown",
   "metadata": {},
   "source": [
    "Imagine a seguinte situação: você tem um arquivo realmente grande, com vários milhões de linhas, que você precisa carregar em um DataFrame pandas para fazer algumas análises. Ao tentar carregar o arquivo utilizando o método tradicional do pandas, usando a função `read_csv()`, tudo parece estar funcionando normal, mas após executar algumas operações, seu notebook começa a reclamar de falta de memória para processar os dados.\n",
    "\n",
    "Porque isso aconteceu? Isso é uma dos poucos problemas de pandas, cada transformação que fazemos em pandas normalmente gera um novo DataFrame, o que vai consumindo cada vez mais memória. Existe no próprio pandas uma maneira de resolver isso: muitas funções tem um parâmetro `inplace` que quando setamos o valor para `True`, ele altera o DataFrame corrente. \n",
    "\n",
    "Seguindo o nosso cenário, adicionamos o parâmetro em algumas de nossas transformações e realmente a utilização da memória se reduz significativamente. No entanto, ao conseguirmos rodar toda a rotina, percebemos que ela está com uma performance bem ruim.\n",
    "\n",
    "Neste caso, podemos tentar outras alternativas, como trocar pandas por Polars, que é outra biblioteca de manipulação e transformação de dados, ou utilizar bancos de dados."
   ]
  },
  {
   "attachments": {},
   "cell_type": "markdown",
   "metadata": {},
   "source": [
    "## Passo a Passo"
   ]
  },
  {
   "attachments": {},
   "cell_type": "markdown",
   "metadata": {},
   "source": [
    "Existem duas maneiras de se trabalhar com bancos de dados no nosso cenário: \n",
    "- Carregamos todos os dados em banco de dados, e partir daí:\n",
    "  - Fazemos todas as análises utilizando uma ferramenta de SQL ou algo similar\n",
    "  - Fazemos as análises misturando SQL e outra linguagem de programação, tanto em um script/programa ou em um notebook.\n",
    "\n",
    "Nesta última aula, iremos abordar como utilizar SQL em conjunto com Python em nossos notebooks no Google Colab."
   ]
  },
  {
   "attachments": {},
   "cell_type": "markdown",
   "metadata": {},
   "source": [
    "### Passo 1 - Importar as bibliotecas que iremos utilizar"
   ]
  },
  {
   "cell_type": "code",
   "execution_count": 1,
   "metadata": {},
   "outputs": [],
   "source": [
    "import pandas as pd\n",
    "import os\n",
    "import matplotlib.pyplot as plt\n",
    "import seaborn as sns\n",
    "import duckdb\n",
    "\n",
    "%reload_ext sql"
   ]
  },
  {
   "attachments": {},
   "cell_type": "markdown",
   "metadata": {},
   "source": [
    "Temos duas novidades: estamos importando uma nova biblioteca, chamada `duckdb`, que nos permitirá criar um banco de dados otimizado para análises. Você pode utilizar qualquer banco de dados.\n",
    "\n",
    "A outra novidade é o comando `%reload_ext sql`. Esse comando carrega no contexto do notebook as bibliotecas `jupysql` e `SqlAlchemy` que nos permitem conectar a diversos bancos de dados e escrever SQL direto no notebook.\n",
    "\n",
    "Também temos mais algumas configurações que precisam ser feitas:"
   ]
  },
  {
   "cell_type": "code",
   "execution_count": 2,
   "metadata": {},
   "outputs": [],
   "source": [
    "%config SqlMagic.autopandas = True\n",
    "%config SqlMagic.feedback = False\n",
    "%config SqlMagic.displaycon = False"
   ]
  },
  {
   "attachments": {},
   "cell_type": "markdown",
   "metadata": {},
   "source": [
    "### Passo 2 - Iniciar um novo banco de dados"
   ]
  },
  {
   "cell_type": "code",
   "execution_count": 3,
   "metadata": {},
   "outputs": [],
   "source": [
    "if os.path.exists('./db.duckdb'):\n",
    "  print('Este banco de dados já foi criado, vamos apaga-lo!')\n",
    "  os.remove('./db.duckdb')"
   ]
  },
  {
   "cell_type": "code",
   "execution_count": 4,
   "metadata": {},
   "outputs": [],
   "source": [
    "%sql duckdb:///db.duckdb"
   ]
  },
  {
   "attachments": {},
   "cell_type": "markdown",
   "metadata": {},
   "source": [
    "Aqui também temos uma novidade: estamos criando um novo banco de dados, indicando na conexão que é do tipo duckdb. Este banco será criado na pasta onde estou executando, no meu computador local, ou no caso do Google Colab, na pasta padrão de arquivos (content)."
   ]
  },
  {
   "attachments": {},
   "cell_type": "markdown",
   "metadata": {},
   "source": [
    "### Passo 3 - Carregar os dados"
   ]
  },
  {
   "attachments": {},
   "cell_type": "markdown",
   "metadata": {},
   "source": [
    "\n",
    "Para isso, utilizamos a sintaxe `%sql` que nos permite utilizar uma linha de comando SQL em meio a código Python, como na situação abaixo:"
   ]
  },
  {
   "cell_type": "code",
   "execution_count": 5,
   "metadata": {},
   "outputs": [
    {
     "data": {
      "text/html": [
       "<div>\n",
       "<style scoped>\n",
       "    .dataframe tbody tr th:only-of-type {\n",
       "        vertical-align: middle;\n",
       "    }\n",
       "\n",
       "    .dataframe tbody tr th {\n",
       "        vertical-align: top;\n",
       "    }\n",
       "\n",
       "    .dataframe thead th {\n",
       "        text-align: right;\n",
       "    }\n",
       "</style>\n",
       "<table border=\"1\" class=\"dataframe\">\n",
       "  <thead>\n",
       "    <tr style=\"text-align: right;\">\n",
       "      <th></th>\n",
       "      <th>Success</th>\n",
       "    </tr>\n",
       "  </thead>\n",
       "  <tbody>\n",
       "  </tbody>\n",
       "</table>\n",
       "</div>"
      ],
      "text/plain": [
       "Empty DataFrame\n",
       "Columns: [Success]\n",
       "Index: []"
      ]
     },
     "execution_count": 5,
     "metadata": {},
     "output_type": "execute_result"
    }
   ],
   "source": [
    "table_name = 'test_tbl2'\n",
    "file_name = 'teste.txt'\n",
    "\n",
    "%sql create or replace table {{ table_name }} as select * from read_csv_auto('{{ file_name }}')"
   ]
  },
  {
   "attachments": {},
   "cell_type": "markdown",
   "metadata": {},
   "source": [
    "O código acima cria uma tabela no banco de dados com o conteúdo arquivo que foi referenciado. Ao final, mostra a contagem de linhas que foram carregadas."
   ]
  },
  {
   "attachments": {},
   "cell_type": "markdown",
   "metadata": {},
   "source": [
    "Quando queremos usar apenas SQL na célula, podemos utilizar o `%%sql`:"
   ]
  },
  {
   "cell_type": "code",
   "execution_count": 6,
   "metadata": {},
   "outputs": [
    {
     "data": {
      "text/html": [
       "<div>\n",
       "<style scoped>\n",
       "    .dataframe tbody tr th:only-of-type {\n",
       "        vertical-align: middle;\n",
       "    }\n",
       "\n",
       "    .dataframe tbody tr th {\n",
       "        vertical-align: top;\n",
       "    }\n",
       "\n",
       "    .dataframe thead th {\n",
       "        text-align: right;\n",
       "    }\n",
       "</style>\n",
       "<table border=\"1\" class=\"dataframe\">\n",
       "  <thead>\n",
       "    <tr style=\"text-align: right;\">\n",
       "      <th></th>\n",
       "      <th>c1</th>\n",
       "      <th>c2</th>\n",
       "    </tr>\n",
       "  </thead>\n",
       "  <tbody>\n",
       "    <tr>\n",
       "      <th>0</th>\n",
       "      <td>1</td>\n",
       "      <td>'test'</td>\n",
       "    </tr>\n",
       "    <tr>\n",
       "      <th>1</th>\n",
       "      <td>2</td>\n",
       "      <td>'test2'</td>\n",
       "    </tr>\n",
       "  </tbody>\n",
       "</table>\n",
       "</div>"
      ],
      "text/plain": [
       "   c1       c2\n",
       "0   1   'test'\n",
       "1   2  'test2'"
      ]
     },
     "execution_count": 6,
     "metadata": {},
     "output_type": "execute_result"
    }
   ],
   "source": [
    "%%sql\n",
    "select * \n",
    "from test_tbl2"
   ]
  },
  {
   "attachments": {},
   "cell_type": "markdown",
   "metadata": {},
   "source": [
    "Agora, depois desta pequena demonstração, vamos ao nosso exemplo mais real: vamos carregar os nossos dados em uma tabela no banco de dados, realizar uma SQL query para extrair da tabela apenas as linhas que interessam para nossa análise, e então, fazer a plotagem dos dados."
   ]
  },
  {
   "attachments": {},
   "cell_type": "markdown",
   "metadata": {},
   "source": [
    "### Passo 4 - Vendo um exemplo do início ao fim"
   ]
  },
  {
   "cell_type": "code",
   "execution_count": 7,
   "metadata": {},
   "outputs": [],
   "source": [
    "# Código para baixar um arquivo da internet\n",
    "import requests as r # importa a biblioteca de manipulação de requests\n",
    "\n",
    "# faz uma chamada para um arquivo texto que está na internet\n",
    "conteudo_arquivo = r.get(\n",
    "    \"https://github.com/labeduc/datasets/blob/main/pokemons/pokemons.csv?raw=true\"\n",
    ")\n",
    "\n",
    "# Grava o conteúdo que foi baixado em um arquivo local\n",
    "with open('pokemons.csv', 'w', encoding='utf-8') as fw:\n",
    "    fw.write(conteudo_arquivo.text)"
   ]
  },
  {
   "cell_type": "code",
   "execution_count": 8,
   "metadata": {},
   "outputs": [
    {
     "data": {
      "text/html": [
       "<div>\n",
       "<style scoped>\n",
       "    .dataframe tbody tr th:only-of-type {\n",
       "        vertical-align: middle;\n",
       "    }\n",
       "\n",
       "    .dataframe tbody tr th {\n",
       "        vertical-align: top;\n",
       "    }\n",
       "\n",
       "    .dataframe thead th {\n",
       "        text-align: right;\n",
       "    }\n",
       "</style>\n",
       "<table border=\"1\" class=\"dataframe\">\n",
       "  <thead>\n",
       "    <tr style=\"text-align: right;\">\n",
       "      <th></th>\n",
       "      <th>Success</th>\n",
       "    </tr>\n",
       "  </thead>\n",
       "  <tbody>\n",
       "  </tbody>\n",
       "</table>\n",
       "</div>"
      ],
      "text/plain": [
       "Empty DataFrame\n",
       "Columns: [Success]\n",
       "Index: []"
      ]
     },
     "execution_count": 8,
     "metadata": {},
     "output_type": "execute_result"
    }
   ],
   "source": [
    "# Carregando dados no arquivo.\n",
    "%sql create or replace table pokemons as select * from read_csv_auto('pokemons.csv')"
   ]
  },
  {
   "cell_type": "code",
   "execution_count": 9,
   "metadata": {},
   "outputs": [],
   "source": [
    "# Agora precisamos trazer o resultado da media de ataque por geração de pokemon\n",
    "pokemons_agg = None\n",
    "\n",
    "%sql pokemons_agg << SELECT Generation as Generation, AVG(Att) as AvgAtt FROM pokemons group by Generation"
   ]
  },
  {
   "attachments": {},
   "cell_type": "markdown",
   "metadata": {},
   "source": [
    "E a partir daqui, podemos começar a plotar nosso gráfico."
   ]
  },
  {
   "cell_type": "code",
   "execution_count": 11,
   "metadata": {},
   "outputs": [
    {
     "data": {
      "text/plain": [
       "<Axes: xlabel='Generation', ylabel='AvgAtt'>"
      ]
     },
     "execution_count": 11,
     "metadata": {},
     "output_type": "execute_result"
    },
    {
     "data": {
      "image/png": "[encoded data removed]",
      "text/plain": [
       "<Figure size 640x480 with 1 Axes>"
      ]
     },
     "metadata": {},
     "output_type": "display_data"
    }
   ],
   "source": [
    "sns.barplot(pokemons_agg, x='Generation', y='AvgAtt')"
   ]
  },
  {
   "attachments": {},
   "cell_type": "markdown",
   "metadata": {},
   "source": [
    "### Passo 5 - Fechando a conexão"
   ]
  },
  {
   "cell_type": "code",
   "execution_count": 12,
   "metadata": {},
   "outputs": [],
   "source": [
    "%sql --conn --close"
   ]
  },
  {
   "attachments": {},
   "cell_type": "markdown",
   "metadata": {},
   "source": [
    "## Conclusão"
   ]
  },
  {
   "attachments": {},
   "cell_type": "markdown",
   "metadata": {},
   "source": [
    "Neste artigo, conseguimos aprender como podemos integrar bancos de dados em nossos notebooks para tirar vantagem de sua grande capacidade de armazenamento e da linguagem SQL para realizar transformações nos dados e gerar nossos DataFrames.\n",
    "\n",
    "Separamos alguns links para você se familiarizar mais com o assunto de bancos de dados:\n",
    "- Documentação [DuckDb](https://duckdb.org/docs/)\n",
    "- Porque usar DuckDb? [Leia aqui uma resposta](https://duckdb.org/why_duckdb)\n",
    "- [Rodando SQL em Jupyter notebooks-usando JUPYSQL (com duckdb e mysql)](https://medium.com/towards-data-science/running-sql-queries-in-jupyter-notebook-using-jupysql-duckdb-and-mysql-3c53fbe40f8d)"
   ]
  }
 ],
 "metadata": {
  "kernelspec": {
   "display_name": "venv",
   "language": "python",
   "name": "python3"
  },
  "language_info": {
   "codemirror_mode": {
    "name": "ipython",
    "version": 3
   },
   "file_extension": ".py",
   "mimetype": "text/x-python",
   "name": "python",
   "nbconvert_exporter": "python",
   "pygments_lexer": "ipython3",
   "version": "3.12.3"
  },
  "orig_nbformat": 4
 },
 "nbformat": 4,
 "nbformat_minor": 2
}
